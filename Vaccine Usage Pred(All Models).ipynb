{
 "cells": [
  {
   "cell_type": "markdown",
   "metadata": {},
   "source": [
    "## H1N1 Vaccine Usage Prediction\n",
    "\n",
    "This model focuses on understanding the subset of population who got themselves vaccinated against the seasonal flu(H1N1 flu) and also aims to understand the factors which influences the chances of people getting themselves vaccinated.\n",
    "\n"
   ]
  },
  {
   "cell_type": "code",
   "execution_count": 78,
   "metadata": {},
   "outputs": [],
   "source": [
    "#Importing the required packages\n",
    "\n",
    "import os\n",
    "import pandas as pd\n",
    "import numpy as np\n",
    "import matplotlib.pyplot as plt\n",
    "import seaborn as sns\n",
    "from sklearn import metrics\n",
    "from sklearn.model_selection import train_test_split, RandomizedSearchCV, GridSearchCV\n",
    "from sklearn.preprocessing import StandardScaler,  MinMaxScaler\n",
    "import warnings\n",
    "warnings.filterwarnings(\"ignore\",category=FutureWarning)\n",
    "from xgboost import XGBClassifier\n",
    "from sklearn.linear_model import LogisticRegression\n",
    "from sklearn.ensemble import AdaBoostClassifier\n",
    "from sklearn.tree import DecisionTreeClassifier\n",
    "from sklearn.ensemble import RandomForestRegressor\n",
    "from sklearn.ensemble import RandomForestClassifier\n",
    "from sklearn.neighbors import KNeighborsClassifier\n"
   ]
  },
  {
   "cell_type": "code",
   "execution_count": 79,
   "metadata": {},
   "outputs": [
    {
     "data": {
      "text/plain": [
       "'D:\\\\Hariharan\\\\Desktop\\\\imarticus'"
      ]
     },
     "execution_count": 79,
     "metadata": {},
     "output_type": "execute_result"
    }
   ],
   "source": [
    "#Checking the current working directory\n",
    "\n",
    "os.getcwd()"
   ]
  },
  {
   "cell_type": "code",
   "execution_count": 80,
   "metadata": {},
   "outputs": [],
   "source": [
    "os.chdir(r\"D:\\Hariharan\\Desktop\\imarticus\")"
   ]
  },
  {
   "cell_type": "code",
   "execution_count": 81,
   "metadata": {},
   "outputs": [],
   "source": [
    "#Importing the dataset\n",
    "\n",
    "vaccine=pd.read_csv(\"h1n1_vaccine_prediction.csv\")"
   ]
  },
  {
   "cell_type": "code",
   "execution_count": 82,
   "metadata": {},
   "outputs": [
    {
     "data": {
      "text/html": [
       "<div>\n",
       "<style scoped>\n",
       "    .dataframe tbody tr th:only-of-type {\n",
       "        vertical-align: middle;\n",
       "    }\n",
       "\n",
       "    .dataframe tbody tr th {\n",
       "        vertical-align: top;\n",
       "    }\n",
       "\n",
       "    .dataframe thead th {\n",
       "        text-align: right;\n",
       "    }\n",
       "</style>\n",
       "<table border=\"1\" class=\"dataframe\">\n",
       "  <thead>\n",
       "    <tr style=\"text-align: right;\">\n",
       "      <th></th>\n",
       "      <th>unique_id</th>\n",
       "      <th>h1n1_worry</th>\n",
       "      <th>h1n1_awareness</th>\n",
       "      <th>antiviral_medication</th>\n",
       "      <th>contact_avoidance</th>\n",
       "      <th>bought_face_mask</th>\n",
       "      <th>wash_hands_frequently</th>\n",
       "      <th>avoid_large_gatherings</th>\n",
       "      <th>reduced_outside_home_cont</th>\n",
       "      <th>avoid_touch_face</th>\n",
       "      <th>...</th>\n",
       "      <th>race</th>\n",
       "      <th>sex</th>\n",
       "      <th>income_level</th>\n",
       "      <th>marital_status</th>\n",
       "      <th>housing_status</th>\n",
       "      <th>employment</th>\n",
       "      <th>census_msa</th>\n",
       "      <th>no_of_adults</th>\n",
       "      <th>no_of_children</th>\n",
       "      <th>h1n1_vaccine</th>\n",
       "    </tr>\n",
       "  </thead>\n",
       "  <tbody>\n",
       "    <tr>\n",
       "      <th>0</th>\n",
       "      <td>0</td>\n",
       "      <td>1.0</td>\n",
       "      <td>0.0</td>\n",
       "      <td>0.0</td>\n",
       "      <td>0.0</td>\n",
       "      <td>0.0</td>\n",
       "      <td>0.0</td>\n",
       "      <td>0.0</td>\n",
       "      <td>1.0</td>\n",
       "      <td>1.0</td>\n",
       "      <td>...</td>\n",
       "      <td>White</td>\n",
       "      <td>Female</td>\n",
       "      <td>Below Poverty</td>\n",
       "      <td>Not Married</td>\n",
       "      <td>Own</td>\n",
       "      <td>Not in Labor Force</td>\n",
       "      <td>Non-MSA</td>\n",
       "      <td>0.0</td>\n",
       "      <td>0.0</td>\n",
       "      <td>0</td>\n",
       "    </tr>\n",
       "    <tr>\n",
       "      <th>1</th>\n",
       "      <td>1</td>\n",
       "      <td>3.0</td>\n",
       "      <td>2.0</td>\n",
       "      <td>0.0</td>\n",
       "      <td>1.0</td>\n",
       "      <td>0.0</td>\n",
       "      <td>1.0</td>\n",
       "      <td>0.0</td>\n",
       "      <td>1.0</td>\n",
       "      <td>1.0</td>\n",
       "      <td>...</td>\n",
       "      <td>White</td>\n",
       "      <td>Male</td>\n",
       "      <td>Below Poverty</td>\n",
       "      <td>Not Married</td>\n",
       "      <td>Rent</td>\n",
       "      <td>Employed</td>\n",
       "      <td>MSA, Not Principle  City</td>\n",
       "      <td>0.0</td>\n",
       "      <td>0.0</td>\n",
       "      <td>0</td>\n",
       "    </tr>\n",
       "    <tr>\n",
       "      <th>2</th>\n",
       "      <td>2</td>\n",
       "      <td>1.0</td>\n",
       "      <td>1.0</td>\n",
       "      <td>0.0</td>\n",
       "      <td>1.0</td>\n",
       "      <td>0.0</td>\n",
       "      <td>0.0</td>\n",
       "      <td>0.0</td>\n",
       "      <td>0.0</td>\n",
       "      <td>0.0</td>\n",
       "      <td>...</td>\n",
       "      <td>White</td>\n",
       "      <td>Male</td>\n",
       "      <td>&lt;= $75,000, Above Poverty</td>\n",
       "      <td>Not Married</td>\n",
       "      <td>Own</td>\n",
       "      <td>Employed</td>\n",
       "      <td>MSA, Not Principle  City</td>\n",
       "      <td>2.0</td>\n",
       "      <td>0.0</td>\n",
       "      <td>0</td>\n",
       "    </tr>\n",
       "    <tr>\n",
       "      <th>3</th>\n",
       "      <td>3</td>\n",
       "      <td>1.0</td>\n",
       "      <td>1.0</td>\n",
       "      <td>0.0</td>\n",
       "      <td>1.0</td>\n",
       "      <td>0.0</td>\n",
       "      <td>1.0</td>\n",
       "      <td>1.0</td>\n",
       "      <td>0.0</td>\n",
       "      <td>0.0</td>\n",
       "      <td>...</td>\n",
       "      <td>White</td>\n",
       "      <td>Female</td>\n",
       "      <td>Below Poverty</td>\n",
       "      <td>Not Married</td>\n",
       "      <td>Rent</td>\n",
       "      <td>Not in Labor Force</td>\n",
       "      <td>MSA, Principle City</td>\n",
       "      <td>0.0</td>\n",
       "      <td>0.0</td>\n",
       "      <td>0</td>\n",
       "    </tr>\n",
       "    <tr>\n",
       "      <th>4</th>\n",
       "      <td>4</td>\n",
       "      <td>2.0</td>\n",
       "      <td>1.0</td>\n",
       "      <td>0.0</td>\n",
       "      <td>1.0</td>\n",
       "      <td>0.0</td>\n",
       "      <td>1.0</td>\n",
       "      <td>1.0</td>\n",
       "      <td>0.0</td>\n",
       "      <td>1.0</td>\n",
       "      <td>...</td>\n",
       "      <td>White</td>\n",
       "      <td>Female</td>\n",
       "      <td>&lt;= $75,000, Above Poverty</td>\n",
       "      <td>Married</td>\n",
       "      <td>Own</td>\n",
       "      <td>Employed</td>\n",
       "      <td>MSA, Not Principle  City</td>\n",
       "      <td>1.0</td>\n",
       "      <td>0.0</td>\n",
       "      <td>0</td>\n",
       "    </tr>\n",
       "    <tr>\n",
       "      <th>...</th>\n",
       "      <td>...</td>\n",
       "      <td>...</td>\n",
       "      <td>...</td>\n",
       "      <td>...</td>\n",
       "      <td>...</td>\n",
       "      <td>...</td>\n",
       "      <td>...</td>\n",
       "      <td>...</td>\n",
       "      <td>...</td>\n",
       "      <td>...</td>\n",
       "      <td>...</td>\n",
       "      <td>...</td>\n",
       "      <td>...</td>\n",
       "      <td>...</td>\n",
       "      <td>...</td>\n",
       "      <td>...</td>\n",
       "      <td>...</td>\n",
       "      <td>...</td>\n",
       "      <td>...</td>\n",
       "      <td>...</td>\n",
       "      <td>...</td>\n",
       "    </tr>\n",
       "    <tr>\n",
       "      <th>26702</th>\n",
       "      <td>26702</td>\n",
       "      <td>2.0</td>\n",
       "      <td>0.0</td>\n",
       "      <td>0.0</td>\n",
       "      <td>1.0</td>\n",
       "      <td>0.0</td>\n",
       "      <td>0.0</td>\n",
       "      <td>0.0</td>\n",
       "      <td>1.0</td>\n",
       "      <td>0.0</td>\n",
       "      <td>...</td>\n",
       "      <td>White</td>\n",
       "      <td>Female</td>\n",
       "      <td>&lt;= $75,000, Above Poverty</td>\n",
       "      <td>Not Married</td>\n",
       "      <td>Own</td>\n",
       "      <td>Not in Labor Force</td>\n",
       "      <td>Non-MSA</td>\n",
       "      <td>0.0</td>\n",
       "      <td>0.0</td>\n",
       "      <td>0</td>\n",
       "    </tr>\n",
       "    <tr>\n",
       "      <th>26703</th>\n",
       "      <td>26703</td>\n",
       "      <td>1.0</td>\n",
       "      <td>2.0</td>\n",
       "      <td>0.0</td>\n",
       "      <td>1.0</td>\n",
       "      <td>0.0</td>\n",
       "      <td>1.0</td>\n",
       "      <td>0.0</td>\n",
       "      <td>0.0</td>\n",
       "      <td>0.0</td>\n",
       "      <td>...</td>\n",
       "      <td>White</td>\n",
       "      <td>Male</td>\n",
       "      <td>&lt;= $75,000, Above Poverty</td>\n",
       "      <td>Not Married</td>\n",
       "      <td>Rent</td>\n",
       "      <td>Employed</td>\n",
       "      <td>MSA, Principle City</td>\n",
       "      <td>1.0</td>\n",
       "      <td>0.0</td>\n",
       "      <td>0</td>\n",
       "    </tr>\n",
       "    <tr>\n",
       "      <th>26704</th>\n",
       "      <td>26704</td>\n",
       "      <td>2.0</td>\n",
       "      <td>2.0</td>\n",
       "      <td>0.0</td>\n",
       "      <td>1.0</td>\n",
       "      <td>1.0</td>\n",
       "      <td>1.0</td>\n",
       "      <td>1.0</td>\n",
       "      <td>0.0</td>\n",
       "      <td>1.0</td>\n",
       "      <td>...</td>\n",
       "      <td>White</td>\n",
       "      <td>Female</td>\n",
       "      <td>NaN</td>\n",
       "      <td>Not Married</td>\n",
       "      <td>Own</td>\n",
       "      <td>NaN</td>\n",
       "      <td>MSA, Not Principle  City</td>\n",
       "      <td>0.0</td>\n",
       "      <td>0.0</td>\n",
       "      <td>0</td>\n",
       "    </tr>\n",
       "    <tr>\n",
       "      <th>26705</th>\n",
       "      <td>26705</td>\n",
       "      <td>1.0</td>\n",
       "      <td>1.0</td>\n",
       "      <td>0.0</td>\n",
       "      <td>0.0</td>\n",
       "      <td>0.0</td>\n",
       "      <td>0.0</td>\n",
       "      <td>0.0</td>\n",
       "      <td>0.0</td>\n",
       "      <td>NaN</td>\n",
       "      <td>...</td>\n",
       "      <td>Hispanic</td>\n",
       "      <td>Female</td>\n",
       "      <td>&lt;= $75,000, Above Poverty</td>\n",
       "      <td>Married</td>\n",
       "      <td>Rent</td>\n",
       "      <td>Employed</td>\n",
       "      <td>Non-MSA</td>\n",
       "      <td>1.0</td>\n",
       "      <td>0.0</td>\n",
       "      <td>0</td>\n",
       "    </tr>\n",
       "    <tr>\n",
       "      <th>26706</th>\n",
       "      <td>26706</td>\n",
       "      <td>0.0</td>\n",
       "      <td>0.0</td>\n",
       "      <td>0.0</td>\n",
       "      <td>1.0</td>\n",
       "      <td>0.0</td>\n",
       "      <td>0.0</td>\n",
       "      <td>0.0</td>\n",
       "      <td>0.0</td>\n",
       "      <td>0.0</td>\n",
       "      <td>...</td>\n",
       "      <td>White</td>\n",
       "      <td>Male</td>\n",
       "      <td>&lt;= $75,000, Above Poverty</td>\n",
       "      <td>Married</td>\n",
       "      <td>Own</td>\n",
       "      <td>Not in Labor Force</td>\n",
       "      <td>MSA, Principle City</td>\n",
       "      <td>1.0</td>\n",
       "      <td>0.0</td>\n",
       "      <td>0</td>\n",
       "    </tr>\n",
       "  </tbody>\n",
       "</table>\n",
       "<p>26707 rows × 34 columns</p>\n",
       "</div>"
      ],
      "text/plain": [
       "       unique_id  h1n1_worry  h1n1_awareness  antiviral_medication  \\\n",
       "0              0         1.0             0.0                   0.0   \n",
       "1              1         3.0             2.0                   0.0   \n",
       "2              2         1.0             1.0                   0.0   \n",
       "3              3         1.0             1.0                   0.0   \n",
       "4              4         2.0             1.0                   0.0   \n",
       "...          ...         ...             ...                   ...   \n",
       "26702      26702         2.0             0.0                   0.0   \n",
       "26703      26703         1.0             2.0                   0.0   \n",
       "26704      26704         2.0             2.0                   0.0   \n",
       "26705      26705         1.0             1.0                   0.0   \n",
       "26706      26706         0.0             0.0                   0.0   \n",
       "\n",
       "       contact_avoidance  bought_face_mask  wash_hands_frequently  \\\n",
       "0                    0.0               0.0                    0.0   \n",
       "1                    1.0               0.0                    1.0   \n",
       "2                    1.0               0.0                    0.0   \n",
       "3                    1.0               0.0                    1.0   \n",
       "4                    1.0               0.0                    1.0   \n",
       "...                  ...               ...                    ...   \n",
       "26702                1.0               0.0                    0.0   \n",
       "26703                1.0               0.0                    1.0   \n",
       "26704                1.0               1.0                    1.0   \n",
       "26705                0.0               0.0                    0.0   \n",
       "26706                1.0               0.0                    0.0   \n",
       "\n",
       "       avoid_large_gatherings  reduced_outside_home_cont  avoid_touch_face  \\\n",
       "0                         0.0                        1.0               1.0   \n",
       "1                         0.0                        1.0               1.0   \n",
       "2                         0.0                        0.0               0.0   \n",
       "3                         1.0                        0.0               0.0   \n",
       "4                         1.0                        0.0               1.0   \n",
       "...                       ...                        ...               ...   \n",
       "26702                     0.0                        1.0               0.0   \n",
       "26703                     0.0                        0.0               0.0   \n",
       "26704                     1.0                        0.0               1.0   \n",
       "26705                     0.0                        0.0               NaN   \n",
       "26706                     0.0                        0.0               0.0   \n",
       "\n",
       "       ...      race     sex               income_level  marital_status  \\\n",
       "0      ...     White  Female              Below Poverty     Not Married   \n",
       "1      ...     White    Male              Below Poverty     Not Married   \n",
       "2      ...     White    Male  <= $75,000, Above Poverty     Not Married   \n",
       "3      ...     White  Female              Below Poverty     Not Married   \n",
       "4      ...     White  Female  <= $75,000, Above Poverty         Married   \n",
       "...    ...       ...     ...                        ...             ...   \n",
       "26702  ...     White  Female  <= $75,000, Above Poverty     Not Married   \n",
       "26703  ...     White    Male  <= $75,000, Above Poverty     Not Married   \n",
       "26704  ...     White  Female                        NaN     Not Married   \n",
       "26705  ...  Hispanic  Female  <= $75,000, Above Poverty         Married   \n",
       "26706  ...     White    Male  <= $75,000, Above Poverty         Married   \n",
       "\n",
       "       housing_status          employment                census_msa  \\\n",
       "0                 Own  Not in Labor Force                   Non-MSA   \n",
       "1                Rent            Employed  MSA, Not Principle  City   \n",
       "2                 Own            Employed  MSA, Not Principle  City   \n",
       "3                Rent  Not in Labor Force       MSA, Principle City   \n",
       "4                 Own            Employed  MSA, Not Principle  City   \n",
       "...               ...                 ...                       ...   \n",
       "26702             Own  Not in Labor Force                   Non-MSA   \n",
       "26703            Rent            Employed       MSA, Principle City   \n",
       "26704             Own                 NaN  MSA, Not Principle  City   \n",
       "26705            Rent            Employed                   Non-MSA   \n",
       "26706             Own  Not in Labor Force       MSA, Principle City   \n",
       "\n",
       "       no_of_adults  no_of_children  h1n1_vaccine  \n",
       "0               0.0             0.0             0  \n",
       "1               0.0             0.0             0  \n",
       "2               2.0             0.0             0  \n",
       "3               0.0             0.0             0  \n",
       "4               1.0             0.0             0  \n",
       "...             ...             ...           ...  \n",
       "26702           0.0             0.0             0  \n",
       "26703           1.0             0.0             0  \n",
       "26704           0.0             0.0             0  \n",
       "26705           1.0             0.0             0  \n",
       "26706           1.0             0.0             0  \n",
       "\n",
       "[26707 rows x 34 columns]"
      ]
     },
     "execution_count": 82,
     "metadata": {},
     "output_type": "execute_result"
    }
   ],
   "source": [
    "vaccine"
   ]
  },
  {
   "cell_type": "code",
   "execution_count": 83,
   "metadata": {},
   "outputs": [
    {
     "data": {
      "text/plain": [
       "0    21033\n",
       "1     5674\n",
       "Name: h1n1_vaccine, dtype: int64"
      ]
     },
     "execution_count": 83,
     "metadata": {},
     "output_type": "execute_result"
    }
   ],
   "source": [
    "vaccine[\"h1n1_vaccine\"].value_counts()"
   ]
  },
  {
   "cell_type": "code",
   "execution_count": 84,
   "metadata": {},
   "outputs": [
    {
     "data": {
      "text/html": [
       "<div>\n",
       "<style scoped>\n",
       "    .dataframe tbody tr th:only-of-type {\n",
       "        vertical-align: middle;\n",
       "    }\n",
       "\n",
       "    .dataframe tbody tr th {\n",
       "        vertical-align: top;\n",
       "    }\n",
       "\n",
       "    .dataframe thead th {\n",
       "        text-align: right;\n",
       "    }\n",
       "</style>\n",
       "<table border=\"1\" class=\"dataframe\">\n",
       "  <thead>\n",
       "    <tr style=\"text-align: right;\">\n",
       "      <th></th>\n",
       "      <th>unique_id</th>\n",
       "      <th>h1n1_worry</th>\n",
       "      <th>h1n1_awareness</th>\n",
       "      <th>antiviral_medication</th>\n",
       "      <th>contact_avoidance</th>\n",
       "      <th>bought_face_mask</th>\n",
       "      <th>wash_hands_frequently</th>\n",
       "      <th>avoid_large_gatherings</th>\n",
       "      <th>reduced_outside_home_cont</th>\n",
       "      <th>avoid_touch_face</th>\n",
       "      <th>...</th>\n",
       "      <th>race</th>\n",
       "      <th>sex</th>\n",
       "      <th>income_level</th>\n",
       "      <th>marital_status</th>\n",
       "      <th>housing_status</th>\n",
       "      <th>employment</th>\n",
       "      <th>census_msa</th>\n",
       "      <th>no_of_adults</th>\n",
       "      <th>no_of_children</th>\n",
       "      <th>h1n1_vaccine</th>\n",
       "    </tr>\n",
       "  </thead>\n",
       "  <tbody>\n",
       "    <tr>\n",
       "      <th>0</th>\n",
       "      <td>0</td>\n",
       "      <td>1.0</td>\n",
       "      <td>0.0</td>\n",
       "      <td>0.0</td>\n",
       "      <td>0.0</td>\n",
       "      <td>0.0</td>\n",
       "      <td>0.0</td>\n",
       "      <td>0.0</td>\n",
       "      <td>1.0</td>\n",
       "      <td>1.0</td>\n",
       "      <td>...</td>\n",
       "      <td>White</td>\n",
       "      <td>Female</td>\n",
       "      <td>Below Poverty</td>\n",
       "      <td>Not Married</td>\n",
       "      <td>Own</td>\n",
       "      <td>Not in Labor Force</td>\n",
       "      <td>Non-MSA</td>\n",
       "      <td>0.0</td>\n",
       "      <td>0.0</td>\n",
       "      <td>0</td>\n",
       "    </tr>\n",
       "    <tr>\n",
       "      <th>1</th>\n",
       "      <td>1</td>\n",
       "      <td>3.0</td>\n",
       "      <td>2.0</td>\n",
       "      <td>0.0</td>\n",
       "      <td>1.0</td>\n",
       "      <td>0.0</td>\n",
       "      <td>1.0</td>\n",
       "      <td>0.0</td>\n",
       "      <td>1.0</td>\n",
       "      <td>1.0</td>\n",
       "      <td>...</td>\n",
       "      <td>White</td>\n",
       "      <td>Male</td>\n",
       "      <td>Below Poverty</td>\n",
       "      <td>Not Married</td>\n",
       "      <td>Rent</td>\n",
       "      <td>Employed</td>\n",
       "      <td>MSA, Not Principle  City</td>\n",
       "      <td>0.0</td>\n",
       "      <td>0.0</td>\n",
       "      <td>0</td>\n",
       "    </tr>\n",
       "    <tr>\n",
       "      <th>2</th>\n",
       "      <td>2</td>\n",
       "      <td>1.0</td>\n",
       "      <td>1.0</td>\n",
       "      <td>0.0</td>\n",
       "      <td>1.0</td>\n",
       "      <td>0.0</td>\n",
       "      <td>0.0</td>\n",
       "      <td>0.0</td>\n",
       "      <td>0.0</td>\n",
       "      <td>0.0</td>\n",
       "      <td>...</td>\n",
       "      <td>White</td>\n",
       "      <td>Male</td>\n",
       "      <td>&lt;= $75,000, Above Poverty</td>\n",
       "      <td>Not Married</td>\n",
       "      <td>Own</td>\n",
       "      <td>Employed</td>\n",
       "      <td>MSA, Not Principle  City</td>\n",
       "      <td>2.0</td>\n",
       "      <td>0.0</td>\n",
       "      <td>0</td>\n",
       "    </tr>\n",
       "    <tr>\n",
       "      <th>3</th>\n",
       "      <td>3</td>\n",
       "      <td>1.0</td>\n",
       "      <td>1.0</td>\n",
       "      <td>0.0</td>\n",
       "      <td>1.0</td>\n",
       "      <td>0.0</td>\n",
       "      <td>1.0</td>\n",
       "      <td>1.0</td>\n",
       "      <td>0.0</td>\n",
       "      <td>0.0</td>\n",
       "      <td>...</td>\n",
       "      <td>White</td>\n",
       "      <td>Female</td>\n",
       "      <td>Below Poverty</td>\n",
       "      <td>Not Married</td>\n",
       "      <td>Rent</td>\n",
       "      <td>Not in Labor Force</td>\n",
       "      <td>MSA, Principle City</td>\n",
       "      <td>0.0</td>\n",
       "      <td>0.0</td>\n",
       "      <td>0</td>\n",
       "    </tr>\n",
       "    <tr>\n",
       "      <th>4</th>\n",
       "      <td>4</td>\n",
       "      <td>2.0</td>\n",
       "      <td>1.0</td>\n",
       "      <td>0.0</td>\n",
       "      <td>1.0</td>\n",
       "      <td>0.0</td>\n",
       "      <td>1.0</td>\n",
       "      <td>1.0</td>\n",
       "      <td>0.0</td>\n",
       "      <td>1.0</td>\n",
       "      <td>...</td>\n",
       "      <td>White</td>\n",
       "      <td>Female</td>\n",
       "      <td>&lt;= $75,000, Above Poverty</td>\n",
       "      <td>Married</td>\n",
       "      <td>Own</td>\n",
       "      <td>Employed</td>\n",
       "      <td>MSA, Not Principle  City</td>\n",
       "      <td>1.0</td>\n",
       "      <td>0.0</td>\n",
       "      <td>0</td>\n",
       "    </tr>\n",
       "  </tbody>\n",
       "</table>\n",
       "<p>5 rows × 34 columns</p>\n",
       "</div>"
      ],
      "text/plain": [
       "   unique_id  h1n1_worry  h1n1_awareness  antiviral_medication  \\\n",
       "0          0         1.0             0.0                   0.0   \n",
       "1          1         3.0             2.0                   0.0   \n",
       "2          2         1.0             1.0                   0.0   \n",
       "3          3         1.0             1.0                   0.0   \n",
       "4          4         2.0             1.0                   0.0   \n",
       "\n",
       "   contact_avoidance  bought_face_mask  wash_hands_frequently  \\\n",
       "0                0.0               0.0                    0.0   \n",
       "1                1.0               0.0                    1.0   \n",
       "2                1.0               0.0                    0.0   \n",
       "3                1.0               0.0                    1.0   \n",
       "4                1.0               0.0                    1.0   \n",
       "\n",
       "   avoid_large_gatherings  reduced_outside_home_cont  avoid_touch_face  ...  \\\n",
       "0                     0.0                        1.0               1.0  ...   \n",
       "1                     0.0                        1.0               1.0  ...   \n",
       "2                     0.0                        0.0               0.0  ...   \n",
       "3                     1.0                        0.0               0.0  ...   \n",
       "4                     1.0                        0.0               1.0  ...   \n",
       "\n",
       "    race     sex               income_level  marital_status  housing_status  \\\n",
       "0  White  Female              Below Poverty     Not Married             Own   \n",
       "1  White    Male              Below Poverty     Not Married            Rent   \n",
       "2  White    Male  <= $75,000, Above Poverty     Not Married             Own   \n",
       "3  White  Female              Below Poverty     Not Married            Rent   \n",
       "4  White  Female  <= $75,000, Above Poverty         Married             Own   \n",
       "\n",
       "           employment                census_msa  no_of_adults  no_of_children  \\\n",
       "0  Not in Labor Force                   Non-MSA           0.0             0.0   \n",
       "1            Employed  MSA, Not Principle  City           0.0             0.0   \n",
       "2            Employed  MSA, Not Principle  City           2.0             0.0   \n",
       "3  Not in Labor Force       MSA, Principle City           0.0             0.0   \n",
       "4            Employed  MSA, Not Principle  City           1.0             0.0   \n",
       "\n",
       "   h1n1_vaccine  \n",
       "0             0  \n",
       "1             0  \n",
       "2             0  \n",
       "3             0  \n",
       "4             0  \n",
       "\n",
       "[5 rows x 34 columns]"
      ]
     },
     "execution_count": 84,
     "metadata": {},
     "output_type": "execute_result"
    }
   ],
   "source": [
    "#head() shows the top 5 columns i.e. in this case it shows the top 5 people's data\n",
    "vaccine.head()"
   ]
  },
  {
   "cell_type": "code",
   "execution_count": 85,
   "metadata": {},
   "outputs": [
    {
     "name": "stdout",
     "output_type": "stream",
     "text": [
      "<class 'pandas.core.frame.DataFrame'>\n",
      "RangeIndex: 26707 entries, 0 to 26706\n",
      "Data columns (total 34 columns):\n",
      " #   Column                     Non-Null Count  Dtype  \n",
      "---  ------                     --------------  -----  \n",
      " 0   unique_id                  26707 non-null  int64  \n",
      " 1   h1n1_worry                 26615 non-null  float64\n",
      " 2   h1n1_awareness             26591 non-null  float64\n",
      " 3   antiviral_medication       26636 non-null  float64\n",
      " 4   contact_avoidance          26499 non-null  float64\n",
      " 5   bought_face_mask           26688 non-null  float64\n",
      " 6   wash_hands_frequently      26665 non-null  float64\n",
      " 7   avoid_large_gatherings     26620 non-null  float64\n",
      " 8   reduced_outside_home_cont  26625 non-null  float64\n",
      " 9   avoid_touch_face           26579 non-null  float64\n",
      " 10  dr_recc_h1n1_vacc          24547 non-null  float64\n",
      " 11  dr_recc_seasonal_vacc      24547 non-null  float64\n",
      " 12  chronic_medic_condition    25736 non-null  float64\n",
      " 13  cont_child_undr_6_mnths    25887 non-null  float64\n",
      " 14  is_health_worker           25903 non-null  float64\n",
      " 15  has_health_insur           14433 non-null  float64\n",
      " 16  is_h1n1_vacc_effective     26316 non-null  float64\n",
      " 17  is_h1n1_risky              26319 non-null  float64\n",
      " 18  sick_from_h1n1_vacc        26312 non-null  float64\n",
      " 19  is_seas_vacc_effective     26245 non-null  float64\n",
      " 20  is_seas_risky              26193 non-null  float64\n",
      " 21  sick_from_seas_vacc        26170 non-null  float64\n",
      " 22  age_bracket                26707 non-null  object \n",
      " 23  qualification              25300 non-null  object \n",
      " 24  race                       26707 non-null  object \n",
      " 25  sex                        26707 non-null  object \n",
      " 26  income_level               22284 non-null  object \n",
      " 27  marital_status             25299 non-null  object \n",
      " 28  housing_status             24665 non-null  object \n",
      " 29  employment                 25244 non-null  object \n",
      " 30  census_msa                 26707 non-null  object \n",
      " 31  no_of_adults               26458 non-null  float64\n",
      " 32  no_of_children             26458 non-null  float64\n",
      " 33  h1n1_vaccine               26707 non-null  int64  \n",
      "dtypes: float64(23), int64(2), object(9)\n",
      "memory usage: 6.9+ MB\n"
     ]
    }
   ],
   "source": [
    "#shows the datatypes of each variable in the dataset\n",
    "vaccine.info()"
   ]
  },
  {
   "cell_type": "code",
   "execution_count": 86,
   "metadata": {},
   "outputs": [
    {
     "data": {
      "text/plain": [
       "unique_id                        0\n",
       "h1n1_worry                      92\n",
       "h1n1_awareness                 116\n",
       "antiviral_medication            71\n",
       "contact_avoidance              208\n",
       "bought_face_mask                19\n",
       "wash_hands_frequently           42\n",
       "avoid_large_gatherings          87\n",
       "reduced_outside_home_cont       82\n",
       "avoid_touch_face               128\n",
       "dr_recc_h1n1_vacc             2160\n",
       "dr_recc_seasonal_vacc         2160\n",
       "chronic_medic_condition        971\n",
       "cont_child_undr_6_mnths        820\n",
       "is_health_worker               804\n",
       "has_health_insur             12274\n",
       "is_h1n1_vacc_effective         391\n",
       "is_h1n1_risky                  388\n",
       "sick_from_h1n1_vacc            395\n",
       "is_seas_vacc_effective         462\n",
       "is_seas_risky                  514\n",
       "sick_from_seas_vacc            537\n",
       "age_bracket                      0\n",
       "qualification                 1407\n",
       "race                             0\n",
       "sex                              0\n",
       "income_level                  4423\n",
       "marital_status                1408\n",
       "housing_status                2042\n",
       "employment                    1463\n",
       "census_msa                       0\n",
       "no_of_adults                   249\n",
       "no_of_children                 249\n",
       "h1n1_vaccine                     0\n",
       "dtype: int64"
      ]
     },
     "execution_count": 86,
     "metadata": {},
     "output_type": "execute_result"
    }
   ],
   "source": [
    "#Checking the missing values\n",
    "vaccine.isnull().sum()"
   ]
  },
  {
   "cell_type": "code",
   "execution_count": 87,
   "metadata": {},
   "outputs": [
    {
     "data": {
      "text/plain": [
       "(26707, 34)"
      ]
     },
     "execution_count": 87,
     "metadata": {},
     "output_type": "execute_result"
    }
   ],
   "source": [
    "#shape() tells us the rows and columns present in the dataset\n",
    "vaccine.shape"
   ]
  },
  {
   "cell_type": "code",
   "execution_count": 88,
   "metadata": {},
   "outputs": [
    {
     "data": {
      "text/plain": [
       "<= $75,000, Above Poverty    12777\n",
       "> $75,000                     6810\n",
       "Below Poverty                 2697\n",
       "Name: income_level, dtype: int64"
      ]
     },
     "execution_count": 88,
     "metadata": {},
     "output_type": "execute_result"
    }
   ],
   "source": [
    "vaccine[\"income_level\"].value_counts()"
   ]
  },
  {
   "cell_type": "markdown",
   "metadata": {},
   "source": [
    "### 1.h1n1_worry"
   ]
  },
  {
   "cell_type": "code",
   "execution_count": 89,
   "metadata": {},
   "outputs": [
    {
     "data": {
      "text/plain": [
       "2.0    10575\n",
       "1.0     8153\n",
       "3.0     4591\n",
       "0.0     3296\n",
       "Name: h1n1_worry, dtype: int64"
      ]
     },
     "execution_count": 89,
     "metadata": {},
     "output_type": "execute_result"
    }
   ],
   "source": [
    "vaccine[\"h1n1_worry\"].value_counts()"
   ]
  },
  {
   "cell_type": "markdown",
   "metadata": {},
   "source": [
    "Filling the missing values in h1n1_worry variable with mode"
   ]
  },
  {
   "cell_type": "code",
   "execution_count": 90,
   "metadata": {},
   "outputs": [],
   "source": [
    "vaccine['h1n1_worry'] = vaccine['h1n1_worry'].fillna(vaccine['h1n1_worry'].mode()[0])"
   ]
  },
  {
   "cell_type": "code",
   "execution_count": 91,
   "metadata": {},
   "outputs": [
    {
     "data": {
      "text/plain": [
       "2.0    10667\n",
       "1.0     8153\n",
       "3.0     4591\n",
       "0.0     3296\n",
       "Name: h1n1_worry, dtype: int64"
      ]
     },
     "execution_count": 91,
     "metadata": {},
     "output_type": "execute_result"
    }
   ],
   "source": [
    "vaccine[\"h1n1_worry\"].value_counts()"
   ]
  },
  {
   "cell_type": "markdown",
   "metadata": {},
   "source": [
    "### 2.has_health_insur"
   ]
  },
  {
   "cell_type": "code",
   "execution_count": 92,
   "metadata": {},
   "outputs": [
    {
     "data": {
      "text/plain": [
       "1.0    12697\n",
       "0.0     1736\n",
       "Name: has_health_insur, dtype: int64"
      ]
     },
     "execution_count": 92,
     "metadata": {},
     "output_type": "execute_result"
    }
   ],
   "source": [
    "vaccine[\"has_health_insur\"].value_counts()"
   ]
  },
  {
   "cell_type": "markdown",
   "metadata": {},
   "source": [
    "We filled has_health_insur variable with an arbitary value which we took as 9"
   ]
  },
  {
   "cell_type": "code",
   "execution_count": 93,
   "metadata": {},
   "outputs": [],
   "source": [
    "vaccine[\"has_health_insur\"].fillna((9), inplace=True)"
   ]
  },
  {
   "cell_type": "code",
   "execution_count": 94,
   "metadata": {},
   "outputs": [
    {
     "data": {
      "text/plain": [
       "1.0    12697\n",
       "9.0    12274\n",
       "0.0     1736\n",
       "Name: has_health_insur, dtype: int64"
      ]
     },
     "execution_count": 94,
     "metadata": {},
     "output_type": "execute_result"
    }
   ],
   "source": [
    "vaccine[\"has_health_insur\"].value_counts()"
   ]
  },
  {
   "cell_type": "markdown",
   "metadata": {},
   "source": [
    "### Feature Engineering\n",
    "\n",
    "We created a new variable insurance_status from the column has_health_insur. Since we had created a new category of missing values by putting the arbitary value of 9, so we decided to create a new variable which rather than dealing with 0s and 1s binary value talks about all the 3 categories formed by demarcating them on the basis of insurance status."
   ]
  },
  {
   "cell_type": "code",
   "execution_count": 95,
   "metadata": {},
   "outputs": [],
   "source": [
    "vaccine[\"insurance_status\"]=np.where(vaccine[\"has_health_insur\"]==9,0,1)"
   ]
  },
  {
   "cell_type": "markdown",
   "metadata": {},
   "source": [
    "We checked out a few variables and their categories"
   ]
  },
  {
   "cell_type": "code",
   "execution_count": 96,
   "metadata": {},
   "outputs": [
    {
     "data": {
      "text/plain": [
       "1.0    14598\n",
       "2.0     9487\n",
       "0.0     2506\n",
       "Name: h1n1_awareness, dtype: int64"
      ]
     },
     "execution_count": 96,
     "metadata": {},
     "output_type": "execute_result"
    }
   ],
   "source": [
    "vaccine[\"h1n1_awareness\"].value_counts()"
   ]
  },
  {
   "cell_type": "code",
   "execution_count": 97,
   "metadata": {},
   "outputs": [
    {
     "data": {
      "text/plain": [
       "0.0    25335\n",
       "1.0     1301\n",
       "Name: antiviral_medication, dtype: int64"
      ]
     },
     "execution_count": 97,
     "metadata": {},
     "output_type": "execute_result"
    }
   ],
   "source": [
    "vaccine[\"antiviral_medication\"].value_counts()"
   ]
  },
  {
   "cell_type": "code",
   "execution_count": 98,
   "metadata": {},
   "outputs": [
    {
     "data": {
      "text/plain": [
       "1.0    19228\n",
       "0.0     7271\n",
       "Name: contact_avoidance, dtype: int64"
      ]
     },
     "execution_count": 98,
     "metadata": {},
     "output_type": "execute_result"
    }
   ],
   "source": [
    "vaccine[\"contact_avoidance\"].value_counts()"
   ]
  },
  {
   "cell_type": "code",
   "execution_count": 99,
   "metadata": {},
   "outputs": [
    {
     "data": {
      "text/plain": [
       "0.0    24847\n",
       "1.0     1841\n",
       "Name: bought_face_mask, dtype: int64"
      ]
     },
     "execution_count": 99,
     "metadata": {},
     "output_type": "execute_result"
    }
   ],
   "source": [
    "vaccine[\"bought_face_mask\"].value_counts()"
   ]
  },
  {
   "cell_type": "code",
   "execution_count": 100,
   "metadata": {},
   "outputs": [
    {
     "data": {
      "text/plain": [
       "1.0    22015\n",
       "0.0     4650\n",
       "Name: wash_hands_frequently, dtype: int64"
      ]
     },
     "execution_count": 100,
     "metadata": {},
     "output_type": "execute_result"
    }
   ],
   "source": [
    "vaccine[\"wash_hands_frequently\"].value_counts()"
   ]
  },
  {
   "cell_type": "code",
   "execution_count": 101,
   "metadata": {},
   "outputs": [
    {
     "data": {
      "text/plain": [
       "0.0    17073\n",
       "1.0     9547\n",
       "Name: avoid_large_gatherings, dtype: int64"
      ]
     },
     "execution_count": 101,
     "metadata": {},
     "output_type": "execute_result"
    }
   ],
   "source": [
    "vaccine[\"avoid_large_gatherings\"].value_counts()"
   ]
  },
  {
   "cell_type": "code",
   "execution_count": 102,
   "metadata": {},
   "outputs": [
    {
     "data": {
      "text/plain": [
       "0.0    17644\n",
       "1.0     8981\n",
       "Name: reduced_outside_home_cont, dtype: int64"
      ]
     },
     "execution_count": 102,
     "metadata": {},
     "output_type": "execute_result"
    }
   ],
   "source": [
    "vaccine[\"reduced_outside_home_cont\"].value_counts()"
   ]
  },
  {
   "cell_type": "code",
   "execution_count": 103,
   "metadata": {},
   "outputs": [
    {
     "data": {
      "text/plain": [
       "1.0    18001\n",
       "0.0     8578\n",
       "Name: avoid_touch_face, dtype: int64"
      ]
     },
     "execution_count": 103,
     "metadata": {},
     "output_type": "execute_result"
    }
   ],
   "source": [
    "vaccine[\"avoid_touch_face\"].value_counts()"
   ]
  },
  {
   "cell_type": "code",
   "execution_count": 104,
   "metadata": {},
   "outputs": [
    {
     "data": {
      "text/plain": [
       "Index(['unique_id', 'h1n1_worry', 'h1n1_awareness', 'antiviral_medication',\n",
       "       'contact_avoidance', 'bought_face_mask', 'wash_hands_frequently',\n",
       "       'avoid_large_gatherings', 'reduced_outside_home_cont',\n",
       "       'avoid_touch_face', 'dr_recc_h1n1_vacc', 'dr_recc_seasonal_vacc',\n",
       "       'chronic_medic_condition', 'cont_child_undr_6_mnths',\n",
       "       'is_health_worker', 'has_health_insur', 'is_h1n1_vacc_effective',\n",
       "       'is_h1n1_risky', 'sick_from_h1n1_vacc', 'is_seas_vacc_effective',\n",
       "       'is_seas_risky', 'sick_from_seas_vacc', 'age_bracket', 'qualification',\n",
       "       'race', 'sex', 'income_level', 'marital_status', 'housing_status',\n",
       "       'employment', 'census_msa', 'no_of_adults', 'no_of_children',\n",
       "       'h1n1_vaccine', 'insurance_status'],\n",
       "      dtype='object')"
      ]
     },
     "execution_count": 104,
     "metadata": {},
     "output_type": "execute_result"
    }
   ],
   "source": [
    "vaccine.columns"
   ]
  },
  {
   "cell_type": "markdown",
   "metadata": {},
   "source": [
    "Filling all the missing variables with the mode"
   ]
  },
  {
   "cell_type": "code",
   "execution_count": 105,
   "metadata": {},
   "outputs": [],
   "source": [
    "cols = [\"antiviral_medication\",\"contact_avoidance\",\"bought_face_mask\",\"wash_hands_frequently\",\"h1n1_awareness\"]\n",
    "vaccine[cols]=vaccine[cols].fillna(vaccine.mode().iloc[0])"
   ]
  },
  {
   "cell_type": "code",
   "execution_count": 106,
   "metadata": {},
   "outputs": [],
   "source": [
    "cols = [\"avoid_large_gatherings\",\"reduced_outside_home_cont\",\"avoid_touch_face\"]\n",
    "vaccine[cols]=vaccine[cols].fillna(vaccine.mode().iloc[0])"
   ]
  },
  {
   "cell_type": "code",
   "execution_count": 107,
   "metadata": {},
   "outputs": [
    {
     "data": {
      "text/plain": [
       "0.0    18446\n",
       "1.0     7290\n",
       "Name: chronic_medic_condition, dtype: int64"
      ]
     },
     "execution_count": 107,
     "metadata": {},
     "output_type": "execute_result"
    }
   ],
   "source": [
    "vaccine[\"chronic_medic_condition\"].value_counts()"
   ]
  },
  {
   "cell_type": "code",
   "execution_count": 108,
   "metadata": {},
   "outputs": [
    {
     "data": {
      "text/plain": [
       "0.0    23749\n",
       "1.0     2138\n",
       "Name: cont_child_undr_6_mnths, dtype: int64"
      ]
     },
     "execution_count": 108,
     "metadata": {},
     "output_type": "execute_result"
    }
   ],
   "source": [
    "vaccine[\"cont_child_undr_6_mnths\"].value_counts()"
   ]
  },
  {
   "cell_type": "code",
   "execution_count": 109,
   "metadata": {},
   "outputs": [
    {
     "data": {
      "text/plain": [
       "0.0    23004\n",
       "1.0     2899\n",
       "Name: is_health_worker, dtype: int64"
      ]
     },
     "execution_count": 109,
     "metadata": {},
     "output_type": "execute_result"
    }
   ],
   "source": [
    "vaccine[\"is_health_worker\"].value_counts()"
   ]
  },
  {
   "cell_type": "code",
   "execution_count": 110,
   "metadata": {},
   "outputs": [
    {
     "data": {
      "text/plain": [
       "4.0    11683\n",
       "5.0     7166\n",
       "3.0     4723\n",
       "2.0     1858\n",
       "1.0      886\n",
       "Name: is_h1n1_vacc_effective, dtype: int64"
      ]
     },
     "execution_count": 110,
     "metadata": {},
     "output_type": "execute_result"
    }
   ],
   "source": [
    "vaccine[\"is_h1n1_vacc_effective\"].value_counts()"
   ]
  },
  {
   "cell_type": "code",
   "execution_count": 111,
   "metadata": {},
   "outputs": [],
   "source": [
    "cols = [\"chronic_medic_condition\",\"cont_child_undr_6_mnths\",\"is_health_worker\",\"is_h1n1_vacc_effective\",\"is_h1n1_risky\"]\n",
    "vaccine[cols]=vaccine[cols].fillna(vaccine.mode().iloc[0])"
   ]
  },
  {
   "cell_type": "code",
   "execution_count": 112,
   "metadata": {},
   "outputs": [],
   "source": [
    "cols = [\"sick_from_h1n1_vacc\",\"is_seas_vacc_effective\",\"is_seas_risky\",\"sick_from_seas_vacc\"]\n",
    "vaccine[cols]=vaccine[cols].fillna(vaccine.mode().iloc[0])"
   ]
  },
  {
   "cell_type": "code",
   "execution_count": 113,
   "metadata": {},
   "outputs": [
    {
     "data": {
      "text/plain": [
       "0.0    18672\n",
       "1.0     3175\n",
       "2.0     2864\n",
       "3.0     1747\n",
       "Name: no_of_children, dtype: int64"
      ]
     },
     "execution_count": 113,
     "metadata": {},
     "output_type": "execute_result"
    }
   ],
   "source": [
    "vaccine[\"no_of_children\"].value_counts()"
   ]
  },
  {
   "cell_type": "code",
   "execution_count": 114,
   "metadata": {},
   "outputs": [
    {
     "data": {
      "text/plain": [
       "1.0    14474\n",
       "0.0     8056\n",
       "2.0     2803\n",
       "3.0     1125\n",
       "Name: no_of_adults, dtype: int64"
      ]
     },
     "execution_count": 114,
     "metadata": {},
     "output_type": "execute_result"
    }
   ],
   "source": [
    "vaccine[\"no_of_adults\"].value_counts()"
   ]
  },
  {
   "cell_type": "markdown",
   "metadata": {},
   "source": [
    "Filling missing values in  no_of_adults and no_of_children variables with the median"
   ]
  },
  {
   "cell_type": "code",
   "execution_count": 115,
   "metadata": {},
   "outputs": [],
   "source": [
    "cols = [\"no_of_adults\",\"no_of_children\"]\n",
    "vaccine[cols]=vaccine[cols].fillna(vaccine.median().iloc[0])"
   ]
  },
  {
   "cell_type": "markdown",
   "metadata": {},
   "source": [
    "Checking out the object variables only from the entire dataset"
   ]
  },
  {
   "cell_type": "code",
   "execution_count": 116,
   "metadata": {},
   "outputs": [
    {
     "data": {
      "text/html": [
       "<div>\n",
       "<style scoped>\n",
       "    .dataframe tbody tr th:only-of-type {\n",
       "        vertical-align: middle;\n",
       "    }\n",
       "\n",
       "    .dataframe tbody tr th {\n",
       "        vertical-align: top;\n",
       "    }\n",
       "\n",
       "    .dataframe thead th {\n",
       "        text-align: right;\n",
       "    }\n",
       "</style>\n",
       "<table border=\"1\" class=\"dataframe\">\n",
       "  <thead>\n",
       "    <tr style=\"text-align: right;\">\n",
       "      <th></th>\n",
       "      <th>age_bracket</th>\n",
       "      <th>qualification</th>\n",
       "      <th>race</th>\n",
       "      <th>sex</th>\n",
       "      <th>income_level</th>\n",
       "      <th>marital_status</th>\n",
       "      <th>housing_status</th>\n",
       "      <th>employment</th>\n",
       "      <th>census_msa</th>\n",
       "    </tr>\n",
       "  </thead>\n",
       "  <tbody>\n",
       "    <tr>\n",
       "      <th>0</th>\n",
       "      <td>55 - 64 Years</td>\n",
       "      <td>&lt; 12 Years</td>\n",
       "      <td>White</td>\n",
       "      <td>Female</td>\n",
       "      <td>Below Poverty</td>\n",
       "      <td>Not Married</td>\n",
       "      <td>Own</td>\n",
       "      <td>Not in Labor Force</td>\n",
       "      <td>Non-MSA</td>\n",
       "    </tr>\n",
       "    <tr>\n",
       "      <th>1</th>\n",
       "      <td>35 - 44 Years</td>\n",
       "      <td>12 Years</td>\n",
       "      <td>White</td>\n",
       "      <td>Male</td>\n",
       "      <td>Below Poverty</td>\n",
       "      <td>Not Married</td>\n",
       "      <td>Rent</td>\n",
       "      <td>Employed</td>\n",
       "      <td>MSA, Not Principle  City</td>\n",
       "    </tr>\n",
       "    <tr>\n",
       "      <th>2</th>\n",
       "      <td>18 - 34 Years</td>\n",
       "      <td>College Graduate</td>\n",
       "      <td>White</td>\n",
       "      <td>Male</td>\n",
       "      <td>&lt;= $75,000, Above Poverty</td>\n",
       "      <td>Not Married</td>\n",
       "      <td>Own</td>\n",
       "      <td>Employed</td>\n",
       "      <td>MSA, Not Principle  City</td>\n",
       "    </tr>\n",
       "    <tr>\n",
       "      <th>3</th>\n",
       "      <td>65+ Years</td>\n",
       "      <td>12 Years</td>\n",
       "      <td>White</td>\n",
       "      <td>Female</td>\n",
       "      <td>Below Poverty</td>\n",
       "      <td>Not Married</td>\n",
       "      <td>Rent</td>\n",
       "      <td>Not in Labor Force</td>\n",
       "      <td>MSA, Principle City</td>\n",
       "    </tr>\n",
       "    <tr>\n",
       "      <th>4</th>\n",
       "      <td>45 - 54 Years</td>\n",
       "      <td>Some College</td>\n",
       "      <td>White</td>\n",
       "      <td>Female</td>\n",
       "      <td>&lt;= $75,000, Above Poverty</td>\n",
       "      <td>Married</td>\n",
       "      <td>Own</td>\n",
       "      <td>Employed</td>\n",
       "      <td>MSA, Not Principle  City</td>\n",
       "    </tr>\n",
       "    <tr>\n",
       "      <th>...</th>\n",
       "      <td>...</td>\n",
       "      <td>...</td>\n",
       "      <td>...</td>\n",
       "      <td>...</td>\n",
       "      <td>...</td>\n",
       "      <td>...</td>\n",
       "      <td>...</td>\n",
       "      <td>...</td>\n",
       "      <td>...</td>\n",
       "    </tr>\n",
       "    <tr>\n",
       "      <th>26702</th>\n",
       "      <td>65+ Years</td>\n",
       "      <td>Some College</td>\n",
       "      <td>White</td>\n",
       "      <td>Female</td>\n",
       "      <td>&lt;= $75,000, Above Poverty</td>\n",
       "      <td>Not Married</td>\n",
       "      <td>Own</td>\n",
       "      <td>Not in Labor Force</td>\n",
       "      <td>Non-MSA</td>\n",
       "    </tr>\n",
       "    <tr>\n",
       "      <th>26703</th>\n",
       "      <td>18 - 34 Years</td>\n",
       "      <td>College Graduate</td>\n",
       "      <td>White</td>\n",
       "      <td>Male</td>\n",
       "      <td>&lt;= $75,000, Above Poverty</td>\n",
       "      <td>Not Married</td>\n",
       "      <td>Rent</td>\n",
       "      <td>Employed</td>\n",
       "      <td>MSA, Principle City</td>\n",
       "    </tr>\n",
       "    <tr>\n",
       "      <th>26704</th>\n",
       "      <td>55 - 64 Years</td>\n",
       "      <td>Some College</td>\n",
       "      <td>White</td>\n",
       "      <td>Female</td>\n",
       "      <td>NaN</td>\n",
       "      <td>Not Married</td>\n",
       "      <td>Own</td>\n",
       "      <td>NaN</td>\n",
       "      <td>MSA, Not Principle  City</td>\n",
       "    </tr>\n",
       "    <tr>\n",
       "      <th>26705</th>\n",
       "      <td>18 - 34 Years</td>\n",
       "      <td>Some College</td>\n",
       "      <td>Hispanic</td>\n",
       "      <td>Female</td>\n",
       "      <td>&lt;= $75,000, Above Poverty</td>\n",
       "      <td>Married</td>\n",
       "      <td>Rent</td>\n",
       "      <td>Employed</td>\n",
       "      <td>Non-MSA</td>\n",
       "    </tr>\n",
       "    <tr>\n",
       "      <th>26706</th>\n",
       "      <td>65+ Years</td>\n",
       "      <td>Some College</td>\n",
       "      <td>White</td>\n",
       "      <td>Male</td>\n",
       "      <td>&lt;= $75,000, Above Poverty</td>\n",
       "      <td>Married</td>\n",
       "      <td>Own</td>\n",
       "      <td>Not in Labor Force</td>\n",
       "      <td>MSA, Principle City</td>\n",
       "    </tr>\n",
       "  </tbody>\n",
       "</table>\n",
       "<p>26707 rows × 9 columns</p>\n",
       "</div>"
      ],
      "text/plain": [
       "         age_bracket     qualification      race     sex  \\\n",
       "0      55 - 64 Years        < 12 Years     White  Female   \n",
       "1      35 - 44 Years          12 Years     White    Male   \n",
       "2      18 - 34 Years  College Graduate     White    Male   \n",
       "3          65+ Years          12 Years     White  Female   \n",
       "4      45 - 54 Years      Some College     White  Female   \n",
       "...              ...               ...       ...     ...   \n",
       "26702      65+ Years      Some College     White  Female   \n",
       "26703  18 - 34 Years  College Graduate     White    Male   \n",
       "26704  55 - 64 Years      Some College     White  Female   \n",
       "26705  18 - 34 Years      Some College  Hispanic  Female   \n",
       "26706      65+ Years      Some College     White    Male   \n",
       "\n",
       "                    income_level marital_status housing_status  \\\n",
       "0                  Below Poverty    Not Married            Own   \n",
       "1                  Below Poverty    Not Married           Rent   \n",
       "2      <= $75,000, Above Poverty    Not Married            Own   \n",
       "3                  Below Poverty    Not Married           Rent   \n",
       "4      <= $75,000, Above Poverty        Married            Own   \n",
       "...                          ...            ...            ...   \n",
       "26702  <= $75,000, Above Poverty    Not Married            Own   \n",
       "26703  <= $75,000, Above Poverty    Not Married           Rent   \n",
       "26704                        NaN    Not Married            Own   \n",
       "26705  <= $75,000, Above Poverty        Married           Rent   \n",
       "26706  <= $75,000, Above Poverty        Married            Own   \n",
       "\n",
       "               employment                census_msa  \n",
       "0      Not in Labor Force                   Non-MSA  \n",
       "1                Employed  MSA, Not Principle  City  \n",
       "2                Employed  MSA, Not Principle  City  \n",
       "3      Not in Labor Force       MSA, Principle City  \n",
       "4                Employed  MSA, Not Principle  City  \n",
       "...                   ...                       ...  \n",
       "26702  Not in Labor Force                   Non-MSA  \n",
       "26703            Employed       MSA, Principle City  \n",
       "26704                 NaN  MSA, Not Principle  City  \n",
       "26705            Employed                   Non-MSA  \n",
       "26706  Not in Labor Force       MSA, Principle City  \n",
       "\n",
       "[26707 rows x 9 columns]"
      ]
     },
     "execution_count": 116,
     "metadata": {},
     "output_type": "execute_result"
    }
   ],
   "source": [
    "vaccine.select_dtypes(include=['object'])"
   ]
  },
  {
   "cell_type": "code",
   "execution_count": 117,
   "metadata": {},
   "outputs": [
    {
     "data": {
      "text/plain": [
       "65+ Years        6843\n",
       "55 - 64 Years    5563\n",
       "45 - 54 Years    5238\n",
       "18 - 34 Years    5215\n",
       "35 - 44 Years    3848\n",
       "Name: age_bracket, dtype: int64"
      ]
     },
     "execution_count": 117,
     "metadata": {},
     "output_type": "execute_result"
    }
   ],
   "source": [
    "vaccine[\"age_bracket\"].value_counts()"
   ]
  },
  {
   "cell_type": "markdown",
   "metadata": {},
   "source": [
    "## Grouping of age bracket variable"
   ]
  },
  {
   "cell_type": "markdown",
   "metadata": {},
   "source": [
    "#age bracket groups formed\n",
    "1.above 18\n",
    "2.above 40\n",
    "3.above 65"
   ]
  },
  {
   "cell_type": "code",
   "execution_count": 118,
   "metadata": {},
   "outputs": [],
   "source": [
    "vaccine[\"age_bracket\"]=vaccine[\"age_bracket\"].replace([\"65+ Years\"], \"65_and_above\")\n",
    "vaccine[\"age_bracket\"]=vaccine[\"age_bracket\"].replace([\"45 - 54 Years\",\"55 - 64 Years\"], \"45_and_above\")\n",
    "vaccine[\"age_bracket\"]=vaccine[\"age_bracket\"].replace([\"18 - 34 Years\",\"35 - 44 Years\"], \"18_and_above\")"
   ]
  },
  {
   "cell_type": "code",
   "execution_count": 119,
   "metadata": {},
   "outputs": [
    {
     "data": {
      "text/plain": [
       "45_and_above    10801\n",
       "18_and_above     9063\n",
       "65_and_above     6843\n",
       "Name: age_bracket, dtype: int64"
      ]
     },
     "execution_count": 119,
     "metadata": {},
     "output_type": "execute_result"
    }
   ],
   "source": [
    "vaccine[\"age_bracket\"].value_counts()"
   ]
  },
  {
   "cell_type": "markdown",
   "metadata": {},
   "source": [
    "## Grouping of qualification variable"
   ]
  },
  {
   "cell_type": "code",
   "execution_count": 120,
   "metadata": {},
   "outputs": [
    {
     "data": {
      "text/plain": [
       "College Graduate    10097\n",
       "Some College         7043\n",
       "12 Years             5797\n",
       "< 12 Years           2363\n",
       "Name: qualification, dtype: int64"
      ]
     },
     "execution_count": 120,
     "metadata": {},
     "output_type": "execute_result"
    }
   ],
   "source": [
    "vaccine[\"qualification\"].value_counts()"
   ]
  },
  {
   "cell_type": "code",
   "execution_count": 121,
   "metadata": {},
   "outputs": [],
   "source": [
    "vaccine[\"qualification\"]=vaccine[\"qualification\"].replace([\"< 12 Years\"], \"middle_scl\")\n",
    "vaccine[\"qualification\"]=vaccine[\"qualification\"].replace([\"12 Years\"], \"high_scl\")\n",
    "vaccine[\"qualification\"]=vaccine[\"qualification\"].replace([\"Some College\"], \"college\")\n",
    "vaccine[\"qualification\"]=vaccine[\"qualification\"].replace([\"College Graduate\"], \"college_grad\")"
   ]
  },
  {
   "cell_type": "code",
   "execution_count": 122,
   "metadata": {},
   "outputs": [
    {
     "data": {
      "text/plain": [
       "college_grad    10097\n",
       "college          7043\n",
       "high_scl         5797\n",
       "middle_scl       2363\n",
       "Name: qualification, dtype: int64"
      ]
     },
     "execution_count": 122,
     "metadata": {},
     "output_type": "execute_result"
    }
   ],
   "source": [
    "vaccine[\"qualification\"].value_counts()"
   ]
  },
  {
   "cell_type": "code",
   "execution_count": 123,
   "metadata": {},
   "outputs": [],
   "source": [
    "vaccine[\"qualification\"].fillna((\"others\"), inplace=True)"
   ]
  },
  {
   "cell_type": "markdown",
   "metadata": {},
   "source": [
    "## Grouping of Race Variable "
   ]
  },
  {
   "cell_type": "markdown",
   "metadata": {},
   "source": [
    "We just changed the column Other or multiple to Others"
   ]
  },
  {
   "cell_type": "code",
   "execution_count": 124,
   "metadata": {},
   "outputs": [
    {
     "data": {
      "text/plain": [
       "White                21222\n",
       "Black                 2118\n",
       "Hispanic              1755\n",
       "Other or Multiple     1612\n",
       "Name: race, dtype: int64"
      ]
     },
     "execution_count": 124,
     "metadata": {},
     "output_type": "execute_result"
    }
   ],
   "source": [
    "vaccine[\"race\"].value_counts()"
   ]
  },
  {
   "cell_type": "code",
   "execution_count": 125,
   "metadata": {},
   "outputs": [],
   "source": [
    "vaccine[\"race\"]=vaccine[\"race\"].replace([\"Other or Multiple\"], \"Others\")\n"
   ]
  },
  {
   "cell_type": "code",
   "execution_count": 126,
   "metadata": {},
   "outputs": [
    {
     "data": {
      "text/plain": [
       "White       21222\n",
       "Black        2118\n",
       "Hispanic     1755\n",
       "Others       1612\n",
       "Name: race, dtype: int64"
      ]
     },
     "execution_count": 126,
     "metadata": {},
     "output_type": "execute_result"
    }
   ],
   "source": [
    "vaccine[\"race\"].value_counts()"
   ]
  },
  {
   "cell_type": "markdown",
   "metadata": {},
   "source": [
    "### We changed the sex variable to integer datatype by assigning values(1,0)\n",
    "\n",
    "Male=1\n",
    "Female=0"
   ]
  },
  {
   "cell_type": "code",
   "execution_count": 127,
   "metadata": {},
   "outputs": [],
   "source": [
    "vaccine[\"sex\"]=np.where(vaccine[\"sex\"]==\"Male\",1,0)"
   ]
  },
  {
   "cell_type": "code",
   "execution_count": 128,
   "metadata": {},
   "outputs": [
    {
     "data": {
      "text/plain": [
       "0    15858\n",
       "1    10849\n",
       "Name: sex, dtype: int64"
      ]
     },
     "execution_count": 128,
     "metadata": {},
     "output_type": "execute_result"
    }
   ],
   "source": [
    "vaccine[\"sex\"].value_counts()"
   ]
  },
  {
   "cell_type": "markdown",
   "metadata": {},
   "source": [
    "## Grouping of Income variable"
   ]
  },
  {
   "cell_type": "markdown",
   "metadata": {},
   "source": [
    "We grouped the income variable as follows:-\n",
    "\n",
    "1.<= $75,000, Above Poverty- Middle Class\n",
    "2.> $75,000-Upper Class\n",
    "3.Below Poverty-Lower Class"
   ]
  },
  {
   "cell_type": "code",
   "execution_count": 129,
   "metadata": {},
   "outputs": [
    {
     "data": {
      "text/plain": [
       "<= $75,000, Above Poverty    12777\n",
       "> $75,000                     6810\n",
       "Below Poverty                 2697\n",
       "Name: income_level, dtype: int64"
      ]
     },
     "execution_count": 129,
     "metadata": {},
     "output_type": "execute_result"
    }
   ],
   "source": [
    "vaccine[\"income_level\"].value_counts()"
   ]
  },
  {
   "cell_type": "code",
   "execution_count": 130,
   "metadata": {},
   "outputs": [],
   "source": [
    "vaccine[\"income_level\"]=vaccine[\"income_level\"].replace([\"<= $75,000, Above Poverty\"], \"Middle_Class\")\n",
    "vaccine[\"income_level\"]=vaccine[\"income_level\"].replace([\"> $75,000\"], \"Upper_Class\")\n",
    "vaccine[\"income_level\"]=vaccine[\"income_level\"].replace([\"Below Poverty\"], \"Lower_Class\")"
   ]
  },
  {
   "cell_type": "code",
   "execution_count": 131,
   "metadata": {},
   "outputs": [
    {
     "data": {
      "text/plain": [
       "Middle_Class    12777\n",
       "Upper_Class      6810\n",
       "Lower_Class      2697\n",
       "Name: income_level, dtype: int64"
      ]
     },
     "execution_count": 131,
     "metadata": {},
     "output_type": "execute_result"
    }
   ],
   "source": [
    "vaccine[\"income_level\"].value_counts()"
   ]
  },
  {
   "cell_type": "markdown",
   "metadata": {},
   "source": [
    "We formed another separate category for the missing values and named it others "
   ]
  },
  {
   "cell_type": "code",
   "execution_count": 132,
   "metadata": {},
   "outputs": [],
   "source": [
    "vaccine[\"income_level\"].fillna((\"others\"), inplace=True)"
   ]
  },
  {
   "cell_type": "code",
   "execution_count": 133,
   "metadata": {},
   "outputs": [
    {
     "data": {
      "text/plain": [
       "Middle_Class    12777\n",
       "Upper_Class      6810\n",
       "others           4423\n",
       "Lower_Class      2697\n",
       "Name: income_level, dtype: int64"
      ]
     },
     "execution_count": 133,
     "metadata": {},
     "output_type": "execute_result"
    }
   ],
   "source": [
    "vaccine[\"income_level\"].value_counts()"
   ]
  },
  {
   "cell_type": "markdown",
   "metadata": {},
   "source": [
    "## Filling the other missing values "
   ]
  },
  {
   "cell_type": "code",
   "execution_count": 134,
   "metadata": {},
   "outputs": [
    {
     "data": {
      "text/plain": [
       "Married        13555\n",
       "Not Married    11744\n",
       "Name: marital_status, dtype: int64"
      ]
     },
     "execution_count": 134,
     "metadata": {},
     "output_type": "execute_result"
    }
   ],
   "source": [
    "vaccine[\"marital_status\"].value_counts()"
   ]
  },
  {
   "cell_type": "markdown",
   "metadata": {},
   "source": [
    "In marital_status,housing_status,employment columns we treated the missing values by forming a separate category named others for them."
   ]
  },
  {
   "cell_type": "code",
   "execution_count": 135,
   "metadata": {},
   "outputs": [],
   "source": [
    "vaccine[\"marital_status\"].fillna((\"others\"), inplace=True)"
   ]
  },
  {
   "cell_type": "code",
   "execution_count": 136,
   "metadata": {},
   "outputs": [],
   "source": [
    "vaccine[\"housing_status\"].fillna((\"others\"), inplace=True)"
   ]
  },
  {
   "cell_type": "code",
   "execution_count": 137,
   "metadata": {},
   "outputs": [],
   "source": [
    "vaccine[\"employment\"].fillna((\"others\"), inplace=True)"
   ]
  },
  {
   "cell_type": "code",
   "execution_count": 138,
   "metadata": {},
   "outputs": [
    {
     "data": {
      "text/plain": [
       "Employed              13560\n",
       "Not in Labor Force    10231\n",
       "others                 1463\n",
       "Unemployed             1453\n",
       "Name: employment, dtype: int64"
      ]
     },
     "execution_count": 138,
     "metadata": {},
     "output_type": "execute_result"
    }
   ],
   "source": [
    "vaccine[\"employment\"].value_counts()"
   ]
  },
  {
   "cell_type": "code",
   "execution_count": 139,
   "metadata": {},
   "outputs": [
    {
     "data": {
      "text/plain": [
       "MSA, Not Principle  City    11645\n",
       "MSA, Principle City          7864\n",
       "Non-MSA                      7198\n",
       "Name: census_msa, dtype: int64"
      ]
     },
     "execution_count": 139,
     "metadata": {},
     "output_type": "execute_result"
    }
   ],
   "source": [
    "vaccine[\"census_msa\"].value_counts()"
   ]
  },
  {
   "cell_type": "markdown",
   "metadata": {},
   "source": [
    "We filled the missing values in columns named dr_recc_h1n1_vacc and dr_recc_seasonal_vacc by the median"
   ]
  },
  {
   "cell_type": "code",
   "execution_count": 140,
   "metadata": {},
   "outputs": [],
   "source": [
    "cols = ['dr_recc_h1n1_vacc', 'dr_recc_seasonal_vacc']\n",
    "vaccine[cols]=vaccine[cols].fillna(vaccine.median().iloc[0])"
   ]
  },
  {
   "cell_type": "markdown",
   "metadata": {},
   "source": [
    "## Bivariate Plots"
   ]
  },
  {
   "cell_type": "code",
   "execution_count": 141,
   "metadata": {},
   "outputs": [
    {
     "name": "stdout",
     "output_type": "stream",
     "text": [
      "<class 'pandas.core.frame.DataFrame'>\n",
      "RangeIndex: 26707 entries, 0 to 26706\n",
      "Data columns (total 35 columns):\n",
      " #   Column                     Non-Null Count  Dtype  \n",
      "---  ------                     --------------  -----  \n",
      " 0   unique_id                  26707 non-null  int64  \n",
      " 1   h1n1_worry                 26707 non-null  float64\n",
      " 2   h1n1_awareness             26707 non-null  float64\n",
      " 3   antiviral_medication       26707 non-null  float64\n",
      " 4   contact_avoidance          26707 non-null  float64\n",
      " 5   bought_face_mask           26707 non-null  float64\n",
      " 6   wash_hands_frequently      26707 non-null  float64\n",
      " 7   avoid_large_gatherings     26707 non-null  float64\n",
      " 8   reduced_outside_home_cont  26707 non-null  float64\n",
      " 9   avoid_touch_face           26707 non-null  float64\n",
      " 10  dr_recc_h1n1_vacc          26707 non-null  float64\n",
      " 11  dr_recc_seasonal_vacc      26707 non-null  float64\n",
      " 12  chronic_medic_condition    26707 non-null  float64\n",
      " 13  cont_child_undr_6_mnths    26707 non-null  float64\n",
      " 14  is_health_worker           26707 non-null  float64\n",
      " 15  has_health_insur           26707 non-null  float64\n",
      " 16  is_h1n1_vacc_effective     26707 non-null  float64\n",
      " 17  is_h1n1_risky              26707 non-null  float64\n",
      " 18  sick_from_h1n1_vacc        26707 non-null  float64\n",
      " 19  is_seas_vacc_effective     26707 non-null  float64\n",
      " 20  is_seas_risky              26707 non-null  float64\n",
      " 21  sick_from_seas_vacc        26707 non-null  float64\n",
      " 22  age_bracket                26707 non-null  object \n",
      " 23  qualification              26707 non-null  object \n",
      " 24  race                       26707 non-null  object \n",
      " 25  sex                        26707 non-null  int32  \n",
      " 26  income_level               26707 non-null  object \n",
      " 27  marital_status             26707 non-null  object \n",
      " 28  housing_status             26707 non-null  object \n",
      " 29  employment                 26707 non-null  object \n",
      " 30  census_msa                 26707 non-null  object \n",
      " 31  no_of_adults               26707 non-null  float64\n",
      " 32  no_of_children             26707 non-null  float64\n",
      " 33  h1n1_vaccine               26707 non-null  int64  \n",
      " 34  insurance_status           26707 non-null  int32  \n",
      "dtypes: float64(23), int32(2), int64(2), object(8)\n",
      "memory usage: 6.9+ MB\n"
     ]
    }
   ],
   "source": [
    "vaccine.info()"
   ]
  },
  {
   "cell_type": "markdown",
   "metadata": {},
   "source": [
    "### qualification and h1n1 vaccine "
   ]
  },
  {
   "cell_type": "code",
   "execution_count": 142,
   "metadata": {},
   "outputs": [
    {
     "data": {
      "text/plain": [
       "<seaborn.axisgrid.FacetGrid at 0x21598f895e0>"
      ]
     },
     "execution_count": 142,
     "metadata": {},
     "output_type": "execute_result"
    },
    {
     "data": {
      "image/png": "[encoded data removed]",
      "text/plain": [
       "<Figure size 436.875x360 with 1 Axes>"
      ]
     },
     "metadata": {
      "needs_background": "light"
     },
     "output_type": "display_data"
    }
   ],
   "source": [
    "sns.catplot(x='qualification',hue='h1n1_vaccine',data=vaccine,kind=\"count\")"
   ]
  },
  {
   "cell_type": "markdown",
   "metadata": {},
   "source": [
    "We can observe from this graph that mostly people being college grads came forward in the largest number to get themselved vaccinated while people having completed their qualification only upto middle school didnt come in great numbers for the same.\n",
    "\n",
    "Others category too has less number of vaccinated individuals.They may be people having lesser qualification below middle scl etc. and thus may not really understand the benefits of getting vaccinated.They maybe having a kind of fear or stigma instilled in their minds regarding the same which need to be removed.\n",
    "\n",
    "University level qualification people(be it college going students or people who have completed their graduation) are keen to come forward for vaccination , as they are usually considered educated, broad-minded, and also have an  understanding of the threat posed to humans by infectious diseases.\n"
   ]
  },
  {
   "cell_type": "markdown",
   "metadata": {},
   "source": [
    "### Sex and h1n1 vaccine"
   ]
  },
  {
   "cell_type": "code",
   "execution_count": 143,
   "metadata": {},
   "outputs": [
    {
     "data": {
      "text/plain": [
       "<seaborn.axisgrid.FacetGrid at 0x2159c4ffa30>"
      ]
     },
     "execution_count": 143,
     "metadata": {},
     "output_type": "execute_result"
    },
    {
     "data": {
      "image/png": "[encoded data removed]",
      "text/plain": [
       "<Figure size 436.875x360 with 1 Axes>"
      ]
     },
     "metadata": {
      "needs_background": "light"
     },
     "output_type": "display_data"
    }
   ],
   "source": [
    "sns.catplot(x='sex',hue='h1n1_vaccine',data=vaccine,kind=\"count\")"
   ]
  },
  {
   "cell_type": "markdown",
   "metadata": {},
   "source": [
    "Male=1\n",
    "Female=0\n",
    "\n",
    "More females are getting vaccinated as compared to males.For this gap, one reason might be due to the fact that men are considered to be more masculine and tough.Thus, this reason is enough for them to avoid taking preventive health care."
   ]
  },
  {
   "cell_type": "code",
   "execution_count": 144,
   "metadata": {},
   "outputs": [
    {
     "data": {
      "text/plain": [
       "<seaborn.axisgrid.FacetGrid at 0x21598f89070>"
      ]
     },
     "execution_count": 144,
     "metadata": {},
     "output_type": "execute_result"
    },
    {
     "data": {
      "image/png": "[encoded data removed]",
      "text/plain": [
       "<Figure size 436.875x360 with 1 Axes>"
      ]
     },
     "metadata": {
      "needs_background": "light"
     },
     "output_type": "display_data"
    }
   ],
   "source": [
    "sns.catplot(x='age_bracket',hue='h1n1_vaccine',data=vaccine,kind=\"count\")"
   ]
  },
  {
   "cell_type": "markdown",
   "metadata": {},
   "source": [
    "45 and above are getting vaccinated more as compared to 65 above and 18 above age bracket.This might be because,the 65 and above age group are frail and thus may not be fit to go to the hospital for their vaccination. Thus they would want the medical employees to come to their homes for the same. For that , requirement of more medical staff is needed since some have to inoculate other age groups coming to the hospital as well and thus this age group shows less number of vaccinated individuals.\n",
    "House to house vaccination is required.\n",
    "\n",
    "18 above show less vaccination as it might be that the vaccination net may have been widened to this age group more recently as compared to the 45 above group because of which less number of people may have gone for vaccination since it may be the initial phase. Thus, data would have been less for this age group.\n",
    "\n"
   ]
  },
  {
   "cell_type": "markdown",
   "metadata": {},
   "source": [
    "### is_health_worker and h1n1_vaccine"
   ]
  },
  {
   "cell_type": "code",
   "execution_count": 145,
   "metadata": {},
   "outputs": [
    {
     "data": {
      "text/plain": [
       "<seaborn.axisgrid.FacetGrid at 0x21598ff8040>"
      ]
     },
     "execution_count": 145,
     "metadata": {},
     "output_type": "execute_result"
    },
    {
     "data": {
      "image/png": "[encoded data removed]",
      "text/plain": [
       "<Figure size 436.875x360 with 1 Axes>"
      ]
     },
     "metadata": {
      "needs_background": "light"
     },
     "output_type": "display_data"
    }
   ],
   "source": [
    "sns.catplot(x='is_health_worker',hue='h1n1_vaccine',data=vaccine,kind=\"count\")"
   ]
  },
  {
   "cell_type": "markdown",
   "metadata": {},
   "source": [
    "General public is getting vaccinated more as compared to health workers which is in itself an alarming sign.Health workers are responsible for treating the people and if they are not well protected to deal with the disease, it will be very difficult for the entire population in the long run."
   ]
  },
  {
   "cell_type": "markdown",
   "metadata": {},
   "source": [
    "### h1n1_awareness and h1n1_vaccine"
   ]
  },
  {
   "cell_type": "code",
   "execution_count": 146,
   "metadata": {},
   "outputs": [
    {
     "data": {
      "text/plain": [
       "<seaborn.axisgrid.FacetGrid at 0x21598edbf40>"
      ]
     },
     "execution_count": 146,
     "metadata": {},
     "output_type": "execute_result"
    },
    {
     "data": {
      "image/png": "[encoded data removed]",
      "text/plain": [
       "<Figure size 436.875x360 with 1 Axes>"
      ]
     },
     "metadata": {
      "needs_background": "light"
     },
     "output_type": "display_data"
    }
   ],
   "source": [
    "sns.catplot(x='h1n1_awareness',hue='h1n1_vaccine',data=vaccine,kind=\"count\")"
   ]
  },
  {
   "cell_type": "markdown",
   "metadata": {},
   "source": [
    "More the awareness more the chances of this vaccination drive to be successful."
   ]
  },
  {
   "cell_type": "markdown",
   "metadata": {},
   "source": [
    "### income_level and h1n1_vaccine"
   ]
  },
  {
   "cell_type": "code",
   "execution_count": 147,
   "metadata": {},
   "outputs": [
    {
     "data": {
      "text/plain": [
       "<seaborn.axisgrid.FacetGrid at 0x2159c1cb460>"
      ]
     },
     "execution_count": 147,
     "metadata": {},
     "output_type": "execute_result"
    },
    {
     "data": {
      "image/png": "[encoded data removed]",
      "text/plain": [
       "<Figure size 436.875x360 with 1 Axes>"
      ]
     },
     "metadata": {
      "needs_background": "light"
     },
     "output_type": "display_data"
    }
   ],
   "source": [
    "sns.catplot(x='income_level',hue='h1n1_vaccine',data=vaccine,kind=\"count\")"
   ]
  },
  {
   "cell_type": "markdown",
   "metadata": {},
   "source": [
    "Lower class individuals are less likely to get themselves vaccinated."
   ]
  },
  {
   "cell_type": "code",
   "execution_count": 148,
   "metadata": {},
   "outputs": [
    {
     "data": {
      "text/plain": [
       "<seaborn.axisgrid.FacetGrid at 0x2159c4c84c0>"
      ]
     },
     "execution_count": 148,
     "metadata": {},
     "output_type": "execute_result"
    },
    {
     "data": {
      "image/png": "[encoded data removed]",
      "text/plain": [
       "<Figure size 436.875x360 with 1 Axes>"
      ]
     },
     "metadata": {
      "needs_background": "light"
     },
     "output_type": "display_data"
    }
   ],
   "source": [
    "sns.catplot(x='is_h1n1_vacc_effective',hue='h1n1_vaccine',data=vaccine,kind=\"count\")"
   ]
  },
  {
   "cell_type": "markdown",
   "metadata": {},
   "source": [
    "People who rated 5 in the effectiveness of h1n1 vaccine are more likely to recommend it to others(family,friends, colleagues etc.) and only then will the vaccination count increase. \n",
    "\n",
    "More evidence needs to be provided by the government regarding the vaccine efficacy in order to increase awareness and remove hesitation among people regarding vaccinations."
   ]
  },
  {
   "cell_type": "markdown",
   "metadata": {},
   "source": [
    "## Outlier Check"
   ]
  },
  {
   "cell_type": "code",
   "execution_count": 149,
   "metadata": {},
   "outputs": [
    {
     "data": {
      "text/html": [
       "<div>\n",
       "<style scoped>\n",
       "    .dataframe tbody tr th:only-of-type {\n",
       "        vertical-align: middle;\n",
       "    }\n",
       "\n",
       "    .dataframe tbody tr th {\n",
       "        vertical-align: top;\n",
       "    }\n",
       "\n",
       "    .dataframe thead th {\n",
       "        text-align: right;\n",
       "    }\n",
       "</style>\n",
       "<table border=\"1\" class=\"dataframe\">\n",
       "  <thead>\n",
       "    <tr style=\"text-align: right;\">\n",
       "      <th></th>\n",
       "      <th>count</th>\n",
       "      <th>mean</th>\n",
       "      <th>std</th>\n",
       "      <th>min</th>\n",
       "      <th>1%</th>\n",
       "      <th>2%</th>\n",
       "      <th>3%</th>\n",
       "      <th>4%</th>\n",
       "      <th>5%</th>\n",
       "      <th>10%</th>\n",
       "      <th>...</th>\n",
       "      <th>25%</th>\n",
       "      <th>50%</th>\n",
       "      <th>75%</th>\n",
       "      <th>90%</th>\n",
       "      <th>95%</th>\n",
       "      <th>96%</th>\n",
       "      <th>97%</th>\n",
       "      <th>98%</th>\n",
       "      <th>99%</th>\n",
       "      <th>max</th>\n",
       "    </tr>\n",
       "  </thead>\n",
       "  <tbody>\n",
       "    <tr>\n",
       "      <th>unique_id</th>\n",
       "      <td>26707.0</td>\n",
       "      <td>13353.000000</td>\n",
       "      <td>7709.791156</td>\n",
       "      <td>0.0</td>\n",
       "      <td>267.06</td>\n",
       "      <td>534.12</td>\n",
       "      <td>801.18</td>\n",
       "      <td>1068.24</td>\n",
       "      <td>1335.3</td>\n",
       "      <td>2670.6</td>\n",
       "      <td>...</td>\n",
       "      <td>6676.5</td>\n",
       "      <td>13353.0</td>\n",
       "      <td>20029.5</td>\n",
       "      <td>24035.4</td>\n",
       "      <td>25370.7</td>\n",
       "      <td>25637.76</td>\n",
       "      <td>25904.82</td>\n",
       "      <td>26171.88</td>\n",
       "      <td>26438.94</td>\n",
       "      <td>26706.0</td>\n",
       "    </tr>\n",
       "    <tr>\n",
       "      <th>h1n1_worry</th>\n",
       "      <td>26707.0</td>\n",
       "      <td>1.619800</td>\n",
       "      <td>0.909016</td>\n",
       "      <td>0.0</td>\n",
       "      <td>0.00</td>\n",
       "      <td>0.00</td>\n",
       "      <td>0.00</td>\n",
       "      <td>0.00</td>\n",
       "      <td>0.0</td>\n",
       "      <td>0.0</td>\n",
       "      <td>...</td>\n",
       "      <td>1.0</td>\n",
       "      <td>2.0</td>\n",
       "      <td>2.0</td>\n",
       "      <td>3.0</td>\n",
       "      <td>3.0</td>\n",
       "      <td>3.00</td>\n",
       "      <td>3.00</td>\n",
       "      <td>3.00</td>\n",
       "      <td>3.00</td>\n",
       "      <td>3.0</td>\n",
       "    </tr>\n",
       "    <tr>\n",
       "      <th>h1n1_awareness</th>\n",
       "      <td>26707.0</td>\n",
       "      <td>1.261392</td>\n",
       "      <td>0.617047</td>\n",
       "      <td>0.0</td>\n",
       "      <td>0.00</td>\n",
       "      <td>0.00</td>\n",
       "      <td>0.00</td>\n",
       "      <td>0.00</td>\n",
       "      <td>0.0</td>\n",
       "      <td>1.0</td>\n",
       "      <td>...</td>\n",
       "      <td>1.0</td>\n",
       "      <td>1.0</td>\n",
       "      <td>2.0</td>\n",
       "      <td>2.0</td>\n",
       "      <td>2.0</td>\n",
       "      <td>2.00</td>\n",
       "      <td>2.00</td>\n",
       "      <td>2.00</td>\n",
       "      <td>2.00</td>\n",
       "      <td>2.0</td>\n",
       "    </tr>\n",
       "    <tr>\n",
       "      <th>antiviral_medication</th>\n",
       "      <td>26707.0</td>\n",
       "      <td>0.048714</td>\n",
       "      <td>0.215273</td>\n",
       "      <td>0.0</td>\n",
       "      <td>0.00</td>\n",
       "      <td>0.00</td>\n",
       "      <td>0.00</td>\n",
       "      <td>0.00</td>\n",
       "      <td>0.0</td>\n",
       "      <td>0.0</td>\n",
       "      <td>...</td>\n",
       "      <td>0.0</td>\n",
       "      <td>0.0</td>\n",
       "      <td>0.0</td>\n",
       "      <td>0.0</td>\n",
       "      <td>0.0</td>\n",
       "      <td>1.00</td>\n",
       "      <td>1.00</td>\n",
       "      <td>1.00</td>\n",
       "      <td>1.00</td>\n",
       "      <td>1.0</td>\n",
       "    </tr>\n",
       "    <tr>\n",
       "      <th>contact_avoidance</th>\n",
       "      <td>26707.0</td>\n",
       "      <td>0.727749</td>\n",
       "      <td>0.445127</td>\n",
       "      <td>0.0</td>\n",
       "      <td>0.00</td>\n",
       "      <td>0.00</td>\n",
       "      <td>0.00</td>\n",
       "      <td>0.00</td>\n",
       "      <td>0.0</td>\n",
       "      <td>0.0</td>\n",
       "      <td>...</td>\n",
       "      <td>0.0</td>\n",
       "      <td>1.0</td>\n",
       "      <td>1.0</td>\n",
       "      <td>1.0</td>\n",
       "      <td>1.0</td>\n",
       "      <td>1.00</td>\n",
       "      <td>1.00</td>\n",
       "      <td>1.00</td>\n",
       "      <td>1.00</td>\n",
       "      <td>1.0</td>\n",
       "    </tr>\n",
       "    <tr>\n",
       "      <th>bought_face_mask</th>\n",
       "      <td>26707.0</td>\n",
       "      <td>0.068933</td>\n",
       "      <td>0.253345</td>\n",
       "      <td>0.0</td>\n",
       "      <td>0.00</td>\n",
       "      <td>0.00</td>\n",
       "      <td>0.00</td>\n",
       "      <td>0.00</td>\n",
       "      <td>0.0</td>\n",
       "      <td>0.0</td>\n",
       "      <td>...</td>\n",
       "      <td>0.0</td>\n",
       "      <td>0.0</td>\n",
       "      <td>0.0</td>\n",
       "      <td>0.0</td>\n",
       "      <td>1.0</td>\n",
       "      <td>1.00</td>\n",
       "      <td>1.00</td>\n",
       "      <td>1.00</td>\n",
       "      <td>1.00</td>\n",
       "      <td>1.0</td>\n",
       "    </tr>\n",
       "    <tr>\n",
       "      <th>wash_hands_frequently</th>\n",
       "      <td>26707.0</td>\n",
       "      <td>0.825888</td>\n",
       "      <td>0.379213</td>\n",
       "      <td>0.0</td>\n",
       "      <td>0.00</td>\n",
       "      <td>0.00</td>\n",
       "      <td>0.00</td>\n",
       "      <td>0.00</td>\n",
       "      <td>0.0</td>\n",
       "      <td>0.0</td>\n",
       "      <td>...</td>\n",
       "      <td>1.0</td>\n",
       "      <td>1.0</td>\n",
       "      <td>1.0</td>\n",
       "      <td>1.0</td>\n",
       "      <td>1.0</td>\n",
       "      <td>1.00</td>\n",
       "      <td>1.00</td>\n",
       "      <td>1.00</td>\n",
       "      <td>1.00</td>\n",
       "      <td>1.0</td>\n",
       "    </tr>\n",
       "    <tr>\n",
       "      <th>avoid_large_gatherings</th>\n",
       "      <td>26707.0</td>\n",
       "      <td>0.357472</td>\n",
       "      <td>0.479264</td>\n",
       "      <td>0.0</td>\n",
       "      <td>0.00</td>\n",
       "      <td>0.00</td>\n",
       "      <td>0.00</td>\n",
       "      <td>0.00</td>\n",
       "      <td>0.0</td>\n",
       "      <td>0.0</td>\n",
       "      <td>...</td>\n",
       "      <td>0.0</td>\n",
       "      <td>0.0</td>\n",
       "      <td>1.0</td>\n",
       "      <td>1.0</td>\n",
       "      <td>1.0</td>\n",
       "      <td>1.00</td>\n",
       "      <td>1.00</td>\n",
       "      <td>1.00</td>\n",
       "      <td>1.00</td>\n",
       "      <td>1.0</td>\n",
       "    </tr>\n",
       "    <tr>\n",
       "      <th>reduced_outside_home_cont</th>\n",
       "      <td>26707.0</td>\n",
       "      <td>0.336279</td>\n",
       "      <td>0.472444</td>\n",
       "      <td>0.0</td>\n",
       "      <td>0.00</td>\n",
       "      <td>0.00</td>\n",
       "      <td>0.00</td>\n",
       "      <td>0.00</td>\n",
       "      <td>0.0</td>\n",
       "      <td>0.0</td>\n",
       "      <td>...</td>\n",
       "      <td>0.0</td>\n",
       "      <td>0.0</td>\n",
       "      <td>1.0</td>\n",
       "      <td>1.0</td>\n",
       "      <td>1.0</td>\n",
       "      <td>1.00</td>\n",
       "      <td>1.00</td>\n",
       "      <td>1.00</td>\n",
       "      <td>1.00</td>\n",
       "      <td>1.0</td>\n",
       "    </tr>\n",
       "    <tr>\n",
       "      <th>avoid_touch_face</th>\n",
       "      <td>26707.0</td>\n",
       "      <td>0.678811</td>\n",
       "      <td>0.466942</td>\n",
       "      <td>0.0</td>\n",
       "      <td>0.00</td>\n",
       "      <td>0.00</td>\n",
       "      <td>0.00</td>\n",
       "      <td>0.00</td>\n",
       "      <td>0.0</td>\n",
       "      <td>0.0</td>\n",
       "      <td>...</td>\n",
       "      <td>0.0</td>\n",
       "      <td>1.0</td>\n",
       "      <td>1.0</td>\n",
       "      <td>1.0</td>\n",
       "      <td>1.0</td>\n",
       "      <td>1.00</td>\n",
       "      <td>1.00</td>\n",
       "      <td>1.00</td>\n",
       "      <td>1.00</td>\n",
       "      <td>1.0</td>\n",
       "    </tr>\n",
       "    <tr>\n",
       "      <th>dr_recc_h1n1_vacc</th>\n",
       "      <td>26707.0</td>\n",
       "      <td>1080.162055</td>\n",
       "      <td>3640.665660</td>\n",
       "      <td>0.0</td>\n",
       "      <td>0.00</td>\n",
       "      <td>0.00</td>\n",
       "      <td>0.00</td>\n",
       "      <td>0.00</td>\n",
       "      <td>0.0</td>\n",
       "      <td>0.0</td>\n",
       "      <td>...</td>\n",
       "      <td>0.0</td>\n",
       "      <td>0.0</td>\n",
       "      <td>1.0</td>\n",
       "      <td>1.0</td>\n",
       "      <td>13353.0</td>\n",
       "      <td>13353.00</td>\n",
       "      <td>13353.00</td>\n",
       "      <td>13353.00</td>\n",
       "      <td>13353.00</td>\n",
       "      <td>13353.0</td>\n",
       "    </tr>\n",
       "    <tr>\n",
       "      <th>dr_recc_seasonal_vacc</th>\n",
       "      <td>26707.0</td>\n",
       "      <td>1080.262628</td>\n",
       "      <td>3640.635832</td>\n",
       "      <td>0.0</td>\n",
       "      <td>0.00</td>\n",
       "      <td>0.00</td>\n",
       "      <td>0.00</td>\n",
       "      <td>0.00</td>\n",
       "      <td>0.0</td>\n",
       "      <td>0.0</td>\n",
       "      <td>...</td>\n",
       "      <td>0.0</td>\n",
       "      <td>0.0</td>\n",
       "      <td>1.0</td>\n",
       "      <td>1.0</td>\n",
       "      <td>13353.0</td>\n",
       "      <td>13353.00</td>\n",
       "      <td>13353.00</td>\n",
       "      <td>13353.00</td>\n",
       "      <td>13353.00</td>\n",
       "      <td>13353.0</td>\n",
       "    </tr>\n",
       "    <tr>\n",
       "      <th>chronic_medic_condition</th>\n",
       "      <td>26707.0</td>\n",
       "      <td>0.272962</td>\n",
       "      <td>0.445490</td>\n",
       "      <td>0.0</td>\n",
       "      <td>0.00</td>\n",
       "      <td>0.00</td>\n",
       "      <td>0.00</td>\n",
       "      <td>0.00</td>\n",
       "      <td>0.0</td>\n",
       "      <td>0.0</td>\n",
       "      <td>...</td>\n",
       "      <td>0.0</td>\n",
       "      <td>0.0</td>\n",
       "      <td>1.0</td>\n",
       "      <td>1.0</td>\n",
       "      <td>1.0</td>\n",
       "      <td>1.00</td>\n",
       "      <td>1.00</td>\n",
       "      <td>1.00</td>\n",
       "      <td>1.00</td>\n",
       "      <td>1.0</td>\n",
       "    </tr>\n",
       "    <tr>\n",
       "      <th>cont_child_undr_6_mnths</th>\n",
       "      <td>26707.0</td>\n",
       "      <td>0.080054</td>\n",
       "      <td>0.271382</td>\n",
       "      <td>0.0</td>\n",
       "      <td>0.00</td>\n",
       "      <td>0.00</td>\n",
       "      <td>0.00</td>\n",
       "      <td>0.00</td>\n",
       "      <td>0.0</td>\n",
       "      <td>0.0</td>\n",
       "      <td>...</td>\n",
       "      <td>0.0</td>\n",
       "      <td>0.0</td>\n",
       "      <td>0.0</td>\n",
       "      <td>0.0</td>\n",
       "      <td>1.0</td>\n",
       "      <td>1.00</td>\n",
       "      <td>1.00</td>\n",
       "      <td>1.00</td>\n",
       "      <td>1.00</td>\n",
       "      <td>1.0</td>\n",
       "    </tr>\n",
       "    <tr>\n",
       "      <th>is_health_worker</th>\n",
       "      <td>26707.0</td>\n",
       "      <td>0.108548</td>\n",
       "      <td>0.311077</td>\n",
       "      <td>0.0</td>\n",
       "      <td>0.00</td>\n",
       "      <td>0.00</td>\n",
       "      <td>0.00</td>\n",
       "      <td>0.00</td>\n",
       "      <td>0.0</td>\n",
       "      <td>0.0</td>\n",
       "      <td>...</td>\n",
       "      <td>0.0</td>\n",
       "      <td>0.0</td>\n",
       "      <td>0.0</td>\n",
       "      <td>1.0</td>\n",
       "      <td>1.0</td>\n",
       "      <td>1.00</td>\n",
       "      <td>1.00</td>\n",
       "      <td>1.00</td>\n",
       "      <td>1.00</td>\n",
       "      <td>1.0</td>\n",
       "    </tr>\n",
       "    <tr>\n",
       "      <th>has_health_insur</th>\n",
       "      <td>26707.0</td>\n",
       "      <td>4.611637</td>\n",
       "      <td>4.053986</td>\n",
       "      <td>0.0</td>\n",
       "      <td>0.00</td>\n",
       "      <td>0.00</td>\n",
       "      <td>0.00</td>\n",
       "      <td>0.00</td>\n",
       "      <td>0.0</td>\n",
       "      <td>1.0</td>\n",
       "      <td>...</td>\n",
       "      <td>1.0</td>\n",
       "      <td>1.0</td>\n",
       "      <td>9.0</td>\n",
       "      <td>9.0</td>\n",
       "      <td>9.0</td>\n",
       "      <td>9.00</td>\n",
       "      <td>9.00</td>\n",
       "      <td>9.00</td>\n",
       "      <td>9.00</td>\n",
       "      <td>9.0</td>\n",
       "    </tr>\n",
       "    <tr>\n",
       "      <th>is_h1n1_vacc_effective</th>\n",
       "      <td>26707.0</td>\n",
       "      <td>3.852810</td>\n",
       "      <td>1.000195</td>\n",
       "      <td>1.0</td>\n",
       "      <td>1.00</td>\n",
       "      <td>1.00</td>\n",
       "      <td>1.00</td>\n",
       "      <td>2.00</td>\n",
       "      <td>2.0</td>\n",
       "      <td>2.0</td>\n",
       "      <td>...</td>\n",
       "      <td>3.0</td>\n",
       "      <td>4.0</td>\n",
       "      <td>5.0</td>\n",
       "      <td>5.0</td>\n",
       "      <td>5.0</td>\n",
       "      <td>5.00</td>\n",
       "      <td>5.00</td>\n",
       "      <td>5.00</td>\n",
       "      <td>5.00</td>\n",
       "      <td>5.0</td>\n",
       "    </tr>\n",
       "    <tr>\n",
       "      <th>is_h1n1_risky</th>\n",
       "      <td>26707.0</td>\n",
       "      <td>2.337589</td>\n",
       "      <td>1.276825</td>\n",
       "      <td>1.0</td>\n",
       "      <td>1.00</td>\n",
       "      <td>1.00</td>\n",
       "      <td>1.00</td>\n",
       "      <td>1.00</td>\n",
       "      <td>1.0</td>\n",
       "      <td>1.0</td>\n",
       "      <td>...</td>\n",
       "      <td>1.0</td>\n",
       "      <td>2.0</td>\n",
       "      <td>4.0</td>\n",
       "      <td>4.0</td>\n",
       "      <td>5.0</td>\n",
       "      <td>5.00</td>\n",
       "      <td>5.00</td>\n",
       "      <td>5.00</td>\n",
       "      <td>5.00</td>\n",
       "      <td>5.0</td>\n",
       "    </tr>\n",
       "    <tr>\n",
       "      <th>sick_from_h1n1_vacc</th>\n",
       "      <td>26707.0</td>\n",
       "      <td>2.352380</td>\n",
       "      <td>1.353339</td>\n",
       "      <td>1.0</td>\n",
       "      <td>1.00</td>\n",
       "      <td>1.00</td>\n",
       "      <td>1.00</td>\n",
       "      <td>1.00</td>\n",
       "      <td>1.0</td>\n",
       "      <td>1.0</td>\n",
       "      <td>...</td>\n",
       "      <td>1.0</td>\n",
       "      <td>2.0</td>\n",
       "      <td>4.0</td>\n",
       "      <td>4.0</td>\n",
       "      <td>5.0</td>\n",
       "      <td>5.00</td>\n",
       "      <td>5.00</td>\n",
       "      <td>5.00</td>\n",
       "      <td>5.00</td>\n",
       "      <td>5.0</td>\n",
       "    </tr>\n",
       "    <tr>\n",
       "      <th>is_seas_vacc_effective</th>\n",
       "      <td>26707.0</td>\n",
       "      <td>4.025536</td>\n",
       "      <td>1.077131</td>\n",
       "      <td>1.0</td>\n",
       "      <td>1.00</td>\n",
       "      <td>1.00</td>\n",
       "      <td>1.00</td>\n",
       "      <td>1.00</td>\n",
       "      <td>2.0</td>\n",
       "      <td>2.0</td>\n",
       "      <td>...</td>\n",
       "      <td>4.0</td>\n",
       "      <td>4.0</td>\n",
       "      <td>5.0</td>\n",
       "      <td>5.0</td>\n",
       "      <td>5.0</td>\n",
       "      <td>5.00</td>\n",
       "      <td>5.00</td>\n",
       "      <td>5.00</td>\n",
       "      <td>5.00</td>\n",
       "      <td>5.0</td>\n",
       "    </tr>\n",
       "    <tr>\n",
       "      <th>is_seas_risky</th>\n",
       "      <td>26707.0</td>\n",
       "      <td>2.705321</td>\n",
       "      <td>1.375216</td>\n",
       "      <td>1.0</td>\n",
       "      <td>1.00</td>\n",
       "      <td>1.00</td>\n",
       "      <td>1.00</td>\n",
       "      <td>1.00</td>\n",
       "      <td>1.0</td>\n",
       "      <td>1.0</td>\n",
       "      <td>...</td>\n",
       "      <td>2.0</td>\n",
       "      <td>2.0</td>\n",
       "      <td>4.0</td>\n",
       "      <td>5.0</td>\n",
       "      <td>5.0</td>\n",
       "      <td>5.00</td>\n",
       "      <td>5.00</td>\n",
       "      <td>5.00</td>\n",
       "      <td>5.00</td>\n",
       "      <td>5.0</td>\n",
       "    </tr>\n",
       "    <tr>\n",
       "      <th>sick_from_seas_vacc</th>\n",
       "      <td>26707.0</td>\n",
       "      <td>2.095630</td>\n",
       "      <td>1.328782</td>\n",
       "      <td>1.0</td>\n",
       "      <td>1.00</td>\n",
       "      <td>1.00</td>\n",
       "      <td>1.00</td>\n",
       "      <td>1.00</td>\n",
       "      <td>1.0</td>\n",
       "      <td>1.0</td>\n",
       "      <td>...</td>\n",
       "      <td>1.0</td>\n",
       "      <td>2.0</td>\n",
       "      <td>2.0</td>\n",
       "      <td>4.0</td>\n",
       "      <td>5.0</td>\n",
       "      <td>5.00</td>\n",
       "      <td>5.00</td>\n",
       "      <td>5.00</td>\n",
       "      <td>5.00</td>\n",
       "      <td>5.0</td>\n",
       "    </tr>\n",
       "    <tr>\n",
       "      <th>sex</th>\n",
       "      <td>26707.0</td>\n",
       "      <td>0.406223</td>\n",
       "      <td>0.491136</td>\n",
       "      <td>0.0</td>\n",
       "      <td>0.00</td>\n",
       "      <td>0.00</td>\n",
       "      <td>0.00</td>\n",
       "      <td>0.00</td>\n",
       "      <td>0.0</td>\n",
       "      <td>0.0</td>\n",
       "      <td>...</td>\n",
       "      <td>0.0</td>\n",
       "      <td>0.0</td>\n",
       "      <td>1.0</td>\n",
       "      <td>1.0</td>\n",
       "      <td>1.0</td>\n",
       "      <td>1.00</td>\n",
       "      <td>1.00</td>\n",
       "      <td>1.00</td>\n",
       "      <td>1.00</td>\n",
       "      <td>1.0</td>\n",
       "    </tr>\n",
       "    <tr>\n",
       "      <th>no_of_adults</th>\n",
       "      <td>26707.0</td>\n",
       "      <td>125.373572</td>\n",
       "      <td>1283.250061</td>\n",
       "      <td>0.0</td>\n",
       "      <td>0.00</td>\n",
       "      <td>0.00</td>\n",
       "      <td>0.00</td>\n",
       "      <td>0.00</td>\n",
       "      <td>0.0</td>\n",
       "      <td>0.0</td>\n",
       "      <td>...</td>\n",
       "      <td>0.0</td>\n",
       "      <td>1.0</td>\n",
       "      <td>1.0</td>\n",
       "      <td>2.0</td>\n",
       "      <td>3.0</td>\n",
       "      <td>3.00</td>\n",
       "      <td>3.00</td>\n",
       "      <td>3.00</td>\n",
       "      <td>3.00</td>\n",
       "      <td>13353.0</td>\n",
       "    </tr>\n",
       "    <tr>\n",
       "      <th>no_of_children</th>\n",
       "      <td>26707.0</td>\n",
       "      <td>125.024937</td>\n",
       "      <td>1283.283997</td>\n",
       "      <td>0.0</td>\n",
       "      <td>0.00</td>\n",
       "      <td>0.00</td>\n",
       "      <td>0.00</td>\n",
       "      <td>0.00</td>\n",
       "      <td>0.0</td>\n",
       "      <td>0.0</td>\n",
       "      <td>...</td>\n",
       "      <td>0.0</td>\n",
       "      <td>0.0</td>\n",
       "      <td>1.0</td>\n",
       "      <td>2.0</td>\n",
       "      <td>3.0</td>\n",
       "      <td>3.00</td>\n",
       "      <td>3.00</td>\n",
       "      <td>3.00</td>\n",
       "      <td>3.00</td>\n",
       "      <td>13353.0</td>\n",
       "    </tr>\n",
       "    <tr>\n",
       "      <th>h1n1_vaccine</th>\n",
       "      <td>26707.0</td>\n",
       "      <td>0.212454</td>\n",
       "      <td>0.409052</td>\n",
       "      <td>0.0</td>\n",
       "      <td>0.00</td>\n",
       "      <td>0.00</td>\n",
       "      <td>0.00</td>\n",
       "      <td>0.00</td>\n",
       "      <td>0.0</td>\n",
       "      <td>0.0</td>\n",
       "      <td>...</td>\n",
       "      <td>0.0</td>\n",
       "      <td>0.0</td>\n",
       "      <td>0.0</td>\n",
       "      <td>1.0</td>\n",
       "      <td>1.0</td>\n",
       "      <td>1.00</td>\n",
       "      <td>1.00</td>\n",
       "      <td>1.00</td>\n",
       "      <td>1.00</td>\n",
       "      <td>1.0</td>\n",
       "    </tr>\n",
       "    <tr>\n",
       "      <th>insurance_status</th>\n",
       "      <td>26707.0</td>\n",
       "      <td>0.540420</td>\n",
       "      <td>0.498373</td>\n",
       "      <td>0.0</td>\n",
       "      <td>0.00</td>\n",
       "      <td>0.00</td>\n",
       "      <td>0.00</td>\n",
       "      <td>0.00</td>\n",
       "      <td>0.0</td>\n",
       "      <td>0.0</td>\n",
       "      <td>...</td>\n",
       "      <td>0.0</td>\n",
       "      <td>1.0</td>\n",
       "      <td>1.0</td>\n",
       "      <td>1.0</td>\n",
       "      <td>1.0</td>\n",
       "      <td>1.00</td>\n",
       "      <td>1.00</td>\n",
       "      <td>1.00</td>\n",
       "      <td>1.00</td>\n",
       "      <td>1.0</td>\n",
       "    </tr>\n",
       "  </tbody>\n",
       "</table>\n",
       "<p>27 rows × 21 columns</p>\n",
       "</div>"
      ],
      "text/plain": [
       "                             count          mean          std  min      1%  \\\n",
       "unique_id                  26707.0  13353.000000  7709.791156  0.0  267.06   \n",
       "h1n1_worry                 26707.0      1.619800     0.909016  0.0    0.00   \n",
       "h1n1_awareness             26707.0      1.261392     0.617047  0.0    0.00   \n",
       "antiviral_medication       26707.0      0.048714     0.215273  0.0    0.00   \n",
       "contact_avoidance          26707.0      0.727749     0.445127  0.0    0.00   \n",
       "bought_face_mask           26707.0      0.068933     0.253345  0.0    0.00   \n",
       "wash_hands_frequently      26707.0      0.825888     0.379213  0.0    0.00   \n",
       "avoid_large_gatherings     26707.0      0.357472     0.479264  0.0    0.00   \n",
       "reduced_outside_home_cont  26707.0      0.336279     0.472444  0.0    0.00   \n",
       "avoid_touch_face           26707.0      0.678811     0.466942  0.0    0.00   \n",
       "dr_recc_h1n1_vacc          26707.0   1080.162055  3640.665660  0.0    0.00   \n",
       "dr_recc_seasonal_vacc      26707.0   1080.262628  3640.635832  0.0    0.00   \n",
       "chronic_medic_condition    26707.0      0.272962     0.445490  0.0    0.00   \n",
       "cont_child_undr_6_mnths    26707.0      0.080054     0.271382  0.0    0.00   \n",
       "is_health_worker           26707.0      0.108548     0.311077  0.0    0.00   \n",
       "has_health_insur           26707.0      4.611637     4.053986  0.0    0.00   \n",
       "is_h1n1_vacc_effective     26707.0      3.852810     1.000195  1.0    1.00   \n",
       "is_h1n1_risky              26707.0      2.337589     1.276825  1.0    1.00   \n",
       "sick_from_h1n1_vacc        26707.0      2.352380     1.353339  1.0    1.00   \n",
       "is_seas_vacc_effective     26707.0      4.025536     1.077131  1.0    1.00   \n",
       "is_seas_risky              26707.0      2.705321     1.375216  1.0    1.00   \n",
       "sick_from_seas_vacc        26707.0      2.095630     1.328782  1.0    1.00   \n",
       "sex                        26707.0      0.406223     0.491136  0.0    0.00   \n",
       "no_of_adults               26707.0    125.373572  1283.250061  0.0    0.00   \n",
       "no_of_children             26707.0    125.024937  1283.283997  0.0    0.00   \n",
       "h1n1_vaccine               26707.0      0.212454     0.409052  0.0    0.00   \n",
       "insurance_status           26707.0      0.540420     0.498373  0.0    0.00   \n",
       "\n",
       "                               2%      3%       4%      5%     10%  ...  \\\n",
       "unique_id                  534.12  801.18  1068.24  1335.3  2670.6  ...   \n",
       "h1n1_worry                   0.00    0.00     0.00     0.0     0.0  ...   \n",
       "h1n1_awareness               0.00    0.00     0.00     0.0     1.0  ...   \n",
       "antiviral_medication         0.00    0.00     0.00     0.0     0.0  ...   \n",
       "contact_avoidance            0.00    0.00     0.00     0.0     0.0  ...   \n",
       "bought_face_mask             0.00    0.00     0.00     0.0     0.0  ...   \n",
       "wash_hands_frequently        0.00    0.00     0.00     0.0     0.0  ...   \n",
       "avoid_large_gatherings       0.00    0.00     0.00     0.0     0.0  ...   \n",
       "reduced_outside_home_cont    0.00    0.00     0.00     0.0     0.0  ...   \n",
       "avoid_touch_face             0.00    0.00     0.00     0.0     0.0  ...   \n",
       "dr_recc_h1n1_vacc            0.00    0.00     0.00     0.0     0.0  ...   \n",
       "dr_recc_seasonal_vacc        0.00    0.00     0.00     0.0     0.0  ...   \n",
       "chronic_medic_condition      0.00    0.00     0.00     0.0     0.0  ...   \n",
       "cont_child_undr_6_mnths      0.00    0.00     0.00     0.0     0.0  ...   \n",
       "is_health_worker             0.00    0.00     0.00     0.0     0.0  ...   \n",
       "has_health_insur             0.00    0.00     0.00     0.0     1.0  ...   \n",
       "is_h1n1_vacc_effective       1.00    1.00     2.00     2.0     2.0  ...   \n",
       "is_h1n1_risky                1.00    1.00     1.00     1.0     1.0  ...   \n",
       "sick_from_h1n1_vacc          1.00    1.00     1.00     1.0     1.0  ...   \n",
       "is_seas_vacc_effective       1.00    1.00     1.00     2.0     2.0  ...   \n",
       "is_seas_risky                1.00    1.00     1.00     1.0     1.0  ...   \n",
       "sick_from_seas_vacc          1.00    1.00     1.00     1.0     1.0  ...   \n",
       "sex                          0.00    0.00     0.00     0.0     0.0  ...   \n",
       "no_of_adults                 0.00    0.00     0.00     0.0     0.0  ...   \n",
       "no_of_children               0.00    0.00     0.00     0.0     0.0  ...   \n",
       "h1n1_vaccine                 0.00    0.00     0.00     0.0     0.0  ...   \n",
       "insurance_status             0.00    0.00     0.00     0.0     0.0  ...   \n",
       "\n",
       "                              25%      50%      75%      90%      95%  \\\n",
       "unique_id                  6676.5  13353.0  20029.5  24035.4  25370.7   \n",
       "h1n1_worry                    1.0      2.0      2.0      3.0      3.0   \n",
       "h1n1_awareness                1.0      1.0      2.0      2.0      2.0   \n",
       "antiviral_medication          0.0      0.0      0.0      0.0      0.0   \n",
       "contact_avoidance             0.0      1.0      1.0      1.0      1.0   \n",
       "bought_face_mask              0.0      0.0      0.0      0.0      1.0   \n",
       "wash_hands_frequently         1.0      1.0      1.0      1.0      1.0   \n",
       "avoid_large_gatherings        0.0      0.0      1.0      1.0      1.0   \n",
       "reduced_outside_home_cont     0.0      0.0      1.0      1.0      1.0   \n",
       "avoid_touch_face              0.0      1.0      1.0      1.0      1.0   \n",
       "dr_recc_h1n1_vacc             0.0      0.0      1.0      1.0  13353.0   \n",
       "dr_recc_seasonal_vacc         0.0      0.0      1.0      1.0  13353.0   \n",
       "chronic_medic_condition       0.0      0.0      1.0      1.0      1.0   \n",
       "cont_child_undr_6_mnths       0.0      0.0      0.0      0.0      1.0   \n",
       "is_health_worker              0.0      0.0      0.0      1.0      1.0   \n",
       "has_health_insur              1.0      1.0      9.0      9.0      9.0   \n",
       "is_h1n1_vacc_effective        3.0      4.0      5.0      5.0      5.0   \n",
       "is_h1n1_risky                 1.0      2.0      4.0      4.0      5.0   \n",
       "sick_from_h1n1_vacc           1.0      2.0      4.0      4.0      5.0   \n",
       "is_seas_vacc_effective        4.0      4.0      5.0      5.0      5.0   \n",
       "is_seas_risky                 2.0      2.0      4.0      5.0      5.0   \n",
       "sick_from_seas_vacc           1.0      2.0      2.0      4.0      5.0   \n",
       "sex                           0.0      0.0      1.0      1.0      1.0   \n",
       "no_of_adults                  0.0      1.0      1.0      2.0      3.0   \n",
       "no_of_children                0.0      0.0      1.0      2.0      3.0   \n",
       "h1n1_vaccine                  0.0      0.0      0.0      1.0      1.0   \n",
       "insurance_status              0.0      1.0      1.0      1.0      1.0   \n",
       "\n",
       "                                96%       97%       98%       99%      max  \n",
       "unique_id                  25637.76  25904.82  26171.88  26438.94  26706.0  \n",
       "h1n1_worry                     3.00      3.00      3.00      3.00      3.0  \n",
       "h1n1_awareness                 2.00      2.00      2.00      2.00      2.0  \n",
       "antiviral_medication           1.00      1.00      1.00      1.00      1.0  \n",
       "contact_avoidance              1.00      1.00      1.00      1.00      1.0  \n",
       "bought_face_mask               1.00      1.00      1.00      1.00      1.0  \n",
       "wash_hands_frequently          1.00      1.00      1.00      1.00      1.0  \n",
       "avoid_large_gatherings         1.00      1.00      1.00      1.00      1.0  \n",
       "reduced_outside_home_cont      1.00      1.00      1.00      1.00      1.0  \n",
       "avoid_touch_face               1.00      1.00      1.00      1.00      1.0  \n",
       "dr_recc_h1n1_vacc          13353.00  13353.00  13353.00  13353.00  13353.0  \n",
       "dr_recc_seasonal_vacc      13353.00  13353.00  13353.00  13353.00  13353.0  \n",
       "chronic_medic_condition        1.00      1.00      1.00      1.00      1.0  \n",
       "cont_child_undr_6_mnths        1.00      1.00      1.00      1.00      1.0  \n",
       "is_health_worker               1.00      1.00      1.00      1.00      1.0  \n",
       "has_health_insur               9.00      9.00      9.00      9.00      9.0  \n",
       "is_h1n1_vacc_effective         5.00      5.00      5.00      5.00      5.0  \n",
       "is_h1n1_risky                  5.00      5.00      5.00      5.00      5.0  \n",
       "sick_from_h1n1_vacc            5.00      5.00      5.00      5.00      5.0  \n",
       "is_seas_vacc_effective         5.00      5.00      5.00      5.00      5.0  \n",
       "is_seas_risky                  5.00      5.00      5.00      5.00      5.0  \n",
       "sick_from_seas_vacc            5.00      5.00      5.00      5.00      5.0  \n",
       "sex                            1.00      1.00      1.00      1.00      1.0  \n",
       "no_of_adults                   3.00      3.00      3.00      3.00  13353.0  \n",
       "no_of_children                 3.00      3.00      3.00      3.00  13353.0  \n",
       "h1n1_vaccine                   1.00      1.00      1.00      1.00      1.0  \n",
       "insurance_status               1.00      1.00      1.00      1.00      1.0  \n",
       "\n",
       "[27 rows x 21 columns]"
      ]
     },
     "execution_count": 149,
     "metadata": {},
     "output_type": "execute_result"
    }
   ],
   "source": [
    "vaccine.describe(percentiles=[.01,.02,.03,.04,.05,.1,.15,.25,.5,.75,.90,.95,.96,.97,.98,.99]).T"
   ]
  },
  {
   "cell_type": "markdown",
   "metadata": {},
   "source": [
    "We did not find any outliers "
   ]
  },
  {
   "cell_type": "markdown",
   "metadata": {},
   "source": [
    "## Co-Relation Check"
   ]
  },
  {
   "cell_type": "code",
   "execution_count": 150,
   "metadata": {},
   "outputs": [
    {
     "data": {
      "text/html": [
       "<div>\n",
       "<style scoped>\n",
       "    .dataframe tbody tr th:only-of-type {\n",
       "        vertical-align: middle;\n",
       "    }\n",
       "\n",
       "    .dataframe tbody tr th {\n",
       "        vertical-align: top;\n",
       "    }\n",
       "\n",
       "    .dataframe thead th {\n",
       "        text-align: right;\n",
       "    }\n",
       "</style>\n",
       "<table border=\"1\" class=\"dataframe\">\n",
       "  <thead>\n",
       "    <tr style=\"text-align: right;\">\n",
       "      <th></th>\n",
       "      <th>unique_id</th>\n",
       "      <th>h1n1_worry</th>\n",
       "      <th>h1n1_awareness</th>\n",
       "      <th>antiviral_medication</th>\n",
       "      <th>contact_avoidance</th>\n",
       "      <th>bought_face_mask</th>\n",
       "      <th>wash_hands_frequently</th>\n",
       "      <th>avoid_large_gatherings</th>\n",
       "      <th>reduced_outside_home_cont</th>\n",
       "      <th>avoid_touch_face</th>\n",
       "      <th>...</th>\n",
       "      <th>is_h1n1_risky</th>\n",
       "      <th>sick_from_h1n1_vacc</th>\n",
       "      <th>is_seas_vacc_effective</th>\n",
       "      <th>is_seas_risky</th>\n",
       "      <th>sick_from_seas_vacc</th>\n",
       "      <th>sex</th>\n",
       "      <th>no_of_adults</th>\n",
       "      <th>no_of_children</th>\n",
       "      <th>h1n1_vaccine</th>\n",
       "      <th>insurance_status</th>\n",
       "    </tr>\n",
       "  </thead>\n",
       "  <tbody>\n",
       "    <tr>\n",
       "      <th>unique_id</th>\n",
       "      <td>1.000000</td>\n",
       "      <td>0.017896</td>\n",
       "      <td>0.003473</td>\n",
       "      <td>-0.008458</td>\n",
       "      <td>0.008912</td>\n",
       "      <td>-0.006654</td>\n",
       "      <td>0.011212</td>\n",
       "      <td>0.004455</td>\n",
       "      <td>0.009181</td>\n",
       "      <td>0.007606</td>\n",
       "      <td>...</td>\n",
       "      <td>0.000830</td>\n",
       "      <td>-0.002379</td>\n",
       "      <td>0.005880</td>\n",
       "      <td>-0.005545</td>\n",
       "      <td>0.008849</td>\n",
       "      <td>0.005169</td>\n",
       "      <td>-0.000972</td>\n",
       "      <td>-0.000975</td>\n",
       "      <td>-0.003280</td>\n",
       "      <td>0.001927</td>\n",
       "    </tr>\n",
       "    <tr>\n",
       "      <th>h1n1_worry</th>\n",
       "      <td>0.017896</td>\n",
       "      <td>1.000000</td>\n",
       "      <td>0.060828</td>\n",
       "      <td>0.089866</td>\n",
       "      <td>0.229648</td>\n",
       "      <td>0.155757</td>\n",
       "      <td>0.291670</td>\n",
       "      <td>0.254133</td>\n",
       "      <td>0.245404</td>\n",
       "      <td>0.245038</td>\n",
       "      <td>...</td>\n",
       "      <td>0.372716</td>\n",
       "      <td>0.355637</td>\n",
       "      <td>0.231649</td>\n",
       "      <td>0.327986</td>\n",
       "      <td>0.220568</td>\n",
       "      <td>-0.127503</td>\n",
       "      <td>0.000706</td>\n",
       "      <td>0.000751</td>\n",
       "      <td>0.121574</td>\n",
       "      <td>-0.113532</td>\n",
       "    </tr>\n",
       "    <tr>\n",
       "      <th>h1n1_awareness</th>\n",
       "      <td>0.003473</td>\n",
       "      <td>0.060828</td>\n",
       "      <td>1.000000</td>\n",
       "      <td>-0.010450</td>\n",
       "      <td>0.087194</td>\n",
       "      <td>0.029888</td>\n",
       "      <td>0.089690</td>\n",
       "      <td>-0.047293</td>\n",
       "      <td>-0.066479</td>\n",
       "      <td>0.084633</td>\n",
       "      <td>...</td>\n",
       "      <td>0.074394</td>\n",
       "      <td>-0.017038</td>\n",
       "      <td>0.085281</td>\n",
       "      <td>0.081156</td>\n",
       "      <td>-0.050857</td>\n",
       "      <td>-0.067567</td>\n",
       "      <td>-0.048028</td>\n",
       "      <td>-0.048005</td>\n",
       "      <td>0.117771</td>\n",
       "      <td>-0.030766</td>\n",
       "    </tr>\n",
       "    <tr>\n",
       "      <th>antiviral_medication</th>\n",
       "      <td>-0.008458</td>\n",
       "      <td>0.089866</td>\n",
       "      <td>-0.010450</td>\n",
       "      <td>1.000000</td>\n",
       "      <td>0.048533</td>\n",
       "      <td>0.145772</td>\n",
       "      <td>0.063996</td>\n",
       "      <td>0.106314</td>\n",
       "      <td>0.127204</td>\n",
       "      <td>0.069982</td>\n",
       "      <td>...</td>\n",
       "      <td>0.102553</td>\n",
       "      <td>0.076930</td>\n",
       "      <td>0.014498</td>\n",
       "      <td>0.081503</td>\n",
       "      <td>0.078618</td>\n",
       "      <td>-0.006196</td>\n",
       "      <td>0.017890</td>\n",
       "      <td>0.017924</td>\n",
       "      <td>0.040226</td>\n",
       "      <td>0.018468</td>\n",
       "    </tr>\n",
       "    <tr>\n",
       "      <th>contact_avoidance</th>\n",
       "      <td>0.008912</td>\n",
       "      <td>0.229648</td>\n",
       "      <td>0.087194</td>\n",
       "      <td>0.048533</td>\n",
       "      <td>1.000000</td>\n",
       "      <td>0.064155</td>\n",
       "      <td>0.334974</td>\n",
       "      <td>0.225402</td>\n",
       "      <td>0.217599</td>\n",
       "      <td>0.329796</td>\n",
       "      <td>...</td>\n",
       "      <td>0.116259</td>\n",
       "      <td>0.129983</td>\n",
       "      <td>0.117356</td>\n",
       "      <td>0.127991</td>\n",
       "      <td>0.084346</td>\n",
       "      <td>-0.112591</td>\n",
       "      <td>-0.012427</td>\n",
       "      <td>-0.012410</td>\n",
       "      <td>0.046837</td>\n",
       "      <td>-0.010061</td>\n",
       "    </tr>\n",
       "    <tr>\n",
       "      <th>bought_face_mask</th>\n",
       "      <td>-0.006654</td>\n",
       "      <td>0.155757</td>\n",
       "      <td>0.029888</td>\n",
       "      <td>0.145772</td>\n",
       "      <td>0.064155</td>\n",
       "      <td>1.000000</td>\n",
       "      <td>0.083229</td>\n",
       "      <td>0.180377</td>\n",
       "      <td>0.162964</td>\n",
       "      <td>0.103603</td>\n",
       "      <td>...</td>\n",
       "      <td>0.128316</td>\n",
       "      <td>0.104655</td>\n",
       "      <td>0.040889</td>\n",
       "      <td>0.105917</td>\n",
       "      <td>0.084084</td>\n",
       "      <td>-0.049912</td>\n",
       "      <td>0.018210</td>\n",
       "      <td>0.018206</td>\n",
       "      <td>0.070413</td>\n",
       "      <td>-0.005313</td>\n",
       "    </tr>\n",
       "    <tr>\n",
       "      <th>wash_hands_frequently</th>\n",
       "      <td>0.011212</td>\n",
       "      <td>0.291670</td>\n",
       "      <td>0.089690</td>\n",
       "      <td>0.063996</td>\n",
       "      <td>0.334974</td>\n",
       "      <td>0.083229</td>\n",
       "      <td>1.000000</td>\n",
       "      <td>0.194750</td>\n",
       "      <td>0.191804</td>\n",
       "      <td>0.362979</td>\n",
       "      <td>...</td>\n",
       "      <td>0.167414</td>\n",
       "      <td>0.148739</td>\n",
       "      <td>0.136936</td>\n",
       "      <td>0.170655</td>\n",
       "      <td>0.087218</td>\n",
       "      <td>-0.157033</td>\n",
       "      <td>-0.000658</td>\n",
       "      <td>-0.000630</td>\n",
       "      <td>0.074570</td>\n",
       "      <td>-0.036465</td>\n",
       "    </tr>\n",
       "    <tr>\n",
       "      <th>avoid_large_gatherings</th>\n",
       "      <td>0.004455</td>\n",
       "      <td>0.254133</td>\n",
       "      <td>-0.047293</td>\n",
       "      <td>0.106314</td>\n",
       "      <td>0.225402</td>\n",
       "      <td>0.180377</td>\n",
       "      <td>0.194750</td>\n",
       "      <td>1.000000</td>\n",
       "      <td>0.580881</td>\n",
       "      <td>0.251383</td>\n",
       "      <td>...</td>\n",
       "      <td>0.125076</td>\n",
       "      <td>0.183517</td>\n",
       "      <td>0.078208</td>\n",
       "      <td>0.130800</td>\n",
       "      <td>0.131414</td>\n",
       "      <td>-0.055871</td>\n",
       "      <td>0.004038</td>\n",
       "      <td>0.004050</td>\n",
       "      <td>0.018089</td>\n",
       "      <td>-0.053990</td>\n",
       "    </tr>\n",
       "    <tr>\n",
       "      <th>reduced_outside_home_cont</th>\n",
       "      <td>0.009181</td>\n",
       "      <td>0.245404</td>\n",
       "      <td>-0.066479</td>\n",
       "      <td>0.127204</td>\n",
       "      <td>0.217599</td>\n",
       "      <td>0.162964</td>\n",
       "      <td>0.191804</td>\n",
       "      <td>0.580881</td>\n",
       "      <td>1.000000</td>\n",
       "      <td>0.265401</td>\n",
       "      <td>...</td>\n",
       "      <td>0.123348</td>\n",
       "      <td>0.171669</td>\n",
       "      <td>0.066861</td>\n",
       "      <td>0.117428</td>\n",
       "      <td>0.133080</td>\n",
       "      <td>-0.039100</td>\n",
       "      <td>0.001029</td>\n",
       "      <td>0.001038</td>\n",
       "      <td>0.022080</td>\n",
       "      <td>-0.046837</td>\n",
       "    </tr>\n",
       "    <tr>\n",
       "      <th>avoid_touch_face</th>\n",
       "      <td>0.007606</td>\n",
       "      <td>0.245038</td>\n",
       "      <td>0.084633</td>\n",
       "      <td>0.069982</td>\n",
       "      <td>0.329796</td>\n",
       "      <td>0.103603</td>\n",
       "      <td>0.362979</td>\n",
       "      <td>0.251383</td>\n",
       "      <td>0.265401</td>\n",
       "      <td>1.000000</td>\n",
       "      <td>...</td>\n",
       "      <td>0.144442</td>\n",
       "      <td>0.130461</td>\n",
       "      <td>0.104530</td>\n",
       "      <td>0.141537</td>\n",
       "      <td>0.089156</td>\n",
       "      <td>-0.162693</td>\n",
       "      <td>-0.012536</td>\n",
       "      <td>-0.012519</td>\n",
       "      <td>0.070855</td>\n",
       "      <td>-0.008251</td>\n",
       "    </tr>\n",
       "    <tr>\n",
       "      <th>dr_recc_h1n1_vacc</th>\n",
       "      <td>0.001427</td>\n",
       "      <td>0.031476</td>\n",
       "      <td>-0.036181</td>\n",
       "      <td>-0.013533</td>\n",
       "      <td>-0.011081</td>\n",
       "      <td>0.000065</td>\n",
       "      <td>-0.020242</td>\n",
       "      <td>0.002834</td>\n",
       "      <td>-0.003005</td>\n",
       "      <td>-0.029471</td>\n",
       "      <td>...</td>\n",
       "      <td>0.007213</td>\n",
       "      <td>0.003346</td>\n",
       "      <td>-0.012632</td>\n",
       "      <td>-0.016006</td>\n",
       "      <td>-0.015038</td>\n",
       "      <td>0.007422</td>\n",
       "      <td>0.061227</td>\n",
       "      <td>0.061240</td>\n",
       "      <td>-0.091917</td>\n",
       "      <td>-0.221358</td>\n",
       "    </tr>\n",
       "    <tr>\n",
       "      <th>dr_recc_seasonal_vacc</th>\n",
       "      <td>0.001427</td>\n",
       "      <td>0.031476</td>\n",
       "      <td>-0.036183</td>\n",
       "      <td>-0.013535</td>\n",
       "      <td>-0.011079</td>\n",
       "      <td>0.000065</td>\n",
       "      <td>-0.020239</td>\n",
       "      <td>0.002837</td>\n",
       "      <td>-0.003002</td>\n",
       "      <td>-0.029468</td>\n",
       "      <td>...</td>\n",
       "      <td>0.007206</td>\n",
       "      <td>0.003343</td>\n",
       "      <td>-0.012621</td>\n",
       "      <td>-0.015999</td>\n",
       "      <td>-0.015041</td>\n",
       "      <td>0.007418</td>\n",
       "      <td>0.061225</td>\n",
       "      <td>0.061239</td>\n",
       "      <td>-0.091934</td>\n",
       "      <td>-0.221361</td>\n",
       "    </tr>\n",
       "    <tr>\n",
       "      <th>chronic_medic_condition</th>\n",
       "      <td>0.004753</td>\n",
       "      <td>0.092249</td>\n",
       "      <td>-0.011653</td>\n",
       "      <td>0.004637</td>\n",
       "      <td>0.042054</td>\n",
       "      <td>0.062200</td>\n",
       "      <td>0.030205</td>\n",
       "      <td>0.099621</td>\n",
       "      <td>0.093675</td>\n",
       "      <td>0.029966</td>\n",
       "      <td>...</td>\n",
       "      <td>0.121849</td>\n",
       "      <td>0.082861</td>\n",
       "      <td>0.093160</td>\n",
       "      <td>0.166381</td>\n",
       "      <td>0.061349</td>\n",
       "      <td>-0.049693</td>\n",
       "      <td>-0.046363</td>\n",
       "      <td>-0.046399</td>\n",
       "      <td>0.094360</td>\n",
       "      <td>0.047112</td>\n",
       "    </tr>\n",
       "    <tr>\n",
       "      <th>cont_child_undr_6_mnths</th>\n",
       "      <td>-0.004993</td>\n",
       "      <td>0.048400</td>\n",
       "      <td>0.025971</td>\n",
       "      <td>0.026183</td>\n",
       "      <td>0.000952</td>\n",
       "      <td>0.036828</td>\n",
       "      <td>0.035749</td>\n",
       "      <td>0.020074</td>\n",
       "      <td>0.016657</td>\n",
       "      <td>0.026506</td>\n",
       "      <td>...</td>\n",
       "      <td>0.087016</td>\n",
       "      <td>0.038295</td>\n",
       "      <td>0.005304</td>\n",
       "      <td>0.053479</td>\n",
       "      <td>0.042111</td>\n",
       "      <td>-0.034697</td>\n",
       "      <td>-0.027155</td>\n",
       "      <td>-0.027111</td>\n",
       "      <td>0.066712</td>\n",
       "      <td>0.003760</td>\n",
       "    </tr>\n",
       "    <tr>\n",
       "      <th>is_health_worker</th>\n",
       "      <td>-0.003372</td>\n",
       "      <td>0.032734</td>\n",
       "      <td>0.171516</td>\n",
       "      <td>0.007145</td>\n",
       "      <td>0.002232</td>\n",
       "      <td>0.065645</td>\n",
       "      <td>0.052930</td>\n",
       "      <td>-0.032226</td>\n",
       "      <td>-0.035128</td>\n",
       "      <td>0.066284</td>\n",
       "      <td>...</td>\n",
       "      <td>0.124095</td>\n",
       "      <td>0.010536</td>\n",
       "      <td>0.032069</td>\n",
       "      <td>0.092542</td>\n",
       "      <td>-0.011888</td>\n",
       "      <td>-0.108240</td>\n",
       "      <td>-0.032591</td>\n",
       "      <td>-0.032573</td>\n",
       "      <td>0.168056</td>\n",
       "      <td>0.009014</td>\n",
       "    </tr>\n",
       "    <tr>\n",
       "      <th>has_health_insur</th>\n",
       "      <td>-0.002471</td>\n",
       "      <td>0.113159</td>\n",
       "      <td>0.035868</td>\n",
       "      <td>-0.021313</td>\n",
       "      <td>0.011438</td>\n",
       "      <td>0.003572</td>\n",
       "      <td>0.037829</td>\n",
       "      <td>0.051355</td>\n",
       "      <td>0.044123</td>\n",
       "      <td>0.008736</td>\n",
       "      <td>...</td>\n",
       "      <td>0.041570</td>\n",
       "      <td>0.041557</td>\n",
       "      <td>-0.009828</td>\n",
       "      <td>-0.004308</td>\n",
       "      <td>-0.008996</td>\n",
       "      <td>-0.003285</td>\n",
       "      <td>0.101734</td>\n",
       "      <td>0.101778</td>\n",
       "      <td>-0.218497</td>\n",
       "      <td>-0.998259</td>\n",
       "    </tr>\n",
       "    <tr>\n",
       "      <th>is_h1n1_vacc_effective</th>\n",
       "      <td>0.005753</td>\n",
       "      <td>0.235841</td>\n",
       "      <td>0.119010</td>\n",
       "      <td>0.030172</td>\n",
       "      <td>0.109066</td>\n",
       "      <td>0.037679</td>\n",
       "      <td>0.134815</td>\n",
       "      <td>0.052432</td>\n",
       "      <td>0.050866</td>\n",
       "      <td>0.101776</td>\n",
       "      <td>...</td>\n",
       "      <td>0.259813</td>\n",
       "      <td>0.061805</td>\n",
       "      <td>0.469367</td>\n",
       "      <td>0.256131</td>\n",
       "      <td>0.013775</td>\n",
       "      <td>-0.016780</td>\n",
       "      <td>-0.020775</td>\n",
       "      <td>-0.020792</td>\n",
       "      <td>0.267352</td>\n",
       "      <td>0.066660</td>\n",
       "    </tr>\n",
       "    <tr>\n",
       "      <th>is_h1n1_risky</th>\n",
       "      <td>0.000830</td>\n",
       "      <td>0.372716</td>\n",
       "      <td>0.074394</td>\n",
       "      <td>0.102553</td>\n",
       "      <td>0.116259</td>\n",
       "      <td>0.128316</td>\n",
       "      <td>0.167414</td>\n",
       "      <td>0.125076</td>\n",
       "      <td>0.123348</td>\n",
       "      <td>0.144442</td>\n",
       "      <td>...</td>\n",
       "      <td>1.000000</td>\n",
       "      <td>0.335013</td>\n",
       "      <td>0.223904</td>\n",
       "      <td>0.562976</td>\n",
       "      <td>0.198760</td>\n",
       "      <td>-0.092762</td>\n",
       "      <td>-0.015563</td>\n",
       "      <td>-0.015512</td>\n",
       "      <td>0.320580</td>\n",
       "      <td>-0.041393</td>\n",
       "    </tr>\n",
       "    <tr>\n",
       "      <th>sick_from_h1n1_vacc</th>\n",
       "      <td>-0.002379</td>\n",
       "      <td>0.355637</td>\n",
       "      <td>-0.017038</td>\n",
       "      <td>0.076930</td>\n",
       "      <td>0.129983</td>\n",
       "      <td>0.104655</td>\n",
       "      <td>0.148739</td>\n",
       "      <td>0.183517</td>\n",
       "      <td>0.171669</td>\n",
       "      <td>0.130461</td>\n",
       "      <td>...</td>\n",
       "      <td>0.335013</td>\n",
       "      <td>1.000000</td>\n",
       "      <td>0.078158</td>\n",
       "      <td>0.268095</td>\n",
       "      <td>0.490243</td>\n",
       "      <td>-0.090360</td>\n",
       "      <td>-0.004811</td>\n",
       "      <td>-0.004769</td>\n",
       "      <td>0.074580</td>\n",
       "      <td>-0.043076</td>\n",
       "    </tr>\n",
       "    <tr>\n",
       "      <th>is_seas_vacc_effective</th>\n",
       "      <td>0.005880</td>\n",
       "      <td>0.231649</td>\n",
       "      <td>0.085281</td>\n",
       "      <td>0.014498</td>\n",
       "      <td>0.117356</td>\n",
       "      <td>0.040889</td>\n",
       "      <td>0.136936</td>\n",
       "      <td>0.078208</td>\n",
       "      <td>0.066861</td>\n",
       "      <td>0.104530</td>\n",
       "      <td>...</td>\n",
       "      <td>0.223904</td>\n",
       "      <td>0.078158</td>\n",
       "      <td>1.000000</td>\n",
       "      <td>0.343636</td>\n",
       "      <td>-0.015127</td>\n",
       "      <td>-0.050824</td>\n",
       "      <td>-0.024739</td>\n",
       "      <td>-0.024780</td>\n",
       "      <td>0.177799</td>\n",
       "      <td>0.013842</td>\n",
       "    </tr>\n",
       "    <tr>\n",
       "      <th>is_seas_risky</th>\n",
       "      <td>-0.005545</td>\n",
       "      <td>0.327986</td>\n",
       "      <td>0.081156</td>\n",
       "      <td>0.081503</td>\n",
       "      <td>0.127991</td>\n",
       "      <td>0.105917</td>\n",
       "      <td>0.170655</td>\n",
       "      <td>0.130800</td>\n",
       "      <td>0.117428</td>\n",
       "      <td>0.141537</td>\n",
       "      <td>...</td>\n",
       "      <td>0.562976</td>\n",
       "      <td>0.268095</td>\n",
       "      <td>0.343636</td>\n",
       "      <td>1.000000</td>\n",
       "      <td>0.206174</td>\n",
       "      <td>-0.090645</td>\n",
       "      <td>-0.033887</td>\n",
       "      <td>-0.033872</td>\n",
       "      <td>0.255874</td>\n",
       "      <td>0.006507</td>\n",
       "    </tr>\n",
       "    <tr>\n",
       "      <th>sick_from_seas_vacc</th>\n",
       "      <td>0.008849</td>\n",
       "      <td>0.220568</td>\n",
       "      <td>-0.050857</td>\n",
       "      <td>0.078618</td>\n",
       "      <td>0.084346</td>\n",
       "      <td>0.084084</td>\n",
       "      <td>0.087218</td>\n",
       "      <td>0.131414</td>\n",
       "      <td>0.133080</td>\n",
       "      <td>0.089156</td>\n",
       "      <td>...</td>\n",
       "      <td>0.198760</td>\n",
       "      <td>0.490243</td>\n",
       "      <td>-0.015127</td>\n",
       "      <td>0.206174</td>\n",
       "      <td>1.000000</td>\n",
       "      <td>-0.042946</td>\n",
       "      <td>-0.042153</td>\n",
       "      <td>-0.042126</td>\n",
       "      <td>0.009465</td>\n",
       "      <td>0.006150</td>\n",
       "    </tr>\n",
       "    <tr>\n",
       "      <th>sex</th>\n",
       "      <td>0.005169</td>\n",
       "      <td>-0.127503</td>\n",
       "      <td>-0.067567</td>\n",
       "      <td>-0.006196</td>\n",
       "      <td>-0.112591</td>\n",
       "      <td>-0.049912</td>\n",
       "      <td>-0.157033</td>\n",
       "      <td>-0.055871</td>\n",
       "      <td>-0.039100</td>\n",
       "      <td>-0.162693</td>\n",
       "      <td>...</td>\n",
       "      <td>-0.092762</td>\n",
       "      <td>-0.090360</td>\n",
       "      <td>-0.050824</td>\n",
       "      <td>-0.090645</td>\n",
       "      <td>-0.042946</td>\n",
       "      <td>1.000000</td>\n",
       "      <td>0.003885</td>\n",
       "      <td>0.003828</td>\n",
       "      <td>-0.020672</td>\n",
       "      <td>0.000456</td>\n",
       "    </tr>\n",
       "    <tr>\n",
       "      <th>no_of_adults</th>\n",
       "      <td>-0.000972</td>\n",
       "      <td>0.000706</td>\n",
       "      <td>-0.048028</td>\n",
       "      <td>0.017890</td>\n",
       "      <td>-0.012427</td>\n",
       "      <td>0.018210</td>\n",
       "      <td>-0.000658</td>\n",
       "      <td>0.004038</td>\n",
       "      <td>0.001029</td>\n",
       "      <td>-0.012536</td>\n",
       "      <td>...</td>\n",
       "      <td>-0.015563</td>\n",
       "      <td>-0.004811</td>\n",
       "      <td>-0.024739</td>\n",
       "      <td>-0.033887</td>\n",
       "      <td>-0.042153</td>\n",
       "      <td>0.003885</td>\n",
       "      <td>1.000000</td>\n",
       "      <td>1.000000</td>\n",
       "      <td>-0.013236</td>\n",
       "      <td>-0.102060</td>\n",
       "    </tr>\n",
       "    <tr>\n",
       "      <th>no_of_children</th>\n",
       "      <td>-0.000975</td>\n",
       "      <td>0.000751</td>\n",
       "      <td>-0.048005</td>\n",
       "      <td>0.017924</td>\n",
       "      <td>-0.012410</td>\n",
       "      <td>0.018206</td>\n",
       "      <td>-0.000630</td>\n",
       "      <td>0.004050</td>\n",
       "      <td>0.001038</td>\n",
       "      <td>-0.012519</td>\n",
       "      <td>...</td>\n",
       "      <td>-0.015512</td>\n",
       "      <td>-0.004769</td>\n",
       "      <td>-0.024780</td>\n",
       "      <td>-0.033872</td>\n",
       "      <td>-0.042126</td>\n",
       "      <td>0.003828</td>\n",
       "      <td>1.000000</td>\n",
       "      <td>1.000000</td>\n",
       "      <td>-0.013243</td>\n",
       "      <td>-0.102104</td>\n",
       "    </tr>\n",
       "    <tr>\n",
       "      <th>h1n1_vaccine</th>\n",
       "      <td>-0.003280</td>\n",
       "      <td>0.121574</td>\n",
       "      <td>0.117771</td>\n",
       "      <td>0.040226</td>\n",
       "      <td>0.046837</td>\n",
       "      <td>0.070413</td>\n",
       "      <td>0.074570</td>\n",
       "      <td>0.018089</td>\n",
       "      <td>0.022080</td>\n",
       "      <td>0.070855</td>\n",
       "      <td>...</td>\n",
       "      <td>0.320580</td>\n",
       "      <td>0.074580</td>\n",
       "      <td>0.177799</td>\n",
       "      <td>0.255874</td>\n",
       "      <td>0.009465</td>\n",
       "      <td>-0.020672</td>\n",
       "      <td>-0.013236</td>\n",
       "      <td>-0.013243</td>\n",
       "      <td>1.000000</td>\n",
       "      <td>0.224759</td>\n",
       "    </tr>\n",
       "    <tr>\n",
       "      <th>insurance_status</th>\n",
       "      <td>0.001927</td>\n",
       "      <td>-0.113532</td>\n",
       "      <td>-0.030766</td>\n",
       "      <td>0.018468</td>\n",
       "      <td>-0.010061</td>\n",
       "      <td>-0.005313</td>\n",
       "      <td>-0.036465</td>\n",
       "      <td>-0.053990</td>\n",
       "      <td>-0.046837</td>\n",
       "      <td>-0.008251</td>\n",
       "      <td>...</td>\n",
       "      <td>-0.041393</td>\n",
       "      <td>-0.043076</td>\n",
       "      <td>0.013842</td>\n",
       "      <td>0.006507</td>\n",
       "      <td>0.006150</td>\n",
       "      <td>0.000456</td>\n",
       "      <td>-0.102060</td>\n",
       "      <td>-0.102104</td>\n",
       "      <td>0.224759</td>\n",
       "      <td>1.000000</td>\n",
       "    </tr>\n",
       "  </tbody>\n",
       "</table>\n",
       "<p>27 rows × 27 columns</p>\n",
       "</div>"
      ],
      "text/plain": [
       "                           unique_id  h1n1_worry  h1n1_awareness  \\\n",
       "unique_id                   1.000000    0.017896        0.003473   \n",
       "h1n1_worry                  0.017896    1.000000        0.060828   \n",
       "h1n1_awareness              0.003473    0.060828        1.000000   \n",
       "antiviral_medication       -0.008458    0.089866       -0.010450   \n",
       "contact_avoidance           0.008912    0.229648        0.087194   \n",
       "bought_face_mask           -0.006654    0.155757        0.029888   \n",
       "wash_hands_frequently       0.011212    0.291670        0.089690   \n",
       "avoid_large_gatherings      0.004455    0.254133       -0.047293   \n",
       "reduced_outside_home_cont   0.009181    0.245404       -0.066479   \n",
       "avoid_touch_face            0.007606    0.245038        0.084633   \n",
       "dr_recc_h1n1_vacc           0.001427    0.031476       -0.036181   \n",
       "dr_recc_seasonal_vacc       0.001427    0.031476       -0.036183   \n",
       "chronic_medic_condition     0.004753    0.092249       -0.011653   \n",
       "cont_child_undr_6_mnths    -0.004993    0.048400        0.025971   \n",
       "is_health_worker           -0.003372    0.032734        0.171516   \n",
       "has_health_insur           -0.002471    0.113159        0.035868   \n",
       "is_h1n1_vacc_effective      0.005753    0.235841        0.119010   \n",
       "is_h1n1_risky               0.000830    0.372716        0.074394   \n",
       "sick_from_h1n1_vacc        -0.002379    0.355637       -0.017038   \n",
       "is_seas_vacc_effective      0.005880    0.231649        0.085281   \n",
       "is_seas_risky              -0.005545    0.327986        0.081156   \n",
       "sick_from_seas_vacc         0.008849    0.220568       -0.050857   \n",
       "sex                         0.005169   -0.127503       -0.067567   \n",
       "no_of_adults               -0.000972    0.000706       -0.048028   \n",
       "no_of_children             -0.000975    0.000751       -0.048005   \n",
       "h1n1_vaccine               -0.003280    0.121574        0.117771   \n",
       "insurance_status            0.001927   -0.113532       -0.030766   \n",
       "\n",
       "                           antiviral_medication  contact_avoidance  \\\n",
       "unique_id                             -0.008458           0.008912   \n",
       "h1n1_worry                             0.089866           0.229648   \n",
       "h1n1_awareness                        -0.010450           0.087194   \n",
       "antiviral_medication                   1.000000           0.048533   \n",
       "contact_avoidance                      0.048533           1.000000   \n",
       "bought_face_mask                       0.145772           0.064155   \n",
       "wash_hands_frequently                  0.063996           0.334974   \n",
       "avoid_large_gatherings                 0.106314           0.225402   \n",
       "reduced_outside_home_cont              0.127204           0.217599   \n",
       "avoid_touch_face                       0.069982           0.329796   \n",
       "dr_recc_h1n1_vacc                     -0.013533          -0.011081   \n",
       "dr_recc_seasonal_vacc                 -0.013535          -0.011079   \n",
       "chronic_medic_condition                0.004637           0.042054   \n",
       "cont_child_undr_6_mnths                0.026183           0.000952   \n",
       "is_health_worker                       0.007145           0.002232   \n",
       "has_health_insur                      -0.021313           0.011438   \n",
       "is_h1n1_vacc_effective                 0.030172           0.109066   \n",
       "is_h1n1_risky                          0.102553           0.116259   \n",
       "sick_from_h1n1_vacc                    0.076930           0.129983   \n",
       "is_seas_vacc_effective                 0.014498           0.117356   \n",
       "is_seas_risky                          0.081503           0.127991   \n",
       "sick_from_seas_vacc                    0.078618           0.084346   \n",
       "sex                                   -0.006196          -0.112591   \n",
       "no_of_adults                           0.017890          -0.012427   \n",
       "no_of_children                         0.017924          -0.012410   \n",
       "h1n1_vaccine                           0.040226           0.046837   \n",
       "insurance_status                       0.018468          -0.010061   \n",
       "\n",
       "                           bought_face_mask  wash_hands_frequently  \\\n",
       "unique_id                         -0.006654               0.011212   \n",
       "h1n1_worry                         0.155757               0.291670   \n",
       "h1n1_awareness                     0.029888               0.089690   \n",
       "antiviral_medication               0.145772               0.063996   \n",
       "contact_avoidance                  0.064155               0.334974   \n",
       "bought_face_mask                   1.000000               0.083229   \n",
       "wash_hands_frequently              0.083229               1.000000   \n",
       "avoid_large_gatherings             0.180377               0.194750   \n",
       "reduced_outside_home_cont          0.162964               0.191804   \n",
       "avoid_touch_face                   0.103603               0.362979   \n",
       "dr_recc_h1n1_vacc                  0.000065              -0.020242   \n",
       "dr_recc_seasonal_vacc              0.000065              -0.020239   \n",
       "chronic_medic_condition            0.062200               0.030205   \n",
       "cont_child_undr_6_mnths            0.036828               0.035749   \n",
       "is_health_worker                   0.065645               0.052930   \n",
       "has_health_insur                   0.003572               0.037829   \n",
       "is_h1n1_vacc_effective             0.037679               0.134815   \n",
       "is_h1n1_risky                      0.128316               0.167414   \n",
       "sick_from_h1n1_vacc                0.104655               0.148739   \n",
       "is_seas_vacc_effective             0.040889               0.136936   \n",
       "is_seas_risky                      0.105917               0.170655   \n",
       "sick_from_seas_vacc                0.084084               0.087218   \n",
       "sex                               -0.049912              -0.157033   \n",
       "no_of_adults                       0.018210              -0.000658   \n",
       "no_of_children                     0.018206              -0.000630   \n",
       "h1n1_vaccine                       0.070413               0.074570   \n",
       "insurance_status                  -0.005313              -0.036465   \n",
       "\n",
       "                           avoid_large_gatherings  reduced_outside_home_cont  \\\n",
       "unique_id                                0.004455                   0.009181   \n",
       "h1n1_worry                               0.254133                   0.245404   \n",
       "h1n1_awareness                          -0.047293                  -0.066479   \n",
       "antiviral_medication                     0.106314                   0.127204   \n",
       "contact_avoidance                        0.225402                   0.217599   \n",
       "bought_face_mask                         0.180377                   0.162964   \n",
       "wash_hands_frequently                    0.194750                   0.191804   \n",
       "avoid_large_gatherings                   1.000000                   0.580881   \n",
       "reduced_outside_home_cont                0.580881                   1.000000   \n",
       "avoid_touch_face                         0.251383                   0.265401   \n",
       "dr_recc_h1n1_vacc                        0.002834                  -0.003005   \n",
       "dr_recc_seasonal_vacc                    0.002837                  -0.003002   \n",
       "chronic_medic_condition                  0.099621                   0.093675   \n",
       "cont_child_undr_6_mnths                  0.020074                   0.016657   \n",
       "is_health_worker                        -0.032226                  -0.035128   \n",
       "has_health_insur                         0.051355                   0.044123   \n",
       "is_h1n1_vacc_effective                   0.052432                   0.050866   \n",
       "is_h1n1_risky                            0.125076                   0.123348   \n",
       "sick_from_h1n1_vacc                      0.183517                   0.171669   \n",
       "is_seas_vacc_effective                   0.078208                   0.066861   \n",
       "is_seas_risky                            0.130800                   0.117428   \n",
       "sick_from_seas_vacc                      0.131414                   0.133080   \n",
       "sex                                     -0.055871                  -0.039100   \n",
       "no_of_adults                             0.004038                   0.001029   \n",
       "no_of_children                           0.004050                   0.001038   \n",
       "h1n1_vaccine                             0.018089                   0.022080   \n",
       "insurance_status                        -0.053990                  -0.046837   \n",
       "\n",
       "                           avoid_touch_face  ...  is_h1n1_risky  \\\n",
       "unique_id                          0.007606  ...       0.000830   \n",
       "h1n1_worry                         0.245038  ...       0.372716   \n",
       "h1n1_awareness                     0.084633  ...       0.074394   \n",
       "antiviral_medication               0.069982  ...       0.102553   \n",
       "contact_avoidance                  0.329796  ...       0.116259   \n",
       "bought_face_mask                   0.103603  ...       0.128316   \n",
       "wash_hands_frequently              0.362979  ...       0.167414   \n",
       "avoid_large_gatherings             0.251383  ...       0.125076   \n",
       "reduced_outside_home_cont          0.265401  ...       0.123348   \n",
       "avoid_touch_face                   1.000000  ...       0.144442   \n",
       "dr_recc_h1n1_vacc                 -0.029471  ...       0.007213   \n",
       "dr_recc_seasonal_vacc             -0.029468  ...       0.007206   \n",
       "chronic_medic_condition            0.029966  ...       0.121849   \n",
       "cont_child_undr_6_mnths            0.026506  ...       0.087016   \n",
       "is_health_worker                   0.066284  ...       0.124095   \n",
       "has_health_insur                   0.008736  ...       0.041570   \n",
       "is_h1n1_vacc_effective             0.101776  ...       0.259813   \n",
       "is_h1n1_risky                      0.144442  ...       1.000000   \n",
       "sick_from_h1n1_vacc                0.130461  ...       0.335013   \n",
       "is_seas_vacc_effective             0.104530  ...       0.223904   \n",
       "is_seas_risky                      0.141537  ...       0.562976   \n",
       "sick_from_seas_vacc                0.089156  ...       0.198760   \n",
       "sex                               -0.162693  ...      -0.092762   \n",
       "no_of_adults                      -0.012536  ...      -0.015563   \n",
       "no_of_children                    -0.012519  ...      -0.015512   \n",
       "h1n1_vaccine                       0.070855  ...       0.320580   \n",
       "insurance_status                  -0.008251  ...      -0.041393   \n",
       "\n",
       "                           sick_from_h1n1_vacc  is_seas_vacc_effective  \\\n",
       "unique_id                            -0.002379                0.005880   \n",
       "h1n1_worry                            0.355637                0.231649   \n",
       "h1n1_awareness                       -0.017038                0.085281   \n",
       "antiviral_medication                  0.076930                0.014498   \n",
       "contact_avoidance                     0.129983                0.117356   \n",
       "bought_face_mask                      0.104655                0.040889   \n",
       "wash_hands_frequently                 0.148739                0.136936   \n",
       "avoid_large_gatherings                0.183517                0.078208   \n",
       "reduced_outside_home_cont             0.171669                0.066861   \n",
       "avoid_touch_face                      0.130461                0.104530   \n",
       "dr_recc_h1n1_vacc                     0.003346               -0.012632   \n",
       "dr_recc_seasonal_vacc                 0.003343               -0.012621   \n",
       "chronic_medic_condition               0.082861                0.093160   \n",
       "cont_child_undr_6_mnths               0.038295                0.005304   \n",
       "is_health_worker                      0.010536                0.032069   \n",
       "has_health_insur                      0.041557               -0.009828   \n",
       "is_h1n1_vacc_effective                0.061805                0.469367   \n",
       "is_h1n1_risky                         0.335013                0.223904   \n",
       "sick_from_h1n1_vacc                   1.000000                0.078158   \n",
       "is_seas_vacc_effective                0.078158                1.000000   \n",
       "is_seas_risky                         0.268095                0.343636   \n",
       "sick_from_seas_vacc                   0.490243               -0.015127   \n",
       "sex                                  -0.090360               -0.050824   \n",
       "no_of_adults                         -0.004811               -0.024739   \n",
       "no_of_children                       -0.004769               -0.024780   \n",
       "h1n1_vaccine                          0.074580                0.177799   \n",
       "insurance_status                     -0.043076                0.013842   \n",
       "\n",
       "                           is_seas_risky  sick_from_seas_vacc       sex  \\\n",
       "unique_id                      -0.005545             0.008849  0.005169   \n",
       "h1n1_worry                      0.327986             0.220568 -0.127503   \n",
       "h1n1_awareness                  0.081156            -0.050857 -0.067567   \n",
       "antiviral_medication            0.081503             0.078618 -0.006196   \n",
       "contact_avoidance               0.127991             0.084346 -0.112591   \n",
       "bought_face_mask                0.105917             0.084084 -0.049912   \n",
       "wash_hands_frequently           0.170655             0.087218 -0.157033   \n",
       "avoid_large_gatherings          0.130800             0.131414 -0.055871   \n",
       "reduced_outside_home_cont       0.117428             0.133080 -0.039100   \n",
       "avoid_touch_face                0.141537             0.089156 -0.162693   \n",
       "dr_recc_h1n1_vacc              -0.016006            -0.015038  0.007422   \n",
       "dr_recc_seasonal_vacc          -0.015999            -0.015041  0.007418   \n",
       "chronic_medic_condition         0.166381             0.061349 -0.049693   \n",
       "cont_child_undr_6_mnths         0.053479             0.042111 -0.034697   \n",
       "is_health_worker                0.092542            -0.011888 -0.108240   \n",
       "has_health_insur               -0.004308            -0.008996 -0.003285   \n",
       "is_h1n1_vacc_effective          0.256131             0.013775 -0.016780   \n",
       "is_h1n1_risky                   0.562976             0.198760 -0.092762   \n",
       "sick_from_h1n1_vacc             0.268095             0.490243 -0.090360   \n",
       "is_seas_vacc_effective          0.343636            -0.015127 -0.050824   \n",
       "is_seas_risky                   1.000000             0.206174 -0.090645   \n",
       "sick_from_seas_vacc             0.206174             1.000000 -0.042946   \n",
       "sex                            -0.090645            -0.042946  1.000000   \n",
       "no_of_adults                   -0.033887            -0.042153  0.003885   \n",
       "no_of_children                 -0.033872            -0.042126  0.003828   \n",
       "h1n1_vaccine                    0.255874             0.009465 -0.020672   \n",
       "insurance_status                0.006507             0.006150  0.000456   \n",
       "\n",
       "                           no_of_adults  no_of_children  h1n1_vaccine  \\\n",
       "unique_id                     -0.000972       -0.000975     -0.003280   \n",
       "h1n1_worry                     0.000706        0.000751      0.121574   \n",
       "h1n1_awareness                -0.048028       -0.048005      0.117771   \n",
       "antiviral_medication           0.017890        0.017924      0.040226   \n",
       "contact_avoidance             -0.012427       -0.012410      0.046837   \n",
       "bought_face_mask               0.018210        0.018206      0.070413   \n",
       "wash_hands_frequently         -0.000658       -0.000630      0.074570   \n",
       "avoid_large_gatherings         0.004038        0.004050      0.018089   \n",
       "reduced_outside_home_cont      0.001029        0.001038      0.022080   \n",
       "avoid_touch_face              -0.012536       -0.012519      0.070855   \n",
       "dr_recc_h1n1_vacc              0.061227        0.061240     -0.091917   \n",
       "dr_recc_seasonal_vacc          0.061225        0.061239     -0.091934   \n",
       "chronic_medic_condition       -0.046363       -0.046399      0.094360   \n",
       "cont_child_undr_6_mnths       -0.027155       -0.027111      0.066712   \n",
       "is_health_worker              -0.032591       -0.032573      0.168056   \n",
       "has_health_insur               0.101734        0.101778     -0.218497   \n",
       "is_h1n1_vacc_effective        -0.020775       -0.020792      0.267352   \n",
       "is_h1n1_risky                 -0.015563       -0.015512      0.320580   \n",
       "sick_from_h1n1_vacc           -0.004811       -0.004769      0.074580   \n",
       "is_seas_vacc_effective        -0.024739       -0.024780      0.177799   \n",
       "is_seas_risky                 -0.033887       -0.033872      0.255874   \n",
       "sick_from_seas_vacc           -0.042153       -0.042126      0.009465   \n",
       "sex                            0.003885        0.003828     -0.020672   \n",
       "no_of_adults                   1.000000        1.000000     -0.013236   \n",
       "no_of_children                 1.000000        1.000000     -0.013243   \n",
       "h1n1_vaccine                  -0.013236       -0.013243      1.000000   \n",
       "insurance_status              -0.102060       -0.102104      0.224759   \n",
       "\n",
       "                           insurance_status  \n",
       "unique_id                          0.001927  \n",
       "h1n1_worry                        -0.113532  \n",
       "h1n1_awareness                    -0.030766  \n",
       "antiviral_medication               0.018468  \n",
       "contact_avoidance                 -0.010061  \n",
       "bought_face_mask                  -0.005313  \n",
       "wash_hands_frequently             -0.036465  \n",
       "avoid_large_gatherings            -0.053990  \n",
       "reduced_outside_home_cont         -0.046837  \n",
       "avoid_touch_face                  -0.008251  \n",
       "dr_recc_h1n1_vacc                 -0.221358  \n",
       "dr_recc_seasonal_vacc             -0.221361  \n",
       "chronic_medic_condition            0.047112  \n",
       "cont_child_undr_6_mnths            0.003760  \n",
       "is_health_worker                   0.009014  \n",
       "has_health_insur                  -0.998259  \n",
       "is_h1n1_vacc_effective             0.066660  \n",
       "is_h1n1_risky                     -0.041393  \n",
       "sick_from_h1n1_vacc               -0.043076  \n",
       "is_seas_vacc_effective             0.013842  \n",
       "is_seas_risky                      0.006507  \n",
       "sick_from_seas_vacc                0.006150  \n",
       "sex                                0.000456  \n",
       "no_of_adults                      -0.102060  \n",
       "no_of_children                    -0.102104  \n",
       "h1n1_vaccine                       0.224759  \n",
       "insurance_status                   1.000000  \n",
       "\n",
       "[27 rows x 27 columns]"
      ]
     },
     "execution_count": 150,
     "metadata": {},
     "output_type": "execute_result"
    }
   ],
   "source": [
    "corr=vaccine.corr()\n",
    "corr"
   ]
  },
  {
   "cell_type": "code",
   "execution_count": 151,
   "metadata": {},
   "outputs": [
    {
     "data": {
      "image/png": "[encoded data removed]",
      "text/plain": [
       "<Figure size 720x576 with 2 Axes>"
      ]
     },
     "metadata": {
      "needs_background": "light"
     },
     "output_type": "display_data"
    }
   ],
   "source": [
    "plt.figure(figsize=(10,8))\n",
    "sns.heatmap(vaccine.corr())\n",
    "plt.show()"
   ]
  },
  {
   "cell_type": "markdown",
   "metadata": {},
   "source": [
    "The co-relation was not exceeding the value greater than 0.7 which indicates moderate co-relation between the independent variables.\n",
    "\n",
    "So no multi-collinearity observed"
   ]
  },
  {
   "cell_type": "markdown",
   "metadata": {},
   "source": [
    "## Dummy Creation"
   ]
  },
  {
   "cell_type": "markdown",
   "metadata": {},
   "source": [
    "We converted all the object variable columns to the dummy or indicator variables"
   ]
  },
  {
   "cell_type": "code",
   "execution_count": 152,
   "metadata": {},
   "outputs": [
    {
     "data": {
      "text/html": [
       "<div>\n",
       "<style scoped>\n",
       "    .dataframe tbody tr th:only-of-type {\n",
       "        vertical-align: middle;\n",
       "    }\n",
       "\n",
       "    .dataframe tbody tr th {\n",
       "        vertical-align: top;\n",
       "    }\n",
       "\n",
       "    .dataframe thead th {\n",
       "        text-align: right;\n",
       "    }\n",
       "</style>\n",
       "<table border=\"1\" class=\"dataframe\">\n",
       "  <thead>\n",
       "    <tr style=\"text-align: right;\">\n",
       "      <th></th>\n",
       "      <th>age_bracket</th>\n",
       "      <th>qualification</th>\n",
       "      <th>race</th>\n",
       "      <th>income_level</th>\n",
       "      <th>marital_status</th>\n",
       "      <th>housing_status</th>\n",
       "      <th>employment</th>\n",
       "      <th>census_msa</th>\n",
       "    </tr>\n",
       "  </thead>\n",
       "  <tbody>\n",
       "    <tr>\n",
       "      <th>0</th>\n",
       "      <td>45_and_above</td>\n",
       "      <td>middle_scl</td>\n",
       "      <td>White</td>\n",
       "      <td>Lower_Class</td>\n",
       "      <td>Not Married</td>\n",
       "      <td>Own</td>\n",
       "      <td>Not in Labor Force</td>\n",
       "      <td>Non-MSA</td>\n",
       "    </tr>\n",
       "    <tr>\n",
       "      <th>1</th>\n",
       "      <td>18_and_above</td>\n",
       "      <td>high_scl</td>\n",
       "      <td>White</td>\n",
       "      <td>Lower_Class</td>\n",
       "      <td>Not Married</td>\n",
       "      <td>Rent</td>\n",
       "      <td>Employed</td>\n",
       "      <td>MSA, Not Principle  City</td>\n",
       "    </tr>\n",
       "    <tr>\n",
       "      <th>2</th>\n",
       "      <td>18_and_above</td>\n",
       "      <td>college_grad</td>\n",
       "      <td>White</td>\n",
       "      <td>Middle_Class</td>\n",
       "      <td>Not Married</td>\n",
       "      <td>Own</td>\n",
       "      <td>Employed</td>\n",
       "      <td>MSA, Not Principle  City</td>\n",
       "    </tr>\n",
       "    <tr>\n",
       "      <th>3</th>\n",
       "      <td>65_and_above</td>\n",
       "      <td>high_scl</td>\n",
       "      <td>White</td>\n",
       "      <td>Lower_Class</td>\n",
       "      <td>Not Married</td>\n",
       "      <td>Rent</td>\n",
       "      <td>Not in Labor Force</td>\n",
       "      <td>MSA, Principle City</td>\n",
       "    </tr>\n",
       "    <tr>\n",
       "      <th>4</th>\n",
       "      <td>45_and_above</td>\n",
       "      <td>college</td>\n",
       "      <td>White</td>\n",
       "      <td>Middle_Class</td>\n",
       "      <td>Married</td>\n",
       "      <td>Own</td>\n",
       "      <td>Employed</td>\n",
       "      <td>MSA, Not Principle  City</td>\n",
       "    </tr>\n",
       "    <tr>\n",
       "      <th>...</th>\n",
       "      <td>...</td>\n",
       "      <td>...</td>\n",
       "      <td>...</td>\n",
       "      <td>...</td>\n",
       "      <td>...</td>\n",
       "      <td>...</td>\n",
       "      <td>...</td>\n",
       "      <td>...</td>\n",
       "    </tr>\n",
       "    <tr>\n",
       "      <th>26702</th>\n",
       "      <td>65_and_above</td>\n",
       "      <td>college</td>\n",
       "      <td>White</td>\n",
       "      <td>Middle_Class</td>\n",
       "      <td>Not Married</td>\n",
       "      <td>Own</td>\n",
       "      <td>Not in Labor Force</td>\n",
       "      <td>Non-MSA</td>\n",
       "    </tr>\n",
       "    <tr>\n",
       "      <th>26703</th>\n",
       "      <td>18_and_above</td>\n",
       "      <td>college_grad</td>\n",
       "      <td>White</td>\n",
       "      <td>Middle_Class</td>\n",
       "      <td>Not Married</td>\n",
       "      <td>Rent</td>\n",
       "      <td>Employed</td>\n",
       "      <td>MSA, Principle City</td>\n",
       "    </tr>\n",
       "    <tr>\n",
       "      <th>26704</th>\n",
       "      <td>45_and_above</td>\n",
       "      <td>college</td>\n",
       "      <td>White</td>\n",
       "      <td>others</td>\n",
       "      <td>Not Married</td>\n",
       "      <td>Own</td>\n",
       "      <td>others</td>\n",
       "      <td>MSA, Not Principle  City</td>\n",
       "    </tr>\n",
       "    <tr>\n",
       "      <th>26705</th>\n",
       "      <td>18_and_above</td>\n",
       "      <td>college</td>\n",
       "      <td>Hispanic</td>\n",
       "      <td>Middle_Class</td>\n",
       "      <td>Married</td>\n",
       "      <td>Rent</td>\n",
       "      <td>Employed</td>\n",
       "      <td>Non-MSA</td>\n",
       "    </tr>\n",
       "    <tr>\n",
       "      <th>26706</th>\n",
       "      <td>65_and_above</td>\n",
       "      <td>college</td>\n",
       "      <td>White</td>\n",
       "      <td>Middle_Class</td>\n",
       "      <td>Married</td>\n",
       "      <td>Own</td>\n",
       "      <td>Not in Labor Force</td>\n",
       "      <td>MSA, Principle City</td>\n",
       "    </tr>\n",
       "  </tbody>\n",
       "</table>\n",
       "<p>26707 rows × 8 columns</p>\n",
       "</div>"
      ],
      "text/plain": [
       "        age_bracket qualification      race  income_level marital_status  \\\n",
       "0      45_and_above    middle_scl     White   Lower_Class    Not Married   \n",
       "1      18_and_above      high_scl     White   Lower_Class    Not Married   \n",
       "2      18_and_above  college_grad     White  Middle_Class    Not Married   \n",
       "3      65_and_above      high_scl     White   Lower_Class    Not Married   \n",
       "4      45_and_above       college     White  Middle_Class        Married   \n",
       "...             ...           ...       ...           ...            ...   \n",
       "26702  65_and_above       college     White  Middle_Class    Not Married   \n",
       "26703  18_and_above  college_grad     White  Middle_Class    Not Married   \n",
       "26704  45_and_above       college     White        others    Not Married   \n",
       "26705  18_and_above       college  Hispanic  Middle_Class        Married   \n",
       "26706  65_and_above       college     White  Middle_Class        Married   \n",
       "\n",
       "      housing_status          employment                census_msa  \n",
       "0                Own  Not in Labor Force                   Non-MSA  \n",
       "1               Rent            Employed  MSA, Not Principle  City  \n",
       "2                Own            Employed  MSA, Not Principle  City  \n",
       "3               Rent  Not in Labor Force       MSA, Principle City  \n",
       "4                Own            Employed  MSA, Not Principle  City  \n",
       "...              ...                 ...                       ...  \n",
       "26702            Own  Not in Labor Force                   Non-MSA  \n",
       "26703           Rent            Employed       MSA, Principle City  \n",
       "26704            Own              others  MSA, Not Principle  City  \n",
       "26705           Rent            Employed                   Non-MSA  \n",
       "26706            Own  Not in Labor Force       MSA, Principle City  \n",
       "\n",
       "[26707 rows x 8 columns]"
      ]
     },
     "execution_count": 152,
     "metadata": {},
     "output_type": "execute_result"
    }
   ],
   "source": [
    "vaccine.select_dtypes(include=['object'])"
   ]
  },
  {
   "cell_type": "code",
   "execution_count": 153,
   "metadata": {},
   "outputs": [],
   "source": [
    "vaccine=pd.get_dummies(vaccine, columns=[\"age_bracket\",\"income_level\",\"marital_status\",\"housing_status\",\"employment\",\"race\",\"qualification\",\"census_msa\"], drop_first=True)"
   ]
  },
  {
   "cell_type": "markdown",
   "metadata": {},
   "source": [
    "## Train Test Split"
   ]
  },
  {
   "cell_type": "code",
   "execution_count": 154,
   "metadata": {},
   "outputs": [],
   "source": [
    "y=vaccine[\"h1n1_vaccine\"]\n",
    "X=vaccine.drop([\"h1n1_vaccine\"],axis=1)"
   ]
  },
  {
   "cell_type": "code",
   "execution_count": 155,
   "metadata": {},
   "outputs": [],
   "source": [
    "X_train, X_test, y_train, y_test=train_test_split(X,y,test_size=.2, random_state=88)"
   ]
  },
  {
   "cell_type": "code",
   "execution_count": 156,
   "metadata": {},
   "outputs": [],
   "source": [
    "scale=MinMaxScaler()\n",
    "X_train_scaled=scale.fit_transform(X_train)\n",
    "\n",
    "X_test_scaled=scale.transform(X_test)\n",
    "\n",
    "#scale=StandardScaler()\n",
    "#sc_fit=sc.fit(X_train)"
   ]
  },
  {
   "cell_type": "code",
   "execution_count": 157,
   "metadata": {},
   "outputs": [],
   "source": [
    "X_train_scaled=pd.DataFrame(X_train_scaled,columns=X_train.columns)"
   ]
  },
  {
   "cell_type": "code",
   "execution_count": 158,
   "metadata": {},
   "outputs": [],
   "source": [
    "X_test_scaled=pd.DataFrame(X_test_scaled,columns=X_test.columns)"
   ]
  },
  {
   "cell_type": "code",
   "execution_count": 159,
   "metadata": {},
   "outputs": [
    {
     "data": {
      "text/html": [
       "<div>\n",
       "<style scoped>\n",
       "    .dataframe tbody tr th:only-of-type {\n",
       "        vertical-align: middle;\n",
       "    }\n",
       "\n",
       "    .dataframe tbody tr th {\n",
       "        vertical-align: top;\n",
       "    }\n",
       "\n",
       "    .dataframe thead th {\n",
       "        text-align: right;\n",
       "    }\n",
       "</style>\n",
       "<table border=\"1\" class=\"dataframe\">\n",
       "  <thead>\n",
       "    <tr style=\"text-align: right;\">\n",
       "      <th></th>\n",
       "      <th>unique_id</th>\n",
       "      <th>h1n1_worry</th>\n",
       "      <th>h1n1_awareness</th>\n",
       "      <th>antiviral_medication</th>\n",
       "      <th>contact_avoidance</th>\n",
       "      <th>bought_face_mask</th>\n",
       "      <th>wash_hands_frequently</th>\n",
       "      <th>avoid_large_gatherings</th>\n",
       "      <th>reduced_outside_home_cont</th>\n",
       "      <th>avoid_touch_face</th>\n",
       "      <th>...</th>\n",
       "      <th>employment_others</th>\n",
       "      <th>race_Hispanic</th>\n",
       "      <th>race_Others</th>\n",
       "      <th>race_White</th>\n",
       "      <th>qualification_college_grad</th>\n",
       "      <th>qualification_high_scl</th>\n",
       "      <th>qualification_middle_scl</th>\n",
       "      <th>qualification_others</th>\n",
       "      <th>census_msa_MSA, Principle City</th>\n",
       "      <th>census_msa_Non-MSA</th>\n",
       "    </tr>\n",
       "  </thead>\n",
       "  <tbody>\n",
       "    <tr>\n",
       "      <th>0</th>\n",
       "      <td>0.291096</td>\n",
       "      <td>0.000000</td>\n",
       "      <td>0.5</td>\n",
       "      <td>0.0</td>\n",
       "      <td>0.0</td>\n",
       "      <td>0.0</td>\n",
       "      <td>1.0</td>\n",
       "      <td>0.0</td>\n",
       "      <td>0.0</td>\n",
       "      <td>0.0</td>\n",
       "      <td>...</td>\n",
       "      <td>1.0</td>\n",
       "      <td>0.0</td>\n",
       "      <td>1.0</td>\n",
       "      <td>0.0</td>\n",
       "      <td>1.0</td>\n",
       "      <td>0.0</td>\n",
       "      <td>0.0</td>\n",
       "      <td>0.0</td>\n",
       "      <td>0.0</td>\n",
       "      <td>0.0</td>\n",
       "    </tr>\n",
       "    <tr>\n",
       "      <th>1</th>\n",
       "      <td>0.801805</td>\n",
       "      <td>1.000000</td>\n",
       "      <td>0.0</td>\n",
       "      <td>1.0</td>\n",
       "      <td>0.0</td>\n",
       "      <td>0.0</td>\n",
       "      <td>0.0</td>\n",
       "      <td>0.0</td>\n",
       "      <td>0.0</td>\n",
       "      <td>0.0</td>\n",
       "      <td>...</td>\n",
       "      <td>1.0</td>\n",
       "      <td>0.0</td>\n",
       "      <td>0.0</td>\n",
       "      <td>0.0</td>\n",
       "      <td>0.0</td>\n",
       "      <td>0.0</td>\n",
       "      <td>0.0</td>\n",
       "      <td>1.0</td>\n",
       "      <td>0.0</td>\n",
       "      <td>0.0</td>\n",
       "    </tr>\n",
       "    <tr>\n",
       "      <th>2</th>\n",
       "      <td>0.454505</td>\n",
       "      <td>0.333333</td>\n",
       "      <td>1.0</td>\n",
       "      <td>0.0</td>\n",
       "      <td>0.0</td>\n",
       "      <td>0.0</td>\n",
       "      <td>1.0</td>\n",
       "      <td>0.0</td>\n",
       "      <td>0.0</td>\n",
       "      <td>1.0</td>\n",
       "      <td>...</td>\n",
       "      <td>0.0</td>\n",
       "      <td>0.0</td>\n",
       "      <td>0.0</td>\n",
       "      <td>1.0</td>\n",
       "      <td>1.0</td>\n",
       "      <td>0.0</td>\n",
       "      <td>0.0</td>\n",
       "      <td>0.0</td>\n",
       "      <td>0.0</td>\n",
       "      <td>1.0</td>\n",
       "    </tr>\n",
       "    <tr>\n",
       "      <th>3</th>\n",
       "      <td>0.607803</td>\n",
       "      <td>0.666667</td>\n",
       "      <td>0.0</td>\n",
       "      <td>0.0</td>\n",
       "      <td>1.0</td>\n",
       "      <td>0.0</td>\n",
       "      <td>1.0</td>\n",
       "      <td>1.0</td>\n",
       "      <td>0.0</td>\n",
       "      <td>1.0</td>\n",
       "      <td>...</td>\n",
       "      <td>0.0</td>\n",
       "      <td>0.0</td>\n",
       "      <td>0.0</td>\n",
       "      <td>0.0</td>\n",
       "      <td>0.0</td>\n",
       "      <td>1.0</td>\n",
       "      <td>0.0</td>\n",
       "      <td>0.0</td>\n",
       "      <td>0.0</td>\n",
       "      <td>0.0</td>\n",
       "    </tr>\n",
       "    <tr>\n",
       "      <th>4</th>\n",
       "      <td>0.542987</td>\n",
       "      <td>0.666667</td>\n",
       "      <td>0.5</td>\n",
       "      <td>0.0</td>\n",
       "      <td>1.0</td>\n",
       "      <td>0.0</td>\n",
       "      <td>1.0</td>\n",
       "      <td>1.0</td>\n",
       "      <td>1.0</td>\n",
       "      <td>1.0</td>\n",
       "      <td>...</td>\n",
       "      <td>0.0</td>\n",
       "      <td>1.0</td>\n",
       "      <td>0.0</td>\n",
       "      <td>0.0</td>\n",
       "      <td>0.0</td>\n",
       "      <td>0.0</td>\n",
       "      <td>0.0</td>\n",
       "      <td>0.0</td>\n",
       "      <td>1.0</td>\n",
       "      <td>0.0</td>\n",
       "    </tr>\n",
       "    <tr>\n",
       "      <th>...</th>\n",
       "      <td>...</td>\n",
       "      <td>...</td>\n",
       "      <td>...</td>\n",
       "      <td>...</td>\n",
       "      <td>...</td>\n",
       "      <td>...</td>\n",
       "      <td>...</td>\n",
       "      <td>...</td>\n",
       "      <td>...</td>\n",
       "      <td>...</td>\n",
       "      <td>...</td>\n",
       "      <td>...</td>\n",
       "      <td>...</td>\n",
       "      <td>...</td>\n",
       "      <td>...</td>\n",
       "      <td>...</td>\n",
       "      <td>...</td>\n",
       "      <td>...</td>\n",
       "      <td>...</td>\n",
       "      <td>...</td>\n",
       "      <td>...</td>\n",
       "    </tr>\n",
       "    <tr>\n",
       "      <th>21360</th>\n",
       "      <td>0.933798</td>\n",
       "      <td>0.000000</td>\n",
       "      <td>1.0</td>\n",
       "      <td>0.0</td>\n",
       "      <td>1.0</td>\n",
       "      <td>0.0</td>\n",
       "      <td>1.0</td>\n",
       "      <td>0.0</td>\n",
       "      <td>0.0</td>\n",
       "      <td>1.0</td>\n",
       "      <td>...</td>\n",
       "      <td>0.0</td>\n",
       "      <td>0.0</td>\n",
       "      <td>0.0</td>\n",
       "      <td>1.0</td>\n",
       "      <td>1.0</td>\n",
       "      <td>0.0</td>\n",
       "      <td>0.0</td>\n",
       "      <td>0.0</td>\n",
       "      <td>0.0</td>\n",
       "      <td>1.0</td>\n",
       "    </tr>\n",
       "    <tr>\n",
       "      <th>21361</th>\n",
       "      <td>0.092900</td>\n",
       "      <td>1.000000</td>\n",
       "      <td>0.5</td>\n",
       "      <td>0.0</td>\n",
       "      <td>1.0</td>\n",
       "      <td>0.0</td>\n",
       "      <td>1.0</td>\n",
       "      <td>1.0</td>\n",
       "      <td>1.0</td>\n",
       "      <td>1.0</td>\n",
       "      <td>...</td>\n",
       "      <td>0.0</td>\n",
       "      <td>0.0</td>\n",
       "      <td>0.0</td>\n",
       "      <td>1.0</td>\n",
       "      <td>0.0</td>\n",
       "      <td>1.0</td>\n",
       "      <td>0.0</td>\n",
       "      <td>0.0</td>\n",
       "      <td>0.0</td>\n",
       "      <td>0.0</td>\n",
       "    </tr>\n",
       "    <tr>\n",
       "      <th>21362</th>\n",
       "      <td>0.151539</td>\n",
       "      <td>1.000000</td>\n",
       "      <td>0.5</td>\n",
       "      <td>0.0</td>\n",
       "      <td>1.0</td>\n",
       "      <td>0.0</td>\n",
       "      <td>1.0</td>\n",
       "      <td>1.0</td>\n",
       "      <td>1.0</td>\n",
       "      <td>1.0</td>\n",
       "      <td>...</td>\n",
       "      <td>1.0</td>\n",
       "      <td>0.0</td>\n",
       "      <td>0.0</td>\n",
       "      <td>1.0</td>\n",
       "      <td>0.0</td>\n",
       "      <td>0.0</td>\n",
       "      <td>0.0</td>\n",
       "      <td>1.0</td>\n",
       "      <td>0.0</td>\n",
       "      <td>1.0</td>\n",
       "    </tr>\n",
       "    <tr>\n",
       "      <th>21363</th>\n",
       "      <td>0.240845</td>\n",
       "      <td>0.333333</td>\n",
       "      <td>0.5</td>\n",
       "      <td>0.0</td>\n",
       "      <td>1.0</td>\n",
       "      <td>0.0</td>\n",
       "      <td>1.0</td>\n",
       "      <td>0.0</td>\n",
       "      <td>0.0</td>\n",
       "      <td>1.0</td>\n",
       "      <td>...</td>\n",
       "      <td>0.0</td>\n",
       "      <td>0.0</td>\n",
       "      <td>0.0</td>\n",
       "      <td>1.0</td>\n",
       "      <td>0.0</td>\n",
       "      <td>0.0</td>\n",
       "      <td>0.0</td>\n",
       "      <td>0.0</td>\n",
       "      <td>1.0</td>\n",
       "      <td>0.0</td>\n",
       "    </tr>\n",
       "    <tr>\n",
       "      <th>21364</th>\n",
       "      <td>0.995432</td>\n",
       "      <td>0.666667</td>\n",
       "      <td>0.5</td>\n",
       "      <td>0.0</td>\n",
       "      <td>1.0</td>\n",
       "      <td>0.0</td>\n",
       "      <td>1.0</td>\n",
       "      <td>1.0</td>\n",
       "      <td>1.0</td>\n",
       "      <td>1.0</td>\n",
       "      <td>...</td>\n",
       "      <td>0.0</td>\n",
       "      <td>0.0</td>\n",
       "      <td>0.0</td>\n",
       "      <td>1.0</td>\n",
       "      <td>0.0</td>\n",
       "      <td>1.0</td>\n",
       "      <td>0.0</td>\n",
       "      <td>0.0</td>\n",
       "      <td>1.0</td>\n",
       "      <td>0.0</td>\n",
       "    </tr>\n",
       "  </tbody>\n",
       "</table>\n",
       "<p>21365 rows × 47 columns</p>\n",
       "</div>"
      ],
      "text/plain": [
       "       unique_id  h1n1_worry  h1n1_awareness  antiviral_medication  \\\n",
       "0       0.291096    0.000000             0.5                   0.0   \n",
       "1       0.801805    1.000000             0.0                   1.0   \n",
       "2       0.454505    0.333333             1.0                   0.0   \n",
       "3       0.607803    0.666667             0.0                   0.0   \n",
       "4       0.542987    0.666667             0.5                   0.0   \n",
       "...          ...         ...             ...                   ...   \n",
       "21360   0.933798    0.000000             1.0                   0.0   \n",
       "21361   0.092900    1.000000             0.5                   0.0   \n",
       "21362   0.151539    1.000000             0.5                   0.0   \n",
       "21363   0.240845    0.333333             0.5                   0.0   \n",
       "21364   0.995432    0.666667             0.5                   0.0   \n",
       "\n",
       "       contact_avoidance  bought_face_mask  wash_hands_frequently  \\\n",
       "0                    0.0               0.0                    1.0   \n",
       "1                    0.0               0.0                    0.0   \n",
       "2                    0.0               0.0                    1.0   \n",
       "3                    1.0               0.0                    1.0   \n",
       "4                    1.0               0.0                    1.0   \n",
       "...                  ...               ...                    ...   \n",
       "21360                1.0               0.0                    1.0   \n",
       "21361                1.0               0.0                    1.0   \n",
       "21362                1.0               0.0                    1.0   \n",
       "21363                1.0               0.0                    1.0   \n",
       "21364                1.0               0.0                    1.0   \n",
       "\n",
       "       avoid_large_gatherings  reduced_outside_home_cont  avoid_touch_face  \\\n",
       "0                         0.0                        0.0               0.0   \n",
       "1                         0.0                        0.0               0.0   \n",
       "2                         0.0                        0.0               1.0   \n",
       "3                         1.0                        0.0               1.0   \n",
       "4                         1.0                        1.0               1.0   \n",
       "...                       ...                        ...               ...   \n",
       "21360                     0.0                        0.0               1.0   \n",
       "21361                     1.0                        1.0               1.0   \n",
       "21362                     1.0                        1.0               1.0   \n",
       "21363                     0.0                        0.0               1.0   \n",
       "21364                     1.0                        1.0               1.0   \n",
       "\n",
       "       ...  employment_others  race_Hispanic  race_Others  race_White  \\\n",
       "0      ...                1.0            0.0          1.0         0.0   \n",
       "1      ...                1.0            0.0          0.0         0.0   \n",
       "2      ...                0.0            0.0          0.0         1.0   \n",
       "3      ...                0.0            0.0          0.0         0.0   \n",
       "4      ...                0.0            1.0          0.0         0.0   \n",
       "...    ...                ...            ...          ...         ...   \n",
       "21360  ...                0.0            0.0          0.0         1.0   \n",
       "21361  ...                0.0            0.0          0.0         1.0   \n",
       "21362  ...                1.0            0.0          0.0         1.0   \n",
       "21363  ...                0.0            0.0          0.0         1.0   \n",
       "21364  ...                0.0            0.0          0.0         1.0   \n",
       "\n",
       "       qualification_college_grad  qualification_high_scl  \\\n",
       "0                             1.0                     0.0   \n",
       "1                             0.0                     0.0   \n",
       "2                             1.0                     0.0   \n",
       "3                             0.0                     1.0   \n",
       "4                             0.0                     0.0   \n",
       "...                           ...                     ...   \n",
       "21360                         1.0                     0.0   \n",
       "21361                         0.0                     1.0   \n",
       "21362                         0.0                     0.0   \n",
       "21363                         0.0                     0.0   \n",
       "21364                         0.0                     1.0   \n",
       "\n",
       "       qualification_middle_scl  qualification_others  \\\n",
       "0                           0.0                   0.0   \n",
       "1                           0.0                   1.0   \n",
       "2                           0.0                   0.0   \n",
       "3                           0.0                   0.0   \n",
       "4                           0.0                   0.0   \n",
       "...                         ...                   ...   \n",
       "21360                       0.0                   0.0   \n",
       "21361                       0.0                   0.0   \n",
       "21362                       0.0                   1.0   \n",
       "21363                       0.0                   0.0   \n",
       "21364                       0.0                   0.0   \n",
       "\n",
       "       census_msa_MSA, Principle City  census_msa_Non-MSA  \n",
       "0                                 0.0                 0.0  \n",
       "1                                 0.0                 0.0  \n",
       "2                                 0.0                 1.0  \n",
       "3                                 0.0                 0.0  \n",
       "4                                 1.0                 0.0  \n",
       "...                               ...                 ...  \n",
       "21360                             0.0                 1.0  \n",
       "21361                             0.0                 0.0  \n",
       "21362                             0.0                 1.0  \n",
       "21363                             1.0                 0.0  \n",
       "21364                             1.0                 0.0  \n",
       "\n",
       "[21365 rows x 47 columns]"
      ]
     },
     "execution_count": 159,
     "metadata": {},
     "output_type": "execute_result"
    }
   ],
   "source": [
    "X_train_scaled"
   ]
  },
  {
   "cell_type": "code",
   "execution_count": 160,
   "metadata": {},
   "outputs": [
    {
     "data": {
      "text/html": [
       "<div>\n",
       "<style scoped>\n",
       "    .dataframe tbody tr th:only-of-type {\n",
       "        vertical-align: middle;\n",
       "    }\n",
       "\n",
       "    .dataframe tbody tr th {\n",
       "        vertical-align: top;\n",
       "    }\n",
       "\n",
       "    .dataframe thead th {\n",
       "        text-align: right;\n",
       "    }\n",
       "</style>\n",
       "<table border=\"1\" class=\"dataframe\">\n",
       "  <thead>\n",
       "    <tr style=\"text-align: right;\">\n",
       "      <th></th>\n",
       "      <th>unique_id</th>\n",
       "      <th>h1n1_worry</th>\n",
       "      <th>h1n1_awareness</th>\n",
       "      <th>antiviral_medication</th>\n",
       "      <th>contact_avoidance</th>\n",
       "      <th>bought_face_mask</th>\n",
       "      <th>wash_hands_frequently</th>\n",
       "      <th>avoid_large_gatherings</th>\n",
       "      <th>reduced_outside_home_cont</th>\n",
       "      <th>avoid_touch_face</th>\n",
       "      <th>...</th>\n",
       "      <th>employment_others</th>\n",
       "      <th>race_Hispanic</th>\n",
       "      <th>race_Others</th>\n",
       "      <th>race_White</th>\n",
       "      <th>qualification_college_grad</th>\n",
       "      <th>qualification_high_scl</th>\n",
       "      <th>qualification_middle_scl</th>\n",
       "      <th>qualification_others</th>\n",
       "      <th>census_msa_MSA, Principle City</th>\n",
       "      <th>census_msa_Non-MSA</th>\n",
       "    </tr>\n",
       "  </thead>\n",
       "  <tbody>\n",
       "    <tr>\n",
       "      <th>0</th>\n",
       "      <td>0.082079</td>\n",
       "      <td>0.666667</td>\n",
       "      <td>1.0</td>\n",
       "      <td>0.0</td>\n",
       "      <td>1.0</td>\n",
       "      <td>0.0</td>\n",
       "      <td>1.0</td>\n",
       "      <td>0.0</td>\n",
       "      <td>1.0</td>\n",
       "      <td>1.0</td>\n",
       "      <td>...</td>\n",
       "      <td>0.0</td>\n",
       "      <td>0.0</td>\n",
       "      <td>0.0</td>\n",
       "      <td>1.0</td>\n",
       "      <td>0.0</td>\n",
       "      <td>1.0</td>\n",
       "      <td>0.0</td>\n",
       "      <td>0.0</td>\n",
       "      <td>0.0</td>\n",
       "      <td>1.0</td>\n",
       "    </tr>\n",
       "    <tr>\n",
       "      <th>1</th>\n",
       "      <td>0.554782</td>\n",
       "      <td>1.000000</td>\n",
       "      <td>0.5</td>\n",
       "      <td>0.0</td>\n",
       "      <td>1.0</td>\n",
       "      <td>0.0</td>\n",
       "      <td>1.0</td>\n",
       "      <td>1.0</td>\n",
       "      <td>1.0</td>\n",
       "      <td>1.0</td>\n",
       "      <td>...</td>\n",
       "      <td>0.0</td>\n",
       "      <td>1.0</td>\n",
       "      <td>0.0</td>\n",
       "      <td>0.0</td>\n",
       "      <td>0.0</td>\n",
       "      <td>1.0</td>\n",
       "      <td>0.0</td>\n",
       "      <td>0.0</td>\n",
       "      <td>0.0</td>\n",
       "      <td>1.0</td>\n",
       "    </tr>\n",
       "    <tr>\n",
       "      <th>2</th>\n",
       "      <td>0.377406</td>\n",
       "      <td>1.000000</td>\n",
       "      <td>1.0</td>\n",
       "      <td>0.0</td>\n",
       "      <td>0.0</td>\n",
       "      <td>0.0</td>\n",
       "      <td>1.0</td>\n",
       "      <td>1.0</td>\n",
       "      <td>0.0</td>\n",
       "      <td>1.0</td>\n",
       "      <td>...</td>\n",
       "      <td>0.0</td>\n",
       "      <td>0.0</td>\n",
       "      <td>0.0</td>\n",
       "      <td>1.0</td>\n",
       "      <td>1.0</td>\n",
       "      <td>0.0</td>\n",
       "      <td>0.0</td>\n",
       "      <td>0.0</td>\n",
       "      <td>0.0</td>\n",
       "      <td>1.0</td>\n",
       "    </tr>\n",
       "    <tr>\n",
       "      <th>3</th>\n",
       "      <td>0.432150</td>\n",
       "      <td>1.000000</td>\n",
       "      <td>0.5</td>\n",
       "      <td>0.0</td>\n",
       "      <td>1.0</td>\n",
       "      <td>1.0</td>\n",
       "      <td>1.0</td>\n",
       "      <td>1.0</td>\n",
       "      <td>1.0</td>\n",
       "      <td>1.0</td>\n",
       "      <td>...</td>\n",
       "      <td>0.0</td>\n",
       "      <td>0.0</td>\n",
       "      <td>0.0</td>\n",
       "      <td>1.0</td>\n",
       "      <td>0.0</td>\n",
       "      <td>0.0</td>\n",
       "      <td>0.0</td>\n",
       "      <td>0.0</td>\n",
       "      <td>1.0</td>\n",
       "      <td>0.0</td>\n",
       "    </tr>\n",
       "    <tr>\n",
       "      <th>4</th>\n",
       "      <td>0.664532</td>\n",
       "      <td>0.000000</td>\n",
       "      <td>0.5</td>\n",
       "      <td>0.0</td>\n",
       "      <td>1.0</td>\n",
       "      <td>1.0</td>\n",
       "      <td>0.0</td>\n",
       "      <td>0.0</td>\n",
       "      <td>1.0</td>\n",
       "      <td>1.0</td>\n",
       "      <td>...</td>\n",
       "      <td>0.0</td>\n",
       "      <td>0.0</td>\n",
       "      <td>0.0</td>\n",
       "      <td>1.0</td>\n",
       "      <td>0.0</td>\n",
       "      <td>0.0</td>\n",
       "      <td>1.0</td>\n",
       "      <td>0.0</td>\n",
       "      <td>0.0</td>\n",
       "      <td>1.0</td>\n",
       "    </tr>\n",
       "    <tr>\n",
       "      <th>...</th>\n",
       "      <td>...</td>\n",
       "      <td>...</td>\n",
       "      <td>...</td>\n",
       "      <td>...</td>\n",
       "      <td>...</td>\n",
       "      <td>...</td>\n",
       "      <td>...</td>\n",
       "      <td>...</td>\n",
       "      <td>...</td>\n",
       "      <td>...</td>\n",
       "      <td>...</td>\n",
       "      <td>...</td>\n",
       "      <td>...</td>\n",
       "      <td>...</td>\n",
       "      <td>...</td>\n",
       "      <td>...</td>\n",
       "      <td>...</td>\n",
       "      <td>...</td>\n",
       "      <td>...</td>\n",
       "      <td>...</td>\n",
       "      <td>...</td>\n",
       "    </tr>\n",
       "    <tr>\n",
       "      <th>5337</th>\n",
       "      <td>0.816184</td>\n",
       "      <td>1.000000</td>\n",
       "      <td>0.5</td>\n",
       "      <td>0.0</td>\n",
       "      <td>1.0</td>\n",
       "      <td>0.0</td>\n",
       "      <td>1.0</td>\n",
       "      <td>0.0</td>\n",
       "      <td>1.0</td>\n",
       "      <td>1.0</td>\n",
       "      <td>...</td>\n",
       "      <td>0.0</td>\n",
       "      <td>0.0</td>\n",
       "      <td>0.0</td>\n",
       "      <td>1.0</td>\n",
       "      <td>1.0</td>\n",
       "      <td>0.0</td>\n",
       "      <td>0.0</td>\n",
       "      <td>0.0</td>\n",
       "      <td>1.0</td>\n",
       "      <td>0.0</td>\n",
       "    </tr>\n",
       "    <tr>\n",
       "      <th>5338</th>\n",
       "      <td>0.835580</td>\n",
       "      <td>0.666667</td>\n",
       "      <td>1.0</td>\n",
       "      <td>0.0</td>\n",
       "      <td>1.0</td>\n",
       "      <td>0.0</td>\n",
       "      <td>1.0</td>\n",
       "      <td>1.0</td>\n",
       "      <td>1.0</td>\n",
       "      <td>1.0</td>\n",
       "      <td>...</td>\n",
       "      <td>0.0</td>\n",
       "      <td>0.0</td>\n",
       "      <td>0.0</td>\n",
       "      <td>0.0</td>\n",
       "      <td>0.0</td>\n",
       "      <td>0.0</td>\n",
       "      <td>0.0</td>\n",
       "      <td>0.0</td>\n",
       "      <td>1.0</td>\n",
       "      <td>0.0</td>\n",
       "    </tr>\n",
       "    <tr>\n",
       "      <th>5339</th>\n",
       "      <td>0.047892</td>\n",
       "      <td>1.000000</td>\n",
       "      <td>1.0</td>\n",
       "      <td>0.0</td>\n",
       "      <td>1.0</td>\n",
       "      <td>1.0</td>\n",
       "      <td>1.0</td>\n",
       "      <td>1.0</td>\n",
       "      <td>0.0</td>\n",
       "      <td>1.0</td>\n",
       "      <td>...</td>\n",
       "      <td>0.0</td>\n",
       "      <td>0.0</td>\n",
       "      <td>0.0</td>\n",
       "      <td>1.0</td>\n",
       "      <td>1.0</td>\n",
       "      <td>0.0</td>\n",
       "      <td>0.0</td>\n",
       "      <td>0.0</td>\n",
       "      <td>0.0</td>\n",
       "      <td>0.0</td>\n",
       "    </tr>\n",
       "    <tr>\n",
       "      <th>5340</th>\n",
       "      <td>0.571445</td>\n",
       "      <td>0.000000</td>\n",
       "      <td>0.5</td>\n",
       "      <td>0.0</td>\n",
       "      <td>0.0</td>\n",
       "      <td>0.0</td>\n",
       "      <td>1.0</td>\n",
       "      <td>0.0</td>\n",
       "      <td>0.0</td>\n",
       "      <td>0.0</td>\n",
       "      <td>...</td>\n",
       "      <td>0.0</td>\n",
       "      <td>0.0</td>\n",
       "      <td>0.0</td>\n",
       "      <td>1.0</td>\n",
       "      <td>0.0</td>\n",
       "      <td>1.0</td>\n",
       "      <td>0.0</td>\n",
       "      <td>0.0</td>\n",
       "      <td>0.0</td>\n",
       "      <td>1.0</td>\n",
       "    </tr>\n",
       "    <tr>\n",
       "      <th>5341</th>\n",
       "      <td>0.062683</td>\n",
       "      <td>0.666667</td>\n",
       "      <td>1.0</td>\n",
       "      <td>1.0</td>\n",
       "      <td>1.0</td>\n",
       "      <td>1.0</td>\n",
       "      <td>1.0</td>\n",
       "      <td>1.0</td>\n",
       "      <td>1.0</td>\n",
       "      <td>0.0</td>\n",
       "      <td>...</td>\n",
       "      <td>0.0</td>\n",
       "      <td>0.0</td>\n",
       "      <td>1.0</td>\n",
       "      <td>0.0</td>\n",
       "      <td>1.0</td>\n",
       "      <td>0.0</td>\n",
       "      <td>0.0</td>\n",
       "      <td>0.0</td>\n",
       "      <td>0.0</td>\n",
       "      <td>0.0</td>\n",
       "    </tr>\n",
       "  </tbody>\n",
       "</table>\n",
       "<p>5342 rows × 47 columns</p>\n",
       "</div>"
      ],
      "text/plain": [
       "      unique_id  h1n1_worry  h1n1_awareness  antiviral_medication  \\\n",
       "0      0.082079    0.666667             1.0                   0.0   \n",
       "1      0.554782    1.000000             0.5                   0.0   \n",
       "2      0.377406    1.000000             1.0                   0.0   \n",
       "3      0.432150    1.000000             0.5                   0.0   \n",
       "4      0.664532    0.000000             0.5                   0.0   \n",
       "...         ...         ...             ...                   ...   \n",
       "5337   0.816184    1.000000             0.5                   0.0   \n",
       "5338   0.835580    0.666667             1.0                   0.0   \n",
       "5339   0.047892    1.000000             1.0                   0.0   \n",
       "5340   0.571445    0.000000             0.5                   0.0   \n",
       "5341   0.062683    0.666667             1.0                   1.0   \n",
       "\n",
       "      contact_avoidance  bought_face_mask  wash_hands_frequently  \\\n",
       "0                   1.0               0.0                    1.0   \n",
       "1                   1.0               0.0                    1.0   \n",
       "2                   0.0               0.0                    1.0   \n",
       "3                   1.0               1.0                    1.0   \n",
       "4                   1.0               1.0                    0.0   \n",
       "...                 ...               ...                    ...   \n",
       "5337                1.0               0.0                    1.0   \n",
       "5338                1.0               0.0                    1.0   \n",
       "5339                1.0               1.0                    1.0   \n",
       "5340                0.0               0.0                    1.0   \n",
       "5341                1.0               1.0                    1.0   \n",
       "\n",
       "      avoid_large_gatherings  reduced_outside_home_cont  avoid_touch_face  \\\n",
       "0                        0.0                        1.0               1.0   \n",
       "1                        1.0                        1.0               1.0   \n",
       "2                        1.0                        0.0               1.0   \n",
       "3                        1.0                        1.0               1.0   \n",
       "4                        0.0                        1.0               1.0   \n",
       "...                      ...                        ...               ...   \n",
       "5337                     0.0                        1.0               1.0   \n",
       "5338                     1.0                        1.0               1.0   \n",
       "5339                     1.0                        0.0               1.0   \n",
       "5340                     0.0                        0.0               0.0   \n",
       "5341                     1.0                        1.0               0.0   \n",
       "\n",
       "      ...  employment_others  race_Hispanic  race_Others  race_White  \\\n",
       "0     ...                0.0            0.0          0.0         1.0   \n",
       "1     ...                0.0            1.0          0.0         0.0   \n",
       "2     ...                0.0            0.0          0.0         1.0   \n",
       "3     ...                0.0            0.0          0.0         1.0   \n",
       "4     ...                0.0            0.0          0.0         1.0   \n",
       "...   ...                ...            ...          ...         ...   \n",
       "5337  ...                0.0            0.0          0.0         1.0   \n",
       "5338  ...                0.0            0.0          0.0         0.0   \n",
       "5339  ...                0.0            0.0          0.0         1.0   \n",
       "5340  ...                0.0            0.0          0.0         1.0   \n",
       "5341  ...                0.0            0.0          1.0         0.0   \n",
       "\n",
       "      qualification_college_grad  qualification_high_scl  \\\n",
       "0                            0.0                     1.0   \n",
       "1                            0.0                     1.0   \n",
       "2                            1.0                     0.0   \n",
       "3                            0.0                     0.0   \n",
       "4                            0.0                     0.0   \n",
       "...                          ...                     ...   \n",
       "5337                         1.0                     0.0   \n",
       "5338                         0.0                     0.0   \n",
       "5339                         1.0                     0.0   \n",
       "5340                         0.0                     1.0   \n",
       "5341                         1.0                     0.0   \n",
       "\n",
       "      qualification_middle_scl  qualification_others  \\\n",
       "0                          0.0                   0.0   \n",
       "1                          0.0                   0.0   \n",
       "2                          0.0                   0.0   \n",
       "3                          0.0                   0.0   \n",
       "4                          1.0                   0.0   \n",
       "...                        ...                   ...   \n",
       "5337                       0.0                   0.0   \n",
       "5338                       0.0                   0.0   \n",
       "5339                       0.0                   0.0   \n",
       "5340                       0.0                   0.0   \n",
       "5341                       0.0                   0.0   \n",
       "\n",
       "      census_msa_MSA, Principle City  census_msa_Non-MSA  \n",
       "0                                0.0                 1.0  \n",
       "1                                0.0                 1.0  \n",
       "2                                0.0                 1.0  \n",
       "3                                1.0                 0.0  \n",
       "4                                0.0                 1.0  \n",
       "...                              ...                 ...  \n",
       "5337                             1.0                 0.0  \n",
       "5338                             1.0                 0.0  \n",
       "5339                             0.0                 0.0  \n",
       "5340                             0.0                 1.0  \n",
       "5341                             0.0                 0.0  \n",
       "\n",
       "[5342 rows x 47 columns]"
      ]
     },
     "execution_count": 160,
     "metadata": {},
     "output_type": "execute_result"
    }
   ],
   "source": [
    "X_test_scaled"
   ]
  },
  {
   "cell_type": "markdown",
   "metadata": {},
   "source": [
    "### Logistic Regression"
   ]
  },
  {
   "cell_type": "code",
   "execution_count": 161,
   "metadata": {},
   "outputs": [],
   "source": [
    "log=LogisticRegression()"
   ]
  },
  {
   "cell_type": "code",
   "execution_count": 162,
   "metadata": {},
   "outputs": [
    {
     "name": "stderr",
     "output_type": "stream",
     "text": [
      "C:\\Users\\hariharan\\Anaconda3\\lib\\site-packages\\sklearn\\linear_model\\_logistic.py:762: ConvergenceWarning: lbfgs failed to converge (status=1):\n",
      "STOP: TOTAL NO. of ITERATIONS REACHED LIMIT.\n",
      "\n",
      "Increase the number of iterations (max_iter) or scale the data as shown in:\n",
      "    https://scikit-learn.org/stable/modules/preprocessing.html\n",
      "Please also refer to the documentation for alternative solver options:\n",
      "    https://scikit-learn.org/stable/modules/linear_model.html#logistic-regression\n",
      "  n_iter_i = _check_optimize_result(\n"
     ]
    }
   ],
   "source": [
    "model1=log.fit(X_train_scaled,y_train)"
   ]
  },
  {
   "cell_type": "code",
   "execution_count": 163,
   "metadata": {},
   "outputs": [
    {
     "data": {
      "text/plain": [
       "LogisticRegression()"
      ]
     },
     "execution_count": 163,
     "metadata": {},
     "output_type": "execute_result"
    }
   ],
   "source": [
    "model1"
   ]
  },
  {
   "cell_type": "code",
   "execution_count": 164,
   "metadata": {},
   "outputs": [
    {
     "name": "stdout",
     "output_type": "stream",
     "text": [
      "accuracy of train 0.8372571963491692\n",
      "accuracy of test 0.8307749906402097\n"
     ]
    }
   ],
   "source": [
    "print(\"accuracy of train\",model1.score(X_train_scaled,y_train))\n",
    "print(\"accuracy of test\",model1.score(X_test_scaled,y_test))"
   ]
  },
  {
   "cell_type": "code",
   "execution_count": 165,
   "metadata": {},
   "outputs": [],
   "source": [
    "pred_train=model1.predict(X_train_scaled)"
   ]
  },
  {
   "cell_type": "code",
   "execution_count": 166,
   "metadata": {},
   "outputs": [],
   "source": [
    "pred_test=model1.predict(X_test_scaled)"
   ]
  },
  {
   "cell_type": "code",
   "execution_count": 167,
   "metadata": {},
   "outputs": [
    {
     "data": {
      "text/plain": [
       "array([0, 0, 0, ..., 0, 0, 0], dtype=int64)"
      ]
     },
     "execution_count": 167,
     "metadata": {},
     "output_type": "execute_result"
    }
   ],
   "source": [
    "pred_train"
   ]
  },
  {
   "cell_type": "code",
   "execution_count": 168,
   "metadata": {},
   "outputs": [
    {
     "data": {
      "text/plain": [
       "array([0, 0, 1, ..., 1, 0, 0], dtype=int64)"
      ]
     },
     "execution_count": 168,
     "metadata": {},
     "output_type": "execute_result"
    }
   ],
   "source": [
    "pred_test"
   ]
  },
  {
   "cell_type": "code",
   "execution_count": 169,
   "metadata": {},
   "outputs": [
    {
     "data": {
      "text/plain": [
       "array([[16064,   782],\n",
       "       [ 2695,  1824]], dtype=int64)"
      ]
     },
     "execution_count": 169,
     "metadata": {},
     "output_type": "execute_result"
    }
   ],
   "source": [
    "metrics.confusion_matrix(y_train,pred_train)"
   ]
  },
  {
   "cell_type": "code",
   "execution_count": 170,
   "metadata": {},
   "outputs": [
    {
     "name": "stdout",
     "output_type": "stream",
     "text": [
      "              precision    recall  f1-score   support\n",
      "\n",
      "           0       0.86      0.95      0.90     16846\n",
      "           1       0.70      0.40      0.51      4519\n",
      "\n",
      "    accuracy                           0.84     21365\n",
      "   macro avg       0.78      0.68      0.71     21365\n",
      "weighted avg       0.82      0.84      0.82     21365\n",
      "\n"
     ]
    }
   ],
   "source": [
    "print(metrics.classification_report(y_train, pred_train))"
   ]
  },
  {
   "cell_type": "code",
   "execution_count": 171,
   "metadata": {},
   "outputs": [
    {
     "name": "stdout",
     "output_type": "stream",
     "text": [
      "              precision    recall  f1-score   support\n",
      "\n",
      "           0       0.85      0.95      0.90      4187\n",
      "           1       0.70      0.38      0.49      1155\n",
      "\n",
      "    accuracy                           0.83      5342\n",
      "   macro avg       0.77      0.67      0.70      5342\n",
      "weighted avg       0.82      0.83      0.81      5342\n",
      "\n"
     ]
    }
   ],
   "source": [
    "metrics.confusion_matrix(y_test, pred_test)\n",
    "print(metrics.classification_report(y_test, pred_test))"
   ]
  },
  {
   "cell_type": "code",
   "execution_count": 172,
   "metadata": {},
   "outputs": [],
   "source": [
    "#submission = pd.DataFrame({\"PassengerId\":titanic_test[\"PassengerId\"],\n",
    "                       #\"Survived\":test_preds})"
   ]
  },
  {
   "cell_type": "markdown",
   "metadata": {},
   "source": [
    "### Decision Tree"
   ]
  },
  {
   "cell_type": "code",
   "execution_count": 173,
   "metadata": {},
   "outputs": [
    {
     "data": {
      "text/plain": [
       "DecisionTreeClassifier()"
      ]
     },
     "execution_count": 173,
     "metadata": {},
     "output_type": "execute_result"
    }
   ],
   "source": [
    "dt1=DecisionTreeClassifier()\n",
    "dt1.fit(X_train_scaled,y_train)"
   ]
  },
  {
   "cell_type": "code",
   "execution_count": 174,
   "metadata": {},
   "outputs": [
    {
     "name": "stdout",
     "output_type": "stream",
     "text": [
      "Train score: 1.0\n"
     ]
    }
   ],
   "source": [
    "print(\"Train score:\",dt1.score(X_train_scaled,y_train))"
   ]
  },
  {
   "cell_type": "code",
   "execution_count": 175,
   "metadata": {},
   "outputs": [
    {
     "name": "stdout",
     "output_type": "stream",
     "text": [
      "Train score: 0.7663796330962186\n"
     ]
    }
   ],
   "source": [
    "print(\"Train score:\",dt1.score(X_test_scaled,y_test))"
   ]
  },
  {
   "cell_type": "code",
   "execution_count": 176,
   "metadata": {},
   "outputs": [
    {
     "name": "stdout",
     "output_type": "stream",
     "text": [
      "Fitting 10 folds for each of 192 candidates, totalling 1920 fits\n"
     ]
    },
    {
     "name": "stderr",
     "output_type": "stream",
     "text": [
      "[Parallel(n_jobs=2)]: Using backend LokyBackend with 2 concurrent workers.\n",
      "[Parallel(n_jobs=2)]: Done  46 tasks      | elapsed:    5.8s\n",
      "[Parallel(n_jobs=2)]: Done 342 tasks      | elapsed:   27.8s\n",
      "[Parallel(n_jobs=2)]: Done 842 tasks      | elapsed:  1.6min\n",
      "[Parallel(n_jobs=2)]: Done 1542 tasks      | elapsed:  2.9min\n",
      "[Parallel(n_jobs=2)]: Done 1917 out of 1920 | elapsed:  3.9min remaining:    0.3s\n",
      "[Parallel(n_jobs=2)]: Done 1920 out of 1920 | elapsed:  3.9min finished\n"
     ]
    },
    {
     "data": {
      "text/plain": [
       "GridSearchCV(cv=10, estimator=DecisionTreeClassifier(), n_jobs=2,\n",
       "             param_grid={'criterion': ('gini', 'entropy'),\n",
       "                         'max_depth': [2, 4, 6, 8, 9, 10, 11, 12],\n",
       "                         'min_samples_leaf': [2, 5, 10],\n",
       "                         'min_samples_split': [2, 3, 4, 5]},\n",
       "             verbose=1)"
      ]
     },
     "execution_count": 176,
     "metadata": {},
     "output_type": "execute_result"
    }
   ],
   "source": [
    "from sklearn.model_selection import GridSearchCV\n",
    "\n",
    "parameters = {'criterion' : ('gini','entropy'),\n",
    "              'min_samples_split':[2,3,4,5],\n",
    "              'max_depth': [2,4,6,8,9,10,11,12],\n",
    "              'min_samples_leaf':[2,5,10]}\n",
    "\n",
    "tr = DecisionTreeClassifier()\n",
    "\n",
    "gsearch = GridSearchCV(tr, parameters, cv=10, verbose=1, n_jobs=2)\n",
    "\n",
    "gsearch.fit(X_train_scaled, y_train)"
   ]
  },
  {
   "cell_type": "code",
   "execution_count": 177,
   "metadata": {},
   "outputs": [
    {
     "data": {
      "text/plain": [
       "{'criterion': 'entropy',\n",
       " 'max_depth': 6,\n",
       " 'min_samples_leaf': 10,\n",
       " 'min_samples_split': 2}"
      ]
     },
     "execution_count": 177,
     "metadata": {},
     "output_type": "execute_result"
    }
   ],
   "source": [
    "gsearch.best_params_"
   ]
  },
  {
   "cell_type": "code",
   "execution_count": 178,
   "metadata": {},
   "outputs": [
    {
     "name": "stdout",
     "output_type": "stream",
     "text": [
      "Train score: 0.8474139948513925\n",
      "Test score: 0.8375140396855111\n"
     ]
    }
   ],
   "source": [
    "dt2=DecisionTreeClassifier(criterion=\"entropy\",max_depth=6,min_samples_leaf=10,min_samples_split=2)\n",
    "                          \n",
    "dt2.fit(X_train_scaled,y_train)\n",
    "print(\"Train score:\",dt2.score(X_train_scaled,y_train))\n",
    "print(\"Test score:\",dt2.score(X_test_scaled,y_test))"
   ]
  },
  {
   "cell_type": "code",
   "execution_count": 179,
   "metadata": {},
   "outputs": [],
   "source": [
    "pred_train=dt2.predict(X_train_scaled)"
   ]
  },
  {
   "cell_type": "code",
   "execution_count": 180,
   "metadata": {},
   "outputs": [],
   "source": [
    "pred_test=dt2.predict(X_test_scaled)"
   ]
  },
  {
   "cell_type": "code",
   "execution_count": 181,
   "metadata": {},
   "outputs": [
    {
     "data": {
      "text/plain": [
       "array([[16069,   777],\n",
       "       [ 2483,  2036]], dtype=int64)"
      ]
     },
     "execution_count": 181,
     "metadata": {},
     "output_type": "execute_result"
    }
   ],
   "source": [
    "metrics.confusion_matrix(y_train,pred_train)"
   ]
  },
  {
   "cell_type": "code",
   "execution_count": 182,
   "metadata": {},
   "outputs": [
    {
     "name": "stdout",
     "output_type": "stream",
     "text": [
      "              precision    recall  f1-score   support\n",
      "\n",
      "           0       0.87      0.95      0.91     16846\n",
      "           1       0.72      0.45      0.56      4519\n",
      "\n",
      "    accuracy                           0.85     21365\n",
      "   macro avg       0.79      0.70      0.73     21365\n",
      "weighted avg       0.84      0.85      0.83     21365\n",
      "\n"
     ]
    }
   ],
   "source": [
    "print(metrics.classification_report(y_train, pred_train))"
   ]
  },
  {
   "cell_type": "code",
   "execution_count": 183,
   "metadata": {},
   "outputs": [
    {
     "data": {
      "text/plain": [
       "array([[3991,  196],\n",
       "       [ 672,  483]], dtype=int64)"
      ]
     },
     "execution_count": 183,
     "metadata": {},
     "output_type": "execute_result"
    }
   ],
   "source": [
    "metrics.confusion_matrix(y_test,pred_test)"
   ]
  },
  {
   "cell_type": "code",
   "execution_count": 184,
   "metadata": {},
   "outputs": [
    {
     "name": "stdout",
     "output_type": "stream",
     "text": [
      "              precision    recall  f1-score   support\n",
      "\n",
      "           0       0.86      0.95      0.90      4187\n",
      "           1       0.71      0.42      0.53      1155\n",
      "\n",
      "    accuracy                           0.84      5342\n",
      "   macro avg       0.78      0.69      0.71      5342\n",
      "weighted avg       0.82      0.84      0.82      5342\n",
      "\n"
     ]
    }
   ],
   "source": [
    "print(metrics.classification_report(y_test, pred_test))"
   ]
  },
  {
   "cell_type": "markdown",
   "metadata": {},
   "source": [
    "### Random Forest"
   ]
  },
  {
   "cell_type": "code",
   "execution_count": 185,
   "metadata": {},
   "outputs": [
    {
     "data": {
      "text/plain": [
       "RandomForestClassifier()"
      ]
     },
     "execution_count": 185,
     "metadata": {},
     "output_type": "execute_result"
    }
   ],
   "source": [
    "rf1=RandomForestClassifier()\n",
    "rf1.fit(X_train_scaled,y_train)"
   ]
  },
  {
   "cell_type": "code",
   "execution_count": 186,
   "metadata": {},
   "outputs": [
    {
     "name": "stdout",
     "output_type": "stream",
     "text": [
      "Train R2 1.0\n",
      "Test R2 0.8416323474354175\n"
     ]
    }
   ],
   "source": [
    "print(\"Train R2\",rf1.score(X_train_scaled,y_train))\n",
    "print(\"Test R2\",rf1.score(X_test_scaled,y_test))"
   ]
  },
  {
   "cell_type": "code",
   "execution_count": 187,
   "metadata": {},
   "outputs": [
    {
     "name": "stdout",
     "output_type": "stream",
     "text": [
      "Fitting 10 folds for each of 128 candidates, totalling 1280 fits\n"
     ]
    },
    {
     "name": "stderr",
     "output_type": "stream",
     "text": [
      "[Parallel(n_jobs=2)]: Using backend LokyBackend with 2 concurrent workers.\n",
      "[Parallel(n_jobs=2)]: Done  46 tasks      | elapsed:    5.9s\n",
      "[Parallel(n_jobs=2)]: Done 196 tasks      | elapsed:  1.7min\n",
      "[Parallel(n_jobs=2)]: Done 446 tasks      | elapsed:  5.0min\n",
      "[Parallel(n_jobs=2)]: Done 796 tasks      | elapsed:  9.8min\n",
      "[Parallel(n_jobs=2)]: Done 1246 tasks      | elapsed: 16.6min\n",
      "[Parallel(n_jobs=2)]: Done 1280 out of 1280 | elapsed: 18.1min finished\n"
     ]
    },
    {
     "data": {
      "text/plain": [
       "GridSearchCV(cv=10, estimator=RandomForestClassifier(), n_jobs=2,\n",
       "             param_grid={'bootstrap': [True, False],\n",
       "                         'criterion': ['entropy', 'gini'],\n",
       "                         'max_depth': [3, 5, 7, 9],\n",
       "                         'max_features': ['log', 'sqrt'],\n",
       "                         'n_estimators': [50, 100, 150, 200]},\n",
       "             scoring='accuracy', verbose=1)"
      ]
     },
     "execution_count": 187,
     "metadata": {},
     "output_type": "execute_result"
    }
   ],
   "source": [
    "parameters={\"n_estimators\":[50,100,150,200],\n",
    "            \"criterion\":[\"entropy\",\"gini\"],\n",
    "            \"max_depth\":[3,5,7,9],\n",
    "#              \"min_samples_split\":[2,4,6,10],\n",
    "#              \"min_samples_leaf\":[2,4,6,10],\n",
    "            \"bootstrap\":[True,False],\n",
    "            \"max_features\":[\"log\",\"sqrt\"]\n",
    "           }\n",
    "\n",
    "rf=RandomForestClassifier()\n",
    "rf_gs=GridSearchCV(estimator=rf, param_grid=parameters, scoring=\"accuracy\", verbose=1, n_jobs=2, cv=10)\n",
    "rf_gs.fit(X_train_scaled,y_train)"
   ]
  },
  {
   "cell_type": "code",
   "execution_count": 188,
   "metadata": {},
   "outputs": [
    {
     "data": {
      "text/plain": [
       "{'bootstrap': False,\n",
       " 'criterion': 'gini',\n",
       " 'max_depth': 9,\n",
       " 'max_features': 'sqrt',\n",
       " 'n_estimators': 50}"
      ]
     },
     "execution_count": 188,
     "metadata": {},
     "output_type": "execute_result"
    }
   ],
   "source": [
    "rf_gs.best_params_"
   ]
  },
  {
   "cell_type": "code",
   "execution_count": 189,
   "metadata": {},
   "outputs": [
    {
     "name": "stdout",
     "output_type": "stream",
     "text": [
      "Train R2 : 0.8688041188860286\n",
      "Test R2 : 0.8412579558217896\n"
     ]
    }
   ],
   "source": [
    "rf3=RandomForestClassifier(criterion=\"gini\", max_depth=9, max_features=\"sqrt\", n_estimators=150, bootstrap=True, random_state=88)   \n",
    "rf3.fit(X_train_scaled, y_train)\n",
    "print(\"Train R2 :\",rf3.score(X_train_scaled, y_train))\n",
    "print(\"Test R2 :\",rf3.score(X_test_scaled, y_test))"
   ]
  },
  {
   "cell_type": "code",
   "execution_count": 190,
   "metadata": {},
   "outputs": [],
   "source": [
    "pred_train=rf3.predict(X_train_scaled)\n",
    "pred_test=rf3.predict(X_test_scaled)"
   ]
  },
  {
   "cell_type": "code",
   "execution_count": 191,
   "metadata": {},
   "outputs": [
    {
     "data": {
      "text/plain": [
       "array([[16494,   352],\n",
       "       [ 2451,  2068]], dtype=int64)"
      ]
     },
     "execution_count": 191,
     "metadata": {},
     "output_type": "execute_result"
    }
   ],
   "source": [
    "metrics.confusion_matrix(y_train,pred_train)"
   ]
  },
  {
   "cell_type": "code",
   "execution_count": 192,
   "metadata": {},
   "outputs": [
    {
     "name": "stdout",
     "output_type": "stream",
     "text": [
      "              precision    recall  f1-score   support\n",
      "\n",
      "           0       0.87      0.98      0.92     16846\n",
      "           1       0.85      0.46      0.60      4519\n",
      "\n",
      "    accuracy                           0.87     21365\n",
      "   macro avg       0.86      0.72      0.76     21365\n",
      "weighted avg       0.87      0.87      0.85     21365\n",
      "\n"
     ]
    }
   ],
   "source": [
    "print(metrics.classification_report(y_train, pred_train))"
   ]
  },
  {
   "cell_type": "code",
   "execution_count": 193,
   "metadata": {},
   "outputs": [
    {
     "data": {
      "text/plain": [
       "array([[4062,  125],\n",
       "       [ 723,  432]], dtype=int64)"
      ]
     },
     "execution_count": 193,
     "metadata": {},
     "output_type": "execute_result"
    }
   ],
   "source": [
    "metrics.confusion_matrix(y_test,pred_test)"
   ]
  },
  {
   "cell_type": "code",
   "execution_count": 194,
   "metadata": {},
   "outputs": [
    {
     "name": "stdout",
     "output_type": "stream",
     "text": [
      "              precision    recall  f1-score   support\n",
      "\n",
      "           0       0.85      0.97      0.91      4187\n",
      "           1       0.78      0.37      0.50      1155\n",
      "\n",
      "    accuracy                           0.84      5342\n",
      "   macro avg       0.81      0.67      0.71      5342\n",
      "weighted avg       0.83      0.84      0.82      5342\n",
      "\n"
     ]
    }
   ],
   "source": [
    "print(metrics.classification_report(y_test, pred_test))"
   ]
  },
  {
   "cell_type": "markdown",
   "metadata": {},
   "source": [
    "### ADABOOST"
   ]
  },
  {
   "cell_type": "code",
   "execution_count": 195,
   "metadata": {},
   "outputs": [],
   "source": [
    "adb=AdaBoostClassifier()"
   ]
  },
  {
   "cell_type": "code",
   "execution_count": 196,
   "metadata": {},
   "outputs": [
    {
     "name": "stdout",
     "output_type": "stream",
     "text": [
      "Train score 0.8519541305874093\n",
      "Test score 0.8450018719580681\n"
     ]
    }
   ],
   "source": [
    "adb.fit(X_train_scaled,y_train)\n",
    "print(\"Train score\",adb.score(X_train_scaled,y_train))\n",
    "print(\"Test score\",adb.score(X_test_scaled,y_test))"
   ]
  },
  {
   "cell_type": "code",
   "execution_count": 197,
   "metadata": {},
   "outputs": [
    {
     "name": "stdout",
     "output_type": "stream",
     "text": [
      "Train score 0.8507371869880646\n",
      "Test score 0.8440658929239985\n"
     ]
    }
   ],
   "source": [
    "adb1=AdaBoostClassifier(n_estimators=300,learning_rate=.1,random_state=88)\n",
    "\n",
    "adb1.fit(X_train_scaled,y_train)\n",
    "\n",
    "print(\"Train score\",adb1.score(X_train_scaled,y_train))\n",
    "print(\"Test score\",adb1.score(X_test_scaled,y_test))"
   ]
  },
  {
   "cell_type": "code",
   "execution_count": 198,
   "metadata": {},
   "outputs": [
    {
     "name": "stdout",
     "output_type": "stream",
     "text": [
      "Fitting 10 folds for each of 28 candidates, totalling 280 fits\n"
     ]
    },
    {
     "name": "stderr",
     "output_type": "stream",
     "text": [
      "[Parallel(n_jobs=2)]: Using backend LokyBackend with 2 concurrent workers.\n",
      "[Parallel(n_jobs=2)]: Done  46 tasks      | elapsed:  2.8min\n",
      "[Parallel(n_jobs=2)]: Done 196 tasks      | elapsed: 15.3min\n",
      "[Parallel(n_jobs=2)]: Done 280 out of 280 | elapsed: 23.7min finished\n"
     ]
    },
    {
     "data": {
      "text/plain": [
       "GridSearchCV(cv=10, estimator=AdaBoostClassifier(), n_jobs=2,\n",
       "             param_grid={'learning_rate': [1, 0.1, 0.01, 0.001],\n",
       "                         'n_estimators': [50, 100, 150, 200, 250, 300, 350]},\n",
       "             verbose=1)"
      ]
     },
     "execution_count": 198,
     "metadata": {},
     "output_type": "execute_result"
    }
   ],
   "source": [
    "from sklearn.model_selection import GridSearchCV\n",
    "\n",
    "params={\"n_estimators\":[50,100,150,200,250,300,350],\n",
    "            \"learning_rate\":[1,.1,.01,.001]}\n",
    "\n",
    "adb2=AdaBoostClassifier()\n",
    "           \n",
    "adb_gs=GridSearchCV(adb2,param_grid=params,cv=10,n_jobs=2,verbose=1)\n",
    "adb_gs.fit(X_train_scaled,y_train)"
   ]
  },
  {
   "cell_type": "code",
   "execution_count": 199,
   "metadata": {},
   "outputs": [
    {
     "data": {
      "text/plain": [
       "{'learning_rate': 1, 'n_estimators': 300}"
      ]
     },
     "execution_count": 199,
     "metadata": {},
     "output_type": "execute_result"
    }
   ],
   "source": [
    "adb_gs.best_params_"
   ]
  },
  {
   "cell_type": "code",
   "execution_count": 200,
   "metadata": {},
   "outputs": [
    {
     "name": "stdout",
     "output_type": "stream",
     "text": [
      "Train R2 : 0.8539199625555816\n",
      "Test R2 : 0.8451890677648821\n"
     ]
    }
   ],
   "source": [
    "adb3=AdaBoostClassifier(n_estimators=300,learning_rate=1, random_state=88)   \n",
    "adb3.fit(X_train_scaled, y_train)\n",
    "print(\"Train R2 :\",adb3.score(X_train_scaled, y_train))\n",
    "print(\"Test R2 :\",adb3.score(X_test_scaled, y_test))"
   ]
  },
  {
   "cell_type": "code",
   "execution_count": 201,
   "metadata": {},
   "outputs": [],
   "source": [
    "pred_train=adb3.predict(X_train_scaled)\n",
    "pred_test=adb3.predict(X_test_scaled)"
   ]
  },
  {
   "cell_type": "code",
   "execution_count": 202,
   "metadata": {},
   "outputs": [
    {
     "data": {
      "text/plain": [
       "array([[16026,   820],\n",
       "       [ 2301,  2218]], dtype=int64)"
      ]
     },
     "execution_count": 202,
     "metadata": {},
     "output_type": "execute_result"
    }
   ],
   "source": [
    "metrics.confusion_matrix(y_train,pred_train)"
   ]
  },
  {
   "cell_type": "code",
   "execution_count": 203,
   "metadata": {},
   "outputs": [
    {
     "name": "stdout",
     "output_type": "stream",
     "text": [
      "              precision    recall  f1-score   support\n",
      "\n",
      "           0       0.87      0.95      0.91     16846\n",
      "           1       0.73      0.49      0.59      4519\n",
      "\n",
      "    accuracy                           0.85     21365\n",
      "   macro avg       0.80      0.72      0.75     21365\n",
      "weighted avg       0.84      0.85      0.84     21365\n",
      "\n"
     ]
    }
   ],
   "source": [
    "print(metrics.classification_report(y_train, pred_train))"
   ]
  },
  {
   "cell_type": "code",
   "execution_count": 204,
   "metadata": {},
   "outputs": [
    {
     "data": {
      "text/plain": [
       "array([[3987,  200],\n",
       "       [ 627,  528]], dtype=int64)"
      ]
     },
     "execution_count": 204,
     "metadata": {},
     "output_type": "execute_result"
    }
   ],
   "source": [
    "metrics.confusion_matrix(y_test,pred_test)"
   ]
  },
  {
   "cell_type": "code",
   "execution_count": 205,
   "metadata": {},
   "outputs": [
    {
     "name": "stdout",
     "output_type": "stream",
     "text": [
      "              precision    recall  f1-score   support\n",
      "\n",
      "           0       0.86      0.95      0.91      4187\n",
      "           1       0.73      0.46      0.56      1155\n",
      "\n",
      "    accuracy                           0.85      5342\n",
      "   macro avg       0.79      0.70      0.73      5342\n",
      "weighted avg       0.83      0.85      0.83      5342\n",
      "\n"
     ]
    }
   ],
   "source": [
    "print(metrics.classification_report(y_test, pred_test))"
   ]
  },
  {
   "cell_type": "markdown",
   "metadata": {},
   "source": [
    "### XG Boost"
   ]
  },
  {
   "cell_type": "code",
   "execution_count": 206,
   "metadata": {},
   "outputs": [
    {
     "name": "stderr",
     "output_type": "stream",
     "text": [
      "C:\\Users\\hariharan\\Anaconda3\\lib\\site-packages\\xgboost\\sklearn.py:1146: UserWarning: The use of label encoder in XGBClassifier is deprecated and will be removed in a future release. To remove this warning, do the following: 1) Pass option use_label_encoder=False when constructing XGBClassifier object; and 2) Encode your labels (y) as integers starting with 0, i.e. 0, 1, 2, ..., [num_class - 1].\n",
      "  warnings.warn(label_encoder_deprecation_msg, UserWarning)\n"
     ]
    },
    {
     "name": "stdout",
     "output_type": "stream",
     "text": [
      "[21:13:05] WARNING: C:/Users/Administrator/workspace/xgboost-win64_release_1.4.0/src/learner.cc:1095: Starting in XGBoost 1.3.0, the default evaluation metric used with the objective 'binary:logistic' was changed from 'error' to 'logloss'. Explicitly set eval_metric if you'd like to restore the old behavior.\n",
      "Train score 0.9269365785162649\n",
      "Test score 0.840134780980906\n"
     ]
    }
   ],
   "source": [
    "xgb=XGBClassifier()\n",
    "xgb.fit(X_train_scaled,y_train)\n",
    "print(\"Train score\",xgb.score(X_train_scaled,y_train))\n",
    "print(\"Test score\",xgb.score(X_test_scaled,y_test))"
   ]
  },
  {
   "cell_type": "code",
   "execution_count": 207,
   "metadata": {},
   "outputs": [
    {
     "name": "stdout",
     "output_type": "stream",
     "text": [
      "Fitting 5 folds for each of 30 candidates, totalling 150 fits\n"
     ]
    },
    {
     "name": "stderr",
     "output_type": "stream",
     "text": [
      "[Parallel(n_jobs=2)]: Using backend LokyBackend with 2 concurrent workers.\n",
      "[Parallel(n_jobs=2)]: Done  46 tasks      | elapsed:  2.3min\n",
      "[Parallel(n_jobs=2)]: Done 150 out of 150 | elapsed: 13.6min finished\n",
      "C:\\Users\\hariharan\\Anaconda3\\lib\\site-packages\\xgboost\\sklearn.py:1146: UserWarning: The use of label encoder in XGBClassifier is deprecated and will be removed in a future release. To remove this warning, do the following: 1) Pass option use_label_encoder=False when constructing XGBClassifier object; and 2) Encode your labels (y) as integers starting with 0, i.e. 0, 1, 2, ..., [num_class - 1].\n",
      "  warnings.warn(label_encoder_deprecation_msg, UserWarning)\n"
     ]
    },
    {
     "name": "stdout",
     "output_type": "stream",
     "text": [
      "[21:26:45] WARNING: C:/Users/Administrator/workspace/xgboost-win64_release_1.4.0/src/learner.cc:1095: Starting in XGBoost 1.3.0, the default evaluation metric used with the objective 'binary:logistic' was changed from 'error' to 'logloss'. Explicitly set eval_metric if you'd like to restore the old behavior.\n"
     ]
    },
    {
     "data": {
      "text/plain": [
       "GridSearchCV(cv=5,\n",
       "             estimator=XGBClassifier(base_score=None, booster=None,\n",
       "                                     colsample_bylevel=None,\n",
       "                                     colsample_bynode=None,\n",
       "                                     colsample_bytree=None, gamma=None,\n",
       "                                     gpu_id=None, importance_type='gain',\n",
       "                                     interaction_constraints=None,\n",
       "                                     learning_rate=None, max_delta_step=None,\n",
       "                                     max_depth=None, min_child_weight=None,\n",
       "                                     missing=nan, monotone_constraints=None,\n",
       "                                     n_estimators=100, n_jobs=None,\n",
       "                                     num_parallel_tree=None, random_state=None,\n",
       "                                     reg_alpha=None, reg_lambda=None,\n",
       "                                     scale_pos_weight=None, subsample=None,\n",
       "                                     tree_method=None, validate_parameters=None,\n",
       "                                     verbosity=None),\n",
       "             n_jobs=2,\n",
       "             param_grid={'max_depth': [5, 7, 9, 11, 13, 15],\n",
       "                         'n_estimators': [50, 100, 150, 200, 250]},\n",
       "             verbose=1)"
      ]
     },
     "execution_count": 207,
     "metadata": {},
     "output_type": "execute_result"
    }
   ],
   "source": [
    "params={\"n_estimators\":[50,100,150,200,250],\n",
    "        \"max_depth\":[5,7,9,11,13,15]}\n",
    "        #\"min_child_weight\":[],\n",
    "        #\"subsample\":[],\n",
    "        #\"col_sample_bytree\":[],\n",
    "        #\"reg_alpha\":[],\n",
    "        #\"reg_lambda\":[]\n",
    "        \n",
    "        \n",
    "\n",
    "\n",
    "xgb1=XGBClassifier()\n",
    "           \n",
    "xgb_gs=GridSearchCV(xgb1,param_grid=params,cv=5,n_jobs=2,verbose=1)\n",
    "xgb_gs.fit(X_train_scaled,y_train)"
   ]
  },
  {
   "cell_type": "code",
   "execution_count": 208,
   "metadata": {},
   "outputs": [
    {
     "data": {
      "text/plain": [
       "{'max_depth': 5, 'n_estimators': 50}"
      ]
     },
     "execution_count": 208,
     "metadata": {},
     "output_type": "execute_result"
    }
   ],
   "source": [
    "xgb_gs.best_params_"
   ]
  },
  {
   "cell_type": "code",
   "execution_count": 209,
   "metadata": {},
   "outputs": [
    {
     "name": "stdout",
     "output_type": "stream",
     "text": [
      "[21:26:46] WARNING: C:/Users/Administrator/workspace/xgboost-win64_release_1.4.0/src/learner.cc:1095: Starting in XGBoost 1.3.0, the default evaluation metric used with the objective 'binary:logistic' was changed from 'error' to 'logloss'. Explicitly set eval_metric if you'd like to restore the old behavior.\n",
      "Train score 0.8823777205710274\n",
      "Test score 0.8438786971171846\n"
     ]
    }
   ],
   "source": [
    "xgb1=XGBClassifier(n_estimators=50,max_depth=5,random_state=88)\n",
    "\n",
    "xgb1.fit(X_train_scaled,y_train)\n",
    "\n",
    "print(\"Train score\",xgb1.score(X_train_scaled,y_train))\n",
    "print(\"Test score\",xgb1.score(X_test_scaled,y_test))"
   ]
  },
  {
   "cell_type": "code",
   "execution_count": 210,
   "metadata": {},
   "outputs": [],
   "source": [
    "pred_train=xgb1.predict(X_train_scaled)\n",
    "pred_test=xgb1.predict(X_test_scaled)"
   ]
  },
  {
   "cell_type": "code",
   "execution_count": 211,
   "metadata": {},
   "outputs": [
    {
     "data": {
      "text/plain": [
       "array([[16219,   627],\n",
       "       [ 1886,  2633]], dtype=int64)"
      ]
     },
     "execution_count": 211,
     "metadata": {},
     "output_type": "execute_result"
    }
   ],
   "source": [
    "metrics.confusion_matrix(y_train,pred_train)"
   ]
  },
  {
   "cell_type": "code",
   "execution_count": 212,
   "metadata": {},
   "outputs": [
    {
     "name": "stdout",
     "output_type": "stream",
     "text": [
      "              precision    recall  f1-score   support\n",
      "\n",
      "           0       0.90      0.96      0.93     16846\n",
      "           1       0.81      0.58      0.68      4519\n",
      "\n",
      "    accuracy                           0.88     21365\n",
      "   macro avg       0.85      0.77      0.80     21365\n",
      "weighted avg       0.88      0.88      0.87     21365\n",
      "\n"
     ]
    }
   ],
   "source": [
    "print(metrics.classification_report(y_train, pred_train))"
   ]
  },
  {
   "cell_type": "code",
   "execution_count": 213,
   "metadata": {},
   "outputs": [
    {
     "data": {
      "text/plain": [
       "array([[3952,  235],\n",
       "       [ 599,  556]], dtype=int64)"
      ]
     },
     "execution_count": 213,
     "metadata": {},
     "output_type": "execute_result"
    }
   ],
   "source": [
    "metrics.confusion_matrix(y_test,pred_test)"
   ]
  },
  {
   "cell_type": "code",
   "execution_count": 214,
   "metadata": {},
   "outputs": [
    {
     "name": "stdout",
     "output_type": "stream",
     "text": [
      "              precision    recall  f1-score   support\n",
      "\n",
      "           0       0.87      0.94      0.90      4187\n",
      "           1       0.70      0.48      0.57      1155\n",
      "\n",
      "    accuracy                           0.84      5342\n",
      "   macro avg       0.79      0.71      0.74      5342\n",
      "weighted avg       0.83      0.84      0.83      5342\n",
      "\n"
     ]
    }
   ],
   "source": [
    "print(metrics.classification_report(y_test, pred_test))"
   ]
  },
  {
   "cell_type": "markdown",
   "metadata": {},
   "source": [
    "### KNN"
   ]
  },
  {
   "cell_type": "code",
   "execution_count": 215,
   "metadata": {},
   "outputs": [
    {
     "name": "stdout",
     "output_type": "stream",
     "text": [
      "Train Score: 0.8521413526796162\n",
      "Test Score: 0.8026956196181205\n"
     ]
    }
   ],
   "source": [
    "knn1=KNeighborsClassifier()\n",
    "knn1.fit(X_train_scaled,y_train)\n",
    "print(\"Train Score:\",knn1.score(X_train_scaled,y_train))\n",
    "print(\"Test Score:\",knn1.score(X_test_scaled,y_test))\n"
   ]
  },
  {
   "cell_type": "code",
   "execution_count": 216,
   "metadata": {},
   "outputs": [
    {
     "name": "stdout",
     "output_type": "stream",
     "text": [
      "Train Score: 0.825415399017084\n",
      "Test Score: 0.8101834518906776\n"
     ]
    }
   ],
   "source": [
    "knn2=KNeighborsClassifier(n_neighbors=19)\n",
    "knn2.fit(X_train_scaled,y_train)\n",
    "print(\"Train Score:\",knn2.score(X_train_scaled,y_train))\n",
    "print(\"Test Score:\",knn2.score(X_test_scaled,y_test))"
   ]
  },
  {
   "cell_type": "code",
   "execution_count": 217,
   "metadata": {},
   "outputs": [
    {
     "name": "stdout",
     "output_type": "stream",
     "text": [
      "Train Score: 0.8206412356658086\n",
      "Test Score: 0.809247472856608\n"
     ]
    }
   ],
   "source": [
    "knn2=KNeighborsClassifier(n_neighbors=29)\n",
    "knn2.fit(X_train_scaled,y_train)\n",
    "print(\"Train Score:\",knn2.score(X_train_scaled,y_train))\n",
    "print(\"Test Score:\",knn2.score(X_test_scaled,y_test))"
   ]
  },
  {
   "cell_type": "code",
   "execution_count": 218,
   "metadata": {},
   "outputs": [],
   "source": [
    "#k=29 gives the best accuracy"
   ]
  },
  {
   "cell_type": "code",
   "execution_count": 219,
   "metadata": {},
   "outputs": [],
   "source": [
    "pred_train=knn2.predict(X_train_scaled)\n",
    "pred_test=knn2.predict(X_test_scaled)"
   ]
  },
  {
   "cell_type": "code",
   "execution_count": 220,
   "metadata": {},
   "outputs": [
    {
     "data": {
      "text/plain": [
       "array([[16621,   225],\n",
       "       [ 3607,   912]], dtype=int64)"
      ]
     },
     "execution_count": 220,
     "metadata": {},
     "output_type": "execute_result"
    }
   ],
   "source": [
    "metrics.confusion_matrix(y_train,pred_train)"
   ]
  },
  {
   "cell_type": "code",
   "execution_count": 221,
   "metadata": {},
   "outputs": [
    {
     "name": "stdout",
     "output_type": "stream",
     "text": [
      "              precision    recall  f1-score   support\n",
      "\n",
      "           0       0.82      0.99      0.90     16846\n",
      "           1       0.80      0.20      0.32      4519\n",
      "\n",
      "    accuracy                           0.82     21365\n",
      "   macro avg       0.81      0.59      0.61     21365\n",
      "weighted avg       0.82      0.82      0.78     21365\n",
      "\n"
     ]
    }
   ],
   "source": [
    "print(metrics.classification_report(y_train, pred_train))"
   ]
  },
  {
   "cell_type": "code",
   "execution_count": 222,
   "metadata": {},
   "outputs": [
    {
     "data": {
      "text/plain": [
       "array([[4120,   67],\n",
       "       [ 952,  203]], dtype=int64)"
      ]
     },
     "execution_count": 222,
     "metadata": {},
     "output_type": "execute_result"
    }
   ],
   "source": [
    "metrics.confusion_matrix(y_test,pred_test)"
   ]
  },
  {
   "cell_type": "code",
   "execution_count": 223,
   "metadata": {},
   "outputs": [
    {
     "name": "stdout",
     "output_type": "stream",
     "text": [
      "              precision    recall  f1-score   support\n",
      "\n",
      "           0       0.81      0.98      0.89      4187\n",
      "           1       0.75      0.18      0.28      1155\n",
      "\n",
      "    accuracy                           0.81      5342\n",
      "   macro avg       0.78      0.58      0.59      5342\n",
      "weighted avg       0.80      0.81      0.76      5342\n",
      "\n"
     ]
    }
   ],
   "source": [
    "print(metrics.classification_report(y_test, pred_test))"
   ]
  },
  {
   "cell_type": "markdown",
   "metadata": {},
   "source": [
    "Since the data involved here mainly consists of categorical variables, we will move along with tree based models like Decision Tree,Random Forest,AdaBoost,XGBoost\n",
    "\n",
    "Among all the tree based models,we are moving along with random forest as they unlike decision trees do not overfit.Also they provide good accuracy which we saw above (train-86,test-84).\n"
   ]
  },
  {
   "cell_type": "code",
   "execution_count": null,
   "metadata": {},
   "outputs": [],
   "source": []
  }
 ],
 "metadata": {
  "kernelspec": {
   "display_name": "Python 3",
   "language": "python",
   "name": "python3"
  },
  "language_info": {
   "codemirror_mode": {
    "name": "ipython",
    "version": 3
   },
   "file_extension": ".py",
   "mimetype": "text/x-python",
   "name": "python",
   "nbconvert_exporter": "python",
   "pygments_lexer": "ipython3",
   "version": "3.8.3"
  }
 },
 "nbformat": 4,
 "nbformat_minor": 4
}
